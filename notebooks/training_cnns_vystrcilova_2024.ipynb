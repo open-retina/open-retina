{
 "cells": [
  {
   "metadata": {
    "ExecuteTime": {
     "end_time": "2025-08-06T12:39:11.818583Z",
     "start_time": "2025-08-06T12:39:11.170383Z"
    }
   },
   "cell_type": "code",
   "source": "%load_ext autoreload",
   "id": "a109e0391457fd92",
   "outputs": [],
   "execution_count": 1
  },
  {
   "metadata": {
    "ExecuteTime": {
     "end_time": "2025-08-06T12:39:33.722355Z",
     "start_time": "2025-08-06T12:39:13.165721Z"
    }
   },
   "cell_type": "code",
   "source": [
    "import os\n",
    "\n",
    "import hydra\n",
    "import lightning\n",
    "import wandb\n",
    "from openretina.data_io.cyclers import LongCycler, ShortCycler"
   ],
   "id": "a93916c08fe75e08",
   "outputs": [
    {
     "name": "stderr",
     "output_type": "stream",
     "text": [
      "/user/vystrcilova/u14647/.conda/envs/venv_or/lib/python3.12/site-packages/requests/__init__.py:86: RequestsDependencyWarning: Unable to find acceptable character detection dependency (chardet or charset_normalizer).\n",
      "  warnings.warn(\n"
     ]
    }
   ],
   "execution_count": 2
  },
  {
   "metadata": {
    "ExecuteTime": {
     "end_time": "2025-08-06T12:42:08.911860Z",
     "start_time": "2025-08-06T12:39:33.759927Z"
    }
   },
   "cell_type": "code",
   "source": [
    "with hydra.initialize(config_path=\"../configs\", version_base=\"1.3\"):\n",
    "    cfg = hydra.compose(config_name=\"vystrcilova_2024_nm_cnn.yaml\")\n",
    "print(cfg)\n",
    "cfg.dataloader.num_of_frames = cfg.model.temporal_kernel_sizes[0]\n",
    "cfg.dataloader.num_of_layers = len(cfg.model.temporal_kernel_sizes)\n",
    "dataloaders = hydra.utils.instantiate(cfg.dataloader)\n",
    "n_neurons_dict = {}\n",
    "for index in cfg.dataloader.files.keys():\n",
    "    n_neurons_dict[index] = dataloaders['train'][index].dataset.n_neurons\n"
   ],
   "id": "e443287456d12aa9",
   "outputs": [
    {
     "name": "stdout",
     "output_type": "stream",
     "text": [
      "{'data_io': {'basepath_nm': '/projects/extern/nhr/nhr_ni/nim00010/dir.project/marmoset_data/', 'cache_dir': '/projects/extern/nhr/nhr_ni/nim00010/dir.project/', 'response_path': 'responses', 'image_path': 'stimuli_padded_4/', 'stas_path': 'stas', 'sta_file': 'cell_data_01_WN_stas_cell'}, 'dataloader': {'_target_': 'openretina.data_io.sridhar_2025.dataloaders.frame_movie_loader', '_convert_': 'object', 'basepath': '/projects/extern/nhr/nhr_ni/nim00010/dir.project/marmoset_data/', 'files': {'01': 'responses/cell_responses_01_fixation_movie.pkl', '02': 'responses/cell_responses_02_fixation_movie.pkl', '03': 'responses/cell_responses_03_fixation_movie.pkl', '04': 'responses/cell_responses_04_fixation_movie.pkl'}, 'fixation_files': {'01': 'fixations/complete_fixations_seed_2022and2023_s4_fixed.txt', '02': 'fixations/complete_fixations_seed2022_s4.txt', '03': 'fixations/complete_fixations_seed_2022and2023_s4_fixed.txt', '04': 'fixations/complete_fixations_seed_2022and2023_s4_fixed.txt'}, 'big_crops': {'01': [35, 35, 55, 55], '02': [35, 35, 55, 55], '03': [35, 35, 55, 55], '04': [35, 35, 55, 55]}, 'frame_file': '_img_', 'img_dir_name': 'stimuli_padded_4', 'full_img_h': 300, 'full_img_w': 350, 'img_h': 150, 'img_w': 200, 'final_training': False, 'padding': 50, 'batch_size': 16, 'seed': None, 'train_frac': 0.8, 'subsample': 1, 'crop': 0, 'cell_index': None, 'num_of_trials_to_use': None, 'start_using_trial': 0, 'num_of_frames': 30, 'num_of_hidden_frames': 5, 'temporal_dilation': 1, 'hidden_temporal_dilation': 1, 'retina_index': None, 'device': 'cuda', 'time_chunk_size': 100, 'num_of_layers': 1, 'excluded_cells': {'01': [], '02': [], '03': [], '04': []}, 'retina_specific_crops': True, 'hard_coded': None, 'flip_imgs': False, 'shuffle': None, 'get_locations': True, 'sta_dir': 'stas'}, 'model': {'_target_': 'openretina.models.core_readout.CoreGaussianReadout', '_convert_': 'object', 'in_shape': '???', 'hidden_channels': [16], 'temporal_kernel_sizes': [35], 'spatial_kernel_sizes': [21], 'core_gamma_input': 0.0, 'core_gamma_in_sparse': 0.0, 'core_gamma_hidden': 0.0, 'core_gamma_temporal': 40.0, 'core_input_padding': False, 'core_hidden_padding': False, 'maxpool_every_n_layers': None, 'downsample_input_kernel_size': None, 'n_neurons_dict': '???', 'readout_bias': True, 'readout_gamma': 0.4, 'init_mu_range': 0.1, 'init_sigma_range': 0.15, 'readout_reg_avg': False, 'batch_sample': True, 'align_corners': True, 'gauss_type': 'full', 'grid_mean_predictor': None, 'shared_features': None, 'init_grid': None, 'shared_grid': None, 'mean_activity': None, 'learning_rate': 0.001, 'cut_first_n_frames_in_core': 0, 'dropout_rate': 0.0}, 'training_callbacks': {'early_stopping': {'_target_': 'lightning.pytorch.callbacks.EarlyStopping', 'monitor': 'val_correlation', 'min_delta': 0.001, 'patience': 10, 'verbose': True, 'mode': 'max', 'strict': True, 'check_finite': False}, 'lr_monitor': {'_target_': 'lightning.pytorch.callbacks.LearningRateMonitor', 'logging_interval': 'epoch', 'log_momentum': True, 'log_weight_decay': True}, 'model_checkpoint': {'_target_': 'lightning.pytorch.callbacks.ModelCheckpoint', 'dirpath': '${paths.output_dir}/checkpoints', 'filename': '{epoch:02d}_{val_correlation:.3f}', 'monitor': 'val_correlation', 'verbose': False, 'save_last': False, 'save_top_k': 1, 'mode': 'max', 'auto_insert_metric_name': True, 'save_weights_only': False, 'every_n_train_steps': None, 'train_time_interval': None, 'every_n_epochs': None, 'save_on_train_epoch_end': None}}, 'logger': {'wandb': {'_target_': 'lightning.pytorch.loggers.wandb.WandbLogger', 'offline': False, 'project': '???', 'version': '${now:%Y-%m-%d_%H-%M-%S}', 'log_model': 'all', 'save_dir': '${paths.output_dir}'}, 'csv': {'_target_': 'lightning.pytorch.loggers.csv_logs.CSVLogger', 'save_dir': '${paths.output_dir}', 'name': 'csv/', 'prefix': '', 'version': ''}}, 'trainer': {'_target_': 'lightning.Trainer', 'default_root_dir': '${paths.output_dir}', 'deterministic': 'warn', 'max_epochs': 100, 'gradient_clip_val': 1, 'precision': '32-true', 'accumulate_grad_batches': 1}, 'exp_name': 'vystrcilova_2024_nm_core_readout', 'seed': 42, 'check_stimuli_responses_match': False, 'paths': {'load_model_path': None, 'cache_dir': '${oc.env:OPENRETINA_CACHE_DIRECTORY}', 'data_dir': '${paths.cache_dir}/data/', 'log_dir': '.', 'output_dir': '${hydra:runtime.output_dir}', 'movies_path': 'https://huggingface.co/datasets/open-retina/open-retina/blob/main/euler_lab/hoefling_2024/stimuli/rgc_natstim_18x16_joint_normalized_2024-01-11.zip', 'responses_path': 'https://huggingface.co/datasets/open-retina/open-retina/resolve/main/euler_lab/hoefling_2024/responses/rgc_natstim_2024-08-14.zip'}, 'matmul_precision': {'_target_': 'torch.set_float32_matmul_precision', 'precision': 'highest'}, 'only_train_readout': False}\n",
      "Loading all frames from: /projects/extern/nhr/nhr_ni/nim00010/dir.project/marmoset_data/stimuli_padded_4 into memory\n"
     ]
    },
    {
     "name": "stderr",
     "output_type": "stream",
     "text": [
      "100%|██████████| 14544/14544 [01:33<00:00, 155.17it/s]\n"
     ]
    },
    {
     "name": "stdout",
     "output_type": "stream",
     "text": [
      "Random seed 1000 has been set.\n",
      "train idx: [10 13 17 16  8  7  6 11  1 14  5  0  9  3 19 15]\n",
      "val idx: [12 18 20  2  4]\n",
      "Trial separation for 01\n",
      "training trials:  16 [10 13 17 16  8  7  6 11  1 14  5  0  9  3 19 15]\n",
      "validation trials:  5 [12 18 20  2  4] \n",
      "\n",
      "Random seed 1000 has been set.\n",
      "train idx: [7 6 9 1 2 8 0 3]\n",
      "val idx: [ 4 10  5]\n",
      "Trial separation for 02\n",
      "training trials:  8 [7 6 9 1 2 8 0 3]\n",
      "validation trials:  3 [ 4 10  5] \n",
      "\n",
      "Random seed 1000 has been set.\n",
      "train idx: [16 11 18 10 12  5  6 17  9 19  0  2  7 14 15 13]\n",
      "val idx: [3 1 8 4]\n",
      "Trial separation for 03\n",
      "training trials:  16 [16 11 18 10 12  5  6 17  9 19  0  2  7 14 15 13]\n",
      "validation trials:  4 [3 1 8 4] \n",
      "\n",
      "Random seed 1000 has been set.\n",
      "train idx: [16 11 18 10 12  5  6 17  9 19  0  2  7 14 15 13]\n",
      "val idx: [3 1 8 4]\n",
      "Trial separation for 04\n",
      "training trials:  16 [16 11 18 10 12  5  6 17  9 19  0  2  7 14 15 13]\n",
      "validation trials:  4 [3 1 8 4] \n",
      "\n"
     ]
    }
   ],
   "execution_count": 3
  },
  {
   "metadata": {
    "ExecuteTime": {
     "end_time": "2025-08-06T12:42:10.714453Z",
     "start_time": "2025-08-06T12:42:08.935362Z"
    }
   },
   "cell_type": "code",
   "source": [
    "input_shape = next(iter(dataloaders['train']['01']))\n",
    "cfg.model['in_shape'] = list(input_shape[0].shape[1:])\n",
    "cfg.model['n_neurons_dict'] = n_neurons_dict\n",
    "print(cfg.model.in_shape)"
   ],
   "id": "b5bba4c5ac25668",
   "outputs": [
    {
     "name": "stdout",
     "output_type": "stream",
     "text": [
      "[1, 134, 80, 90]\n"
     ]
    }
   ],
   "execution_count": 4
  },
  {
   "metadata": {
    "ExecuteTime": {
     "end_time": "2025-08-06T12:44:28.788496Z",
     "start_time": "2025-08-06T12:44:24.679598Z"
    }
   },
   "cell_type": "code",
   "source": [
    "model = hydra.utils.instantiate(cfg.model)\n",
    "batch = next(iter(dataloaders['train']['01']))\n",
    "print('input img shape', batch[0].shape)\n",
    "print('response shape', batch[1].shape)"
   ],
   "id": "bf0cf2d73cf8ff53",
   "outputs": [
    {
     "name": "stderr",
     "output_type": "stream",
     "text": [
      "/scratch-grete/projects/nim00010/open-retina/openretina/modules/readout/base.py:62: UserWarning: Readout is NOT initialized with mean activity but with 0!\n",
      "  warnings.warn(\"Readout is NOT initialized with mean activity but with 0!\")\n"
     ]
    },
    {
     "name": "stdout",
     "output_type": "stream",
     "text": [
      "input img shape torch.Size([16, 1, 134, 80, 90])\n",
      "response shape torch.Size([16, 100, 370])\n"
     ]
    }
   ],
   "execution_count": 5
  },
  {
   "metadata": {},
   "cell_type": "code",
   "source": "%autoreload",
   "id": "ece3910a0542c200",
   "outputs": [],
   "execution_count": null
  },
  {
   "metadata": {
    "ExecuteTime": {
     "end_time": "2025-08-06T12:44:43.638561Z",
     "start_time": "2025-08-06T12:44:28.862404Z"
    }
   },
   "cell_type": "code",
   "source": "model(batch[0])",
   "id": "42cf81b8be2d757b",
   "outputs": [
    {
     "data": {
      "text/plain": [
       "tensor([[[0.7525, 0.6297, 0.7903,  ..., 0.6786, 0.8411, 0.7162],\n",
       "         [0.9230, 0.6043, 0.8601,  ..., 0.7616, 0.7039, 0.6800],\n",
       "         [0.7813, 0.6729, 0.7828,  ..., 0.8154, 0.7412, 0.7660],\n",
       "         ...,\n",
       "         [0.8298, 0.5970, 0.8077,  ..., 0.9255, 0.8073, 0.7437],\n",
       "         [0.8285, 0.7388, 0.7605,  ..., 0.8136, 0.8166, 0.9623],\n",
       "         [0.6986, 0.7408, 0.8166,  ..., 0.8063, 0.9615, 0.7313]],\n",
       "\n",
       "        [[0.8942, 0.8192, 0.9829,  ..., 0.7128, 0.6606, 0.8789],\n",
       "         [0.7369, 0.8318, 0.7846,  ..., 0.9193, 0.9106, 0.7390],\n",
       "         [0.7191, 0.6708, 0.8480,  ..., 0.9810, 0.6764, 0.8480],\n",
       "         ...,\n",
       "         [0.9009, 0.7809, 0.8225,  ..., 0.9069, 0.7218, 0.7831],\n",
       "         [0.7757, 0.7231, 0.7791,  ..., 0.6975, 0.8262, 0.7921],\n",
       "         [0.7229, 0.7438, 0.7891,  ..., 0.7783, 0.8071, 0.7521]],\n",
       "\n",
       "        [[0.9103, 0.8410, 0.8151,  ..., 0.7417, 0.8177, 0.8304],\n",
       "         [0.8411, 0.8550, 0.8510,  ..., 0.8496, 0.7439, 0.9647],\n",
       "         [0.8265, 0.9203, 0.8357,  ..., 0.8402, 0.6825, 1.0302],\n",
       "         ...,\n",
       "         [0.7859, 0.7611, 0.7842,  ..., 0.9276, 0.9397, 0.7773],\n",
       "         [0.7966, 0.7672, 0.7739,  ..., 1.1066, 0.8254, 0.7985],\n",
       "         [0.7982, 0.7911, 0.7850,  ..., 0.8094, 0.9330, 0.7658]],\n",
       "\n",
       "        ...,\n",
       "\n",
       "        [[0.7242, 0.6576, 0.8193,  ..., 0.7195, 0.9462, 0.8233],\n",
       "         [0.7435, 0.7122, 0.7520,  ..., 0.6279, 0.9168, 0.7644],\n",
       "         [0.8281, 0.8126, 0.6838,  ..., 0.8424, 0.8308, 0.7590],\n",
       "         ...,\n",
       "         [1.0026, 0.6994, 0.7486,  ..., 0.8295, 0.6747, 0.8481],\n",
       "         [0.6920, 0.7269, 0.7048,  ..., 0.7555, 0.6487, 0.7670],\n",
       "         [0.6652, 0.6082, 0.8468,  ..., 0.6524, 0.9812, 0.6637]],\n",
       "\n",
       "        [[0.7232, 0.6977, 0.9269,  ..., 0.5768, 0.9121, 0.7621],\n",
       "         [0.7802, 0.9628, 1.0342,  ..., 0.8084, 0.7160, 1.0356],\n",
       "         [0.7015, 0.7956, 0.7279,  ..., 0.7930, 0.7411, 0.8022],\n",
       "         ...,\n",
       "         [0.6706, 0.7728, 1.0236,  ..., 0.8872, 0.7196, 0.5964],\n",
       "         [0.8494, 0.7597, 0.7649,  ..., 0.8630, 0.7411, 0.6070],\n",
       "         [0.7872, 0.8829, 0.6079,  ..., 0.8784, 0.6762, 0.8932]],\n",
       "\n",
       "        [[0.7390, 0.6985, 0.8437,  ..., 0.7191, 0.7191, 0.7327],\n",
       "         [0.7206, 0.7700, 0.7254,  ..., 0.6596, 0.6761, 0.7171],\n",
       "         [0.7734, 0.7260, 0.7264,  ..., 0.6650, 0.7108, 0.7044],\n",
       "         ...,\n",
       "         [0.7221, 0.7814, 0.7119,  ..., 0.7147, 0.8090, 0.6833],\n",
       "         [0.6979, 0.6910, 0.7376,  ..., 0.7105, 0.7595, 0.7000],\n",
       "         [0.7012, 0.6630, 0.6659,  ..., 0.7409, 0.7242, 0.7052]]],\n",
       "       grad_fn=<CatBackward0>)"
      ]
     },
     "execution_count": 6,
     "metadata": {},
     "output_type": "execute_result"
    }
   ],
   "execution_count": 6
  },
  {
   "metadata": {
    "ExecuteTime": {
     "end_time": "2025-08-06T12:44:44.004475Z",
     "start_time": "2025-08-06T12:44:43.740544Z"
    }
   },
   "cell_type": "code",
   "source": [
    "log_save_path = os.path.join('/projects/extern/nhr/nhr_ni/nim00010/dir.project/logs', \"cnns_nm/\")\n",
    "os.makedirs(log_save_path, exist_ok=True, )\n",
    "\n",
    "logger = lightning.pytorch.loggers.WandbLogger(\n",
    "    name=\"\",\n",
    "    save_dir=log_save_path,\n",
    ")\n",
    "early_stopping = lightning.pytorch.callbacks.EarlyStopping(\n",
    "    monitor=\"val_correlation\",\n",
    "    patience=10,\n",
    "    mode=\"max\",\n",
    "    verbose=False,\n",
    "    min_delta=0.001,\n",
    ")\n",
    "\n",
    "lr_monitor = lightning.pytorch.callbacks.LearningRateMonitor(logging_interval=\"epoch\")\n",
    "\n",
    "model_checkpoint = lightning.pytorch.callbacks.ModelCheckpoint(\n",
    "    monitor=\"val_correlation\", mode=\"max\", save_weights_only=False\n",
    ")\n",
    "\n",
    "trainer = lightning.Trainer(max_epochs=100, logger=logger, callbacks=[early_stopping, lr_monitor, model_checkpoint],\n",
    "                            accelerator=\"gpu\", log_every_n_steps=10)"
   ],
   "id": "d78a47769788890c",
   "outputs": [
    {
     "name": "stderr",
     "output_type": "stream",
     "text": [
      "/user/vystrcilova/u14647/.conda/envs/venv_or/lib/python3.12/site-packages/lightning/fabric/plugins/environments/slurm.py:204: The `srun` command is available on your system but is not used. HINT: If your intention is to run Lightning on SLURM, prepend your python command with `srun` like so: srun python /user/vystrcilova/u14647/.conda/envs/venv_or/lib/pyt ...\n",
      "GPU available: True (cuda), used: True\n",
      "TPU available: False, using: 0 TPU cores\n",
      "HPU available: False, using: 0 HPUs\n"
     ]
    }
   ],
   "execution_count": 7
  },
  {
   "metadata": {
    "ExecuteTime": {
     "end_time": "2025-08-06T12:44:44.072093Z",
     "start_time": "2025-08-06T12:44:44.067439Z"
    }
   },
   "cell_type": "code",
   "source": [
    "train_loader = LongCycler(dataloaders[\"train\"])\n",
    "val_loader = LongCycler(dataloaders[\"validation\"])"
   ],
   "id": "68e64cccf473ef6b",
   "outputs": [],
   "execution_count": 8
  },
  {
   "metadata": {
    "ExecuteTime": {
     "end_time": "2025-08-07T15:09:38.983358Z",
     "start_time": "2025-08-06T12:45:21.921625Z"
    }
   },
   "cell_type": "code",
   "source": "trainer.fit(model, train_loader, val_loader)\n",
   "id": "5abc30b9025c246c",
   "outputs": [
    {
     "name": "stderr",
     "output_type": "stream",
     "text": [
      "You are using a CUDA device ('NVIDIA A100-SXM4-80GB MIG 1g.10gb') that has Tensor Cores. To properly utilize them, you should set `torch.set_float32_matmul_precision('medium' | 'high')` which will trade-off precision for performance. For more details, read https://pytorch.org/docs/stable/generated/torch.set_float32_matmul_precision.html#torch.set_float32_matmul_precision\n",
      "\u001B[34m\u001B[1mwandb\u001B[0m: Currently logged in as: \u001B[33mm_vys\u001B[0m (\u001B[33mretinal-circuit-modeling\u001B[0m) to \u001B[32mhttps://api.wandb.ai\u001B[0m. Use \u001B[1m`wandb login --relogin`\u001B[0m to force relogin\n"
     ]
    },
    {
     "data": {
      "text/plain": [
       "<IPython.core.display.HTML object>"
      ],
      "text/html": [
       "Tracking run with wandb version 0.21.0"
      ]
     },
     "metadata": {},
     "output_type": "display_data"
    },
    {
     "data": {
      "text/plain": [
       "<IPython.core.display.HTML object>"
      ],
      "text/html": [
       "Run data is saved locally in <code>/projects/extern/nhr/nhr_ni/nim00010/dir.project/logs/cnns_nm/wandb/run-20250806_144526-b3cr5h8v</code>"
      ]
     },
     "metadata": {},
     "output_type": "display_data"
    },
    {
     "data": {
      "text/plain": [
       "<IPython.core.display.HTML object>"
      ],
      "text/html": [
       "Syncing run <strong><a href='https://wandb.ai/retinal-circuit-modeling/lightning_logs/runs/b3cr5h8v' target=\"_blank\">olive-serenity-26</a></strong> to <a href='https://wandb.ai/retinal-circuit-modeling/lightning_logs' target=\"_blank\">Weights & Biases</a> (<a href='https://wandb.me/developer-guide' target=\"_blank\">docs</a>)<br>"
      ]
     },
     "metadata": {},
     "output_type": "display_data"
    },
    {
     "data": {
      "text/plain": [
       "<IPython.core.display.HTML object>"
      ],
      "text/html": [
       " View project at <a href='https://wandb.ai/retinal-circuit-modeling/lightning_logs' target=\"_blank\">https://wandb.ai/retinal-circuit-modeling/lightning_logs</a>"
      ]
     },
     "metadata": {},
     "output_type": "display_data"
    },
    {
     "data": {
      "text/plain": [
       "<IPython.core.display.HTML object>"
      ],
      "text/html": [
       " View run at <a href='https://wandb.ai/retinal-circuit-modeling/lightning_logs/runs/b3cr5h8v' target=\"_blank\">https://wandb.ai/retinal-circuit-modeling/lightning_logs/runs/b3cr5h8v</a>"
      ]
     },
     "metadata": {},
     "output_type": "display_data"
    },
    {
     "name": "stderr",
     "output_type": "stream",
     "text": [
      "LOCAL_RANK: 0 - CUDA_VISIBLE_DEVICES: [0]\n",
      "\n",
      "  | Name             | Type                               | Params | Mode \n",
      "--------------------------------------------------------------------------------\n",
      "0 | core             | SimpleCoreWrapper                  | 16.1 K | train\n",
      "1 | readout          | MultiSampledGaussianReadoutWrapper | 26.6 K | train\n",
      "2 | loss             | PoissonLoss3d                      | 0      | train\n",
      "3 | correlation_loss | CorrelationLoss3d                  | 0      | train\n",
      "--------------------------------------------------------------------------------\n",
      "42.7 K    Trainable params\n",
      "0         Non-trainable params\n",
      "42.7 K    Total params\n",
      "0.171     Total estimated model params size (MB)\n",
      "19        Modules in train mode\n",
      "0         Modules in eval mode\n"
     ]
    },
    {
     "data": {
      "text/plain": [
       "Sanity Checking: |          | 0/? [00:00<?, ?it/s]"
      ],
      "application/vnd.jupyter.widget-view+json": {
       "version_major": 2,
       "version_minor": 0,
       "model_id": "c7328f63bcc14620908f9934374b70a3"
      }
     },
     "metadata": {},
     "output_type": "display_data"
    },
    {
     "data": {
      "text/plain": [
       "Training: |          | 0/? [00:00<?, ?it/s]"
      ],
      "application/vnd.jupyter.widget-view+json": {
       "version_major": 2,
       "version_minor": 0,
       "model_id": "42d836c954ca417e8cc36008ff2f76ca"
      }
     },
     "metadata": {},
     "output_type": "display_data"
    },
    {
     "data": {
      "text/plain": [
       "Validation: |          | 0/? [00:00<?, ?it/s]"
      ],
      "application/vnd.jupyter.widget-view+json": {
       "version_major": 2,
       "version_minor": 0,
       "model_id": "a0546d6c125f4c6b85ecd83023b720cb"
      }
     },
     "metadata": {},
     "output_type": "display_data"
    },
    {
     "data": {
      "text/plain": [
       "Validation: |          | 0/? [00:00<?, ?it/s]"
      ],
      "application/vnd.jupyter.widget-view+json": {
       "version_major": 2,
       "version_minor": 0,
       "model_id": "6832e361304445ce879fc0d3ec713ad4"
      }
     },
     "metadata": {},
     "output_type": "display_data"
    },
    {
     "data": {
      "text/plain": [
       "Validation: |          | 0/? [00:00<?, ?it/s]"
      ],
      "application/vnd.jupyter.widget-view+json": {
       "version_major": 2,
       "version_minor": 0,
       "model_id": "22582aee159749fc9ff0167043968fa0"
      }
     },
     "metadata": {},
     "output_type": "display_data"
    },
    {
     "data": {
      "text/plain": [
       "Validation: |          | 0/? [00:00<?, ?it/s]"
      ],
      "application/vnd.jupyter.widget-view+json": {
       "version_major": 2,
       "version_minor": 0,
       "model_id": "1764895ac6c54d68895f8ab90f24373b"
      }
     },
     "metadata": {},
     "output_type": "display_data"
    },
    {
     "data": {
      "text/plain": [
       "Validation: |          | 0/? [00:00<?, ?it/s]"
      ],
      "application/vnd.jupyter.widget-view+json": {
       "version_major": 2,
       "version_minor": 0,
       "model_id": "3a00da013d9b47e3b9c02e2619363b5a"
      }
     },
     "metadata": {},
     "output_type": "display_data"
    },
    {
     "data": {
      "text/plain": [
       "Validation: |          | 0/? [00:00<?, ?it/s]"
      ],
      "application/vnd.jupyter.widget-view+json": {
       "version_major": 2,
       "version_minor": 0,
       "model_id": "a485dc12f11a456ea6e449e538f279ec"
      }
     },
     "metadata": {},
     "output_type": "display_data"
    },
    {
     "data": {
      "text/plain": [
       "Validation: |          | 0/? [00:00<?, ?it/s]"
      ],
      "application/vnd.jupyter.widget-view+json": {
       "version_major": 2,
       "version_minor": 0,
       "model_id": "2099f33f8ca24ec9aad0bfaea245f783"
      }
     },
     "metadata": {},
     "output_type": "display_data"
    },
    {
     "data": {
      "text/plain": [
       "Validation: |          | 0/? [00:00<?, ?it/s]"
      ],
      "application/vnd.jupyter.widget-view+json": {
       "version_major": 2,
       "version_minor": 0,
       "model_id": "7b7b5530270a40819aba21e3e7ecdcc5"
      }
     },
     "metadata": {},
     "output_type": "display_data"
    },
    {
     "data": {
      "text/plain": [
       "Validation: |          | 0/? [00:00<?, ?it/s]"
      ],
      "application/vnd.jupyter.widget-view+json": {
       "version_major": 2,
       "version_minor": 0,
       "model_id": "859f207cdc674c00b9c9293183f251f6"
      }
     },
     "metadata": {},
     "output_type": "display_data"
    },
    {
     "data": {
      "text/plain": [
       "Validation: |          | 0/? [00:00<?, ?it/s]"
      ],
      "application/vnd.jupyter.widget-view+json": {
       "version_major": 2,
       "version_minor": 0,
       "model_id": "c74af783a7e3449e8b11299901dd3e8d"
      }
     },
     "metadata": {},
     "output_type": "display_data"
    },
    {
     "data": {
      "text/plain": [
       "Validation: |          | 0/? [00:00<?, ?it/s]"
      ],
      "application/vnd.jupyter.widget-view+json": {
       "version_major": 2,
       "version_minor": 0,
       "model_id": "e0eaf65d167547938f1d930ee2fc9e62"
      }
     },
     "metadata": {},
     "output_type": "display_data"
    },
    {
     "data": {
      "text/plain": [
       "Validation: |          | 0/? [00:00<?, ?it/s]"
      ],
      "application/vnd.jupyter.widget-view+json": {
       "version_major": 2,
       "version_minor": 0,
       "model_id": "827404327cbf42f7b78d2bb5ebfa9f5e"
      }
     },
     "metadata": {},
     "output_type": "display_data"
    },
    {
     "data": {
      "text/plain": [
       "Validation: |          | 0/? [00:00<?, ?it/s]"
      ],
      "application/vnd.jupyter.widget-view+json": {
       "version_major": 2,
       "version_minor": 0,
       "model_id": "d2d7a356babd4bc18aa2dad229fead7f"
      }
     },
     "metadata": {},
     "output_type": "display_data"
    },
    {
     "data": {
      "text/plain": [
       "Validation: |          | 0/? [00:00<?, ?it/s]"
      ],
      "application/vnd.jupyter.widget-view+json": {
       "version_major": 2,
       "version_minor": 0,
       "model_id": "7d39e61a71be49e58eefedb815cd9b4e"
      }
     },
     "metadata": {},
     "output_type": "display_data"
    },
    {
     "data": {
      "text/plain": [
       "Validation: |          | 0/? [00:00<?, ?it/s]"
      ],
      "application/vnd.jupyter.widget-view+json": {
       "version_major": 2,
       "version_minor": 0,
       "model_id": "6c43d1a26d804ec5b6b14262bd7bcdb8"
      }
     },
     "metadata": {},
     "output_type": "display_data"
    },
    {
     "data": {
      "text/plain": [
       "Validation: |          | 0/? [00:00<?, ?it/s]"
      ],
      "application/vnd.jupyter.widget-view+json": {
       "version_major": 2,
       "version_minor": 0,
       "model_id": "a6dd62d8a5bf4fe19783a49c491a9f94"
      }
     },
     "metadata": {},
     "output_type": "display_data"
    },
    {
     "data": {
      "text/plain": [
       "Validation: |          | 0/? [00:00<?, ?it/s]"
      ],
      "application/vnd.jupyter.widget-view+json": {
       "version_major": 2,
       "version_minor": 0,
       "model_id": "5cb4367d835c4b1ca7faaa2bd726175d"
      }
     },
     "metadata": {},
     "output_type": "display_data"
    },
    {
     "data": {
      "text/plain": [
       "Validation: |          | 0/? [00:00<?, ?it/s]"
      ],
      "application/vnd.jupyter.widget-view+json": {
       "version_major": 2,
       "version_minor": 0,
       "model_id": "359975598ef6442b93a6636ecafa37b8"
      }
     },
     "metadata": {},
     "output_type": "display_data"
    },
    {
     "data": {
      "text/plain": [
       "Validation: |          | 0/? [00:00<?, ?it/s]"
      ],
      "application/vnd.jupyter.widget-view+json": {
       "version_major": 2,
       "version_minor": 0,
       "model_id": "f8516e54ddb14e1e8547f4ce4980da82"
      }
     },
     "metadata": {},
     "output_type": "display_data"
    },
    {
     "data": {
      "text/plain": [
       "Validation: |          | 0/? [00:00<?, ?it/s]"
      ],
      "application/vnd.jupyter.widget-view+json": {
       "version_major": 2,
       "version_minor": 0,
       "model_id": "4446ae598ac543efb31b04db744727f8"
      }
     },
     "metadata": {},
     "output_type": "display_data"
    },
    {
     "data": {
      "text/plain": [
       "Validation: |          | 0/? [00:00<?, ?it/s]"
      ],
      "application/vnd.jupyter.widget-view+json": {
       "version_major": 2,
       "version_minor": 0,
       "model_id": "efcfec6fc3684769b12b3eb36771e465"
      }
     },
     "metadata": {},
     "output_type": "display_data"
    },
    {
     "data": {
      "text/plain": [
       "Validation: |          | 0/? [00:00<?, ?it/s]"
      ],
      "application/vnd.jupyter.widget-view+json": {
       "version_major": 2,
       "version_minor": 0,
       "model_id": "609cd7915e2a461b910f276f6547a28a"
      }
     },
     "metadata": {},
     "output_type": "display_data"
    },
    {
     "data": {
      "text/plain": [
       "Validation: |          | 0/? [00:00<?, ?it/s]"
      ],
      "application/vnd.jupyter.widget-view+json": {
       "version_major": 2,
       "version_minor": 0,
       "model_id": "73b6184386274a6c99b457b2cdd3e526"
      }
     },
     "metadata": {},
     "output_type": "display_data"
    },
    {
     "data": {
      "text/plain": [
       "Validation: |          | 0/? [00:00<?, ?it/s]"
      ],
      "application/vnd.jupyter.widget-view+json": {
       "version_major": 2,
       "version_minor": 0,
       "model_id": "2d2359c8c09644258c024d77fddeb6b2"
      }
     },
     "metadata": {},
     "output_type": "display_data"
    },
    {
     "data": {
      "text/plain": [
       "Validation: |          | 0/? [00:00<?, ?it/s]"
      ],
      "application/vnd.jupyter.widget-view+json": {
       "version_major": 2,
       "version_minor": 0,
       "model_id": "bb198bb7d74e4d1087100f932f296c05"
      }
     },
     "metadata": {},
     "output_type": "display_data"
    },
    {
     "data": {
      "text/plain": [
       "Validation: |          | 0/? [00:00<?, ?it/s]"
      ],
      "application/vnd.jupyter.widget-view+json": {
       "version_major": 2,
       "version_minor": 0,
       "model_id": "76a789b999df4e6cab4afd7808e24df3"
      }
     },
     "metadata": {},
     "output_type": "display_data"
    },
    {
     "data": {
      "text/plain": [
       "Validation: |          | 0/? [00:00<?, ?it/s]"
      ],
      "application/vnd.jupyter.widget-view+json": {
       "version_major": 2,
       "version_minor": 0,
       "model_id": "a97b3729d2bd4edba99242c0d780eeac"
      }
     },
     "metadata": {},
     "output_type": "display_data"
    },
    {
     "data": {
      "text/plain": [
       "Validation: |          | 0/? [00:00<?, ?it/s]"
      ],
      "application/vnd.jupyter.widget-view+json": {
       "version_major": 2,
       "version_minor": 0,
       "model_id": "e22950044e5b4b71a0bd3269147b16ef"
      }
     },
     "metadata": {},
     "output_type": "display_data"
    },
    {
     "data": {
      "text/plain": [
       "Validation: |          | 0/? [00:00<?, ?it/s]"
      ],
      "application/vnd.jupyter.widget-view+json": {
       "version_major": 2,
       "version_minor": 0,
       "model_id": "d34bc01c19cd465fbae5fa597b0017f2"
      }
     },
     "metadata": {},
     "output_type": "display_data"
    },
    {
     "data": {
      "text/plain": [
       "Validation: |          | 0/? [00:00<?, ?it/s]"
      ],
      "application/vnd.jupyter.widget-view+json": {
       "version_major": 2,
       "version_minor": 0,
       "model_id": "0a9b457df1434123b1c12165c22cbf46"
      }
     },
     "metadata": {},
     "output_type": "display_data"
    },
    {
     "data": {
      "text/plain": [
       "Validation: |          | 0/? [00:00<?, ?it/s]"
      ],
      "application/vnd.jupyter.widget-view+json": {
       "version_major": 2,
       "version_minor": 0,
       "model_id": "76677f06b0b143bfac147c36d578701d"
      }
     },
     "metadata": {},
     "output_type": "display_data"
    },
    {
     "data": {
      "text/plain": [
       "Validation: |          | 0/? [00:00<?, ?it/s]"
      ],
      "application/vnd.jupyter.widget-view+json": {
       "version_major": 2,
       "version_minor": 0,
       "model_id": "25482a1a4776439a88aded408ab61883"
      }
     },
     "metadata": {},
     "output_type": "display_data"
    },
    {
     "data": {
      "text/plain": [
       "Validation: |          | 0/? [00:00<?, ?it/s]"
      ],
      "application/vnd.jupyter.widget-view+json": {
       "version_major": 2,
       "version_minor": 0,
       "model_id": "32d508df6907423fb90cafbd6119dbd1"
      }
     },
     "metadata": {},
     "output_type": "display_data"
    },
    {
     "data": {
      "text/plain": [
       "Validation: |          | 0/? [00:00<?, ?it/s]"
      ],
      "application/vnd.jupyter.widget-view+json": {
       "version_major": 2,
       "version_minor": 0,
       "model_id": "d5a85fcfa93f40579c8551e33e932a17"
      }
     },
     "metadata": {},
     "output_type": "display_data"
    },
    {
     "data": {
      "text/plain": [
       "Validation: |          | 0/? [00:00<?, ?it/s]"
      ],
      "application/vnd.jupyter.widget-view+json": {
       "version_major": 2,
       "version_minor": 0,
       "model_id": "d42c2c1304ff4d628c6b450e4b1dde83"
      }
     },
     "metadata": {},
     "output_type": "display_data"
    },
    {
     "data": {
      "text/plain": [
       "Validation: |          | 0/? [00:00<?, ?it/s]"
      ],
      "application/vnd.jupyter.widget-view+json": {
       "version_major": 2,
       "version_minor": 0,
       "model_id": "2257bf90f2fe4c74b4f337edbef01fc5"
      }
     },
     "metadata": {},
     "output_type": "display_data"
    },
    {
     "data": {
      "text/plain": [
       "Validation: |          | 0/? [00:00<?, ?it/s]"
      ],
      "application/vnd.jupyter.widget-view+json": {
       "version_major": 2,
       "version_minor": 0,
       "model_id": "85de28f127dc4d168991cf0798ffb4a7"
      }
     },
     "metadata": {},
     "output_type": "display_data"
    },
    {
     "data": {
      "text/plain": [
       "Validation: |          | 0/? [00:00<?, ?it/s]"
      ],
      "application/vnd.jupyter.widget-view+json": {
       "version_major": 2,
       "version_minor": 0,
       "model_id": "2f2d395392514dc195b3037ac1f34306"
      }
     },
     "metadata": {},
     "output_type": "display_data"
    },
    {
     "data": {
      "text/plain": [
       "Validation: |          | 0/? [00:00<?, ?it/s]"
      ],
      "application/vnd.jupyter.widget-view+json": {
       "version_major": 2,
       "version_minor": 0,
       "model_id": "e86fa78a2dca44e4a01cac757604ddfa"
      }
     },
     "metadata": {},
     "output_type": "display_data"
    },
    {
     "data": {
      "text/plain": [
       "Validation: |          | 0/? [00:00<?, ?it/s]"
      ],
      "application/vnd.jupyter.widget-view+json": {
       "version_major": 2,
       "version_minor": 0,
       "model_id": "5447a3420ea64eae848d432b09823621"
      }
     },
     "metadata": {},
     "output_type": "display_data"
    },
    {
     "data": {
      "text/plain": [
       "Validation: |          | 0/? [00:00<?, ?it/s]"
      ],
      "application/vnd.jupyter.widget-view+json": {
       "version_major": 2,
       "version_minor": 0,
       "model_id": "f40c1c514cdb452a882cf8714eb8de66"
      }
     },
     "metadata": {},
     "output_type": "display_data"
    },
    {
     "data": {
      "text/plain": [
       "Validation: |          | 0/? [00:00<?, ?it/s]"
      ],
      "application/vnd.jupyter.widget-view+json": {
       "version_major": 2,
       "version_minor": 0,
       "model_id": "27b6dde725104f4fa6b857c8bacdab52"
      }
     },
     "metadata": {},
     "output_type": "display_data"
    },
    {
     "data": {
      "text/plain": [
       "Validation: |          | 0/? [00:00<?, ?it/s]"
      ],
      "application/vnd.jupyter.widget-view+json": {
       "version_major": 2,
       "version_minor": 0,
       "model_id": "d57cf39737e3405b8e7f9f90fb6e9427"
      }
     },
     "metadata": {},
     "output_type": "display_data"
    },
    {
     "data": {
      "text/plain": [
       "Validation: |          | 0/? [00:00<?, ?it/s]"
      ],
      "application/vnd.jupyter.widget-view+json": {
       "version_major": 2,
       "version_minor": 0,
       "model_id": "7d37ba9af9ed462eb16d682291463e8a"
      }
     },
     "metadata": {},
     "output_type": "display_data"
    },
    {
     "data": {
      "text/plain": [
       "Validation: |          | 0/? [00:00<?, ?it/s]"
      ],
      "application/vnd.jupyter.widget-view+json": {
       "version_major": 2,
       "version_minor": 0,
       "model_id": "b5d18653b74e44ef9b425ab96e2dfffa"
      }
     },
     "metadata": {},
     "output_type": "display_data"
    },
    {
     "data": {
      "text/plain": [
       "Validation: |          | 0/? [00:00<?, ?it/s]"
      ],
      "application/vnd.jupyter.widget-view+json": {
       "version_major": 2,
       "version_minor": 0,
       "model_id": "893e4849c9cc4fbeb707794373231e64"
      }
     },
     "metadata": {},
     "output_type": "display_data"
    },
    {
     "data": {
      "text/plain": [
       "Validation: |          | 0/? [00:00<?, ?it/s]"
      ],
      "application/vnd.jupyter.widget-view+json": {
       "version_major": 2,
       "version_minor": 0,
       "model_id": "f8daee1de7974398a167f6144e3f800a"
      }
     },
     "metadata": {},
     "output_type": "display_data"
    },
    {
     "data": {
      "text/plain": [
       "Validation: |          | 0/? [00:00<?, ?it/s]"
      ],
      "application/vnd.jupyter.widget-view+json": {
       "version_major": 2,
       "version_minor": 0,
       "model_id": "cc2b6b7975d24cd1bc5cb049163a0d1c"
      }
     },
     "metadata": {},
     "output_type": "display_data"
    },
    {
     "data": {
      "text/plain": [
       "Validation: |          | 0/? [00:00<?, ?it/s]"
      ],
      "application/vnd.jupyter.widget-view+json": {
       "version_major": 2,
       "version_minor": 0,
       "model_id": "c41517b684604028a7848aaae7a9f7ad"
      }
     },
     "metadata": {},
     "output_type": "display_data"
    },
    {
     "data": {
      "text/plain": [
       "Validation: |          | 0/? [00:00<?, ?it/s]"
      ],
      "application/vnd.jupyter.widget-view+json": {
       "version_major": 2,
       "version_minor": 0,
       "model_id": "3a68e810e6ba45ebbc4bbdbd8c8b7258"
      }
     },
     "metadata": {},
     "output_type": "display_data"
    },
    {
     "data": {
      "text/plain": [
       "Validation: |          | 0/? [00:00<?, ?it/s]"
      ],
      "application/vnd.jupyter.widget-view+json": {
       "version_major": 2,
       "version_minor": 0,
       "model_id": "f6401d42e59a4664ae2289f3a43964d0"
      }
     },
     "metadata": {},
     "output_type": "display_data"
    },
    {
     "data": {
      "text/plain": [
       "Validation: |          | 0/? [00:00<?, ?it/s]"
      ],
      "application/vnd.jupyter.widget-view+json": {
       "version_major": 2,
       "version_minor": 0,
       "model_id": "38f11547e83f4981888b4882fe145118"
      }
     },
     "metadata": {},
     "output_type": "display_data"
    },
    {
     "data": {
      "text/plain": [
       "Validation: |          | 0/? [00:00<?, ?it/s]"
      ],
      "application/vnd.jupyter.widget-view+json": {
       "version_major": 2,
       "version_minor": 0,
       "model_id": "5c0710d1a2bf4aacb8d345ab0b186788"
      }
     },
     "metadata": {},
     "output_type": "display_data"
    },
    {
     "data": {
      "text/plain": [
       "Validation: |          | 0/? [00:00<?, ?it/s]"
      ],
      "application/vnd.jupyter.widget-view+json": {
       "version_major": 2,
       "version_minor": 0,
       "model_id": "44b8ea9bed57423fab59e91df69e9899"
      }
     },
     "metadata": {},
     "output_type": "display_data"
    },
    {
     "data": {
      "text/plain": [
       "Validation: |          | 0/? [00:00<?, ?it/s]"
      ],
      "application/vnd.jupyter.widget-view+json": {
       "version_major": 2,
       "version_minor": 0,
       "model_id": "c2c7b6cd01794de48a6c7282ddc2d200"
      }
     },
     "metadata": {},
     "output_type": "display_data"
    },
    {
     "data": {
      "text/plain": [
       "Validation: |          | 0/? [00:00<?, ?it/s]"
      ],
      "application/vnd.jupyter.widget-view+json": {
       "version_major": 2,
       "version_minor": 0,
       "model_id": "49c80311a9fe443e83d97579f68a483b"
      }
     },
     "metadata": {},
     "output_type": "display_data"
    },
    {
     "data": {
      "text/plain": [
       "Validation: |          | 0/? [00:00<?, ?it/s]"
      ],
      "application/vnd.jupyter.widget-view+json": {
       "version_major": 2,
       "version_minor": 0,
       "model_id": "093c36c4adfd44f7a315137cce6310bf"
      }
     },
     "metadata": {},
     "output_type": "display_data"
    },
    {
     "data": {
      "text/plain": [
       "Validation: |          | 0/? [00:00<?, ?it/s]"
      ],
      "application/vnd.jupyter.widget-view+json": {
       "version_major": 2,
       "version_minor": 0,
       "model_id": "56ba6971f90340b4997031095bec4307"
      }
     },
     "metadata": {},
     "output_type": "display_data"
    },
    {
     "data": {
      "text/plain": [
       "Validation: |          | 0/? [00:00<?, ?it/s]"
      ],
      "application/vnd.jupyter.widget-view+json": {
       "version_major": 2,
       "version_minor": 0,
       "model_id": "a90d7d6f49364794a74f568ea85850cf"
      }
     },
     "metadata": {},
     "output_type": "display_data"
    },
    {
     "data": {
      "text/plain": [
       "Validation: |          | 0/? [00:00<?, ?it/s]"
      ],
      "application/vnd.jupyter.widget-view+json": {
       "version_major": 2,
       "version_minor": 0,
       "model_id": "d6094acc3d464ccdb7dd6047e49a04ee"
      }
     },
     "metadata": {},
     "output_type": "display_data"
    },
    {
     "data": {
      "text/plain": [
       "Validation: |          | 0/? [00:00<?, ?it/s]"
      ],
      "application/vnd.jupyter.widget-view+json": {
       "version_major": 2,
       "version_minor": 0,
       "model_id": "4c4a9dff8caf4c869282cde2d9e1b022"
      }
     },
     "metadata": {},
     "output_type": "display_data"
    },
    {
     "data": {
      "text/plain": [
       "Validation: |          | 0/? [00:00<?, ?it/s]"
      ],
      "application/vnd.jupyter.widget-view+json": {
       "version_major": 2,
       "version_minor": 0,
       "model_id": "3bb95607e11d4d8486691a3e15901333"
      }
     },
     "metadata": {},
     "output_type": "display_data"
    },
    {
     "data": {
      "text/plain": [
       "Validation: |          | 0/? [00:00<?, ?it/s]"
      ],
      "application/vnd.jupyter.widget-view+json": {
       "version_major": 2,
       "version_minor": 0,
       "model_id": "7e647468c87c4a8199944d49309bce53"
      }
     },
     "metadata": {},
     "output_type": "display_data"
    },
    {
     "data": {
      "text/plain": [
       "Validation: |          | 0/? [00:00<?, ?it/s]"
      ],
      "application/vnd.jupyter.widget-view+json": {
       "version_major": 2,
       "version_minor": 0,
       "model_id": "afb2b7f2453e4bb89938e2e49721ded4"
      }
     },
     "metadata": {},
     "output_type": "display_data"
    },
    {
     "data": {
      "text/plain": [
       "Validation: |          | 0/? [00:00<?, ?it/s]"
      ],
      "application/vnd.jupyter.widget-view+json": {
       "version_major": 2,
       "version_minor": 0,
       "model_id": "af5ed21a34dd48eeb9e3e1a374c1c570"
      }
     },
     "metadata": {},
     "output_type": "display_data"
    },
    {
     "data": {
      "text/plain": [
       "Validation: |          | 0/? [00:00<?, ?it/s]"
      ],
      "application/vnd.jupyter.widget-view+json": {
       "version_major": 2,
       "version_minor": 0,
       "model_id": "5391a3a26a9d487294ef7c4caaecba1b"
      }
     },
     "metadata": {},
     "output_type": "display_data"
    },
    {
     "data": {
      "text/plain": [
       "Validation: |          | 0/? [00:00<?, ?it/s]"
      ],
      "application/vnd.jupyter.widget-view+json": {
       "version_major": 2,
       "version_minor": 0,
       "model_id": "6dd107ae463646eb9fa214cf38c9f705"
      }
     },
     "metadata": {},
     "output_type": "display_data"
    },
    {
     "data": {
      "text/plain": [
       "Validation: |          | 0/? [00:00<?, ?it/s]"
      ],
      "application/vnd.jupyter.widget-view+json": {
       "version_major": 2,
       "version_minor": 0,
       "model_id": "59e6867efd1148b1b23d151862ac6550"
      }
     },
     "metadata": {},
     "output_type": "display_data"
    },
    {
     "data": {
      "text/plain": [
       "Validation: |          | 0/? [00:00<?, ?it/s]"
      ],
      "application/vnd.jupyter.widget-view+json": {
       "version_major": 2,
       "version_minor": 0,
       "model_id": "f2c7a18b32c045f88382fbe8950fcb77"
      }
     },
     "metadata": {},
     "output_type": "display_data"
    }
   ],
   "execution_count": 9
  },
  {
   "metadata": {},
   "cell_type": "code",
   "source": "wandb.finish()",
   "id": "201c7953a902c911",
   "outputs": [],
   "execution_count": null
  },
  {
   "metadata": {},
   "cell_type": "code",
   "outputs": [],
   "execution_count": null,
   "source": [
    "import os\n",
    "\n",
    "import hydra\n",
    "import lightning\n",
    "import wandb\n",
    "from openretina.data_io.cyclers import LongCycler, ShortCycler"
   ],
   "id": "234918fd86182f85"
  },
  {
   "metadata": {},
   "cell_type": "code",
   "outputs": [],
   "execution_count": null,
   "source": [
    "    with hydra.initialize(config_path=\"configs\", version_base=\"1.3\"):\n",
    "        cfg = hydra.compose(config_name=\"vystrcilova_2024_nm_cnn.yaml\")\n",
    "    print(cfg)\n",
    "    cfg.dataloader.num_of_frames = cfg.model.temporal_kernel_sizes[0]\n",
    "    cfg.dataloader.num_of_layers = len(cfg.model.temporal_kernel_sizes)\n",
    "    dataloaders = hydra.utils.instantiate(cfg.dataloader)\n",
    "    n_neurons_dict = {}\n",
    "    for index in cfg.dataloader.files.keys():\n",
    "        n_neurons_dict[index] = dataloaders['train'][index].dataset.n_neurons\n",
    "\n",
    "    input_shape = next(iter(dataloaders['train']['01']))\n",
    "    cfg.model['in_shape'] = list(input_shape[0].shape[1:])\n",
    "    cfg.model['n_neurons_dict'] = n_neurons_dict\n",
    "    print(cfg.model.in_shape)\n",
    "\n",
    "    model = hydra.utils.instantiate(cfg.model)\n",
    "    batch = next(iter(dataloaders['train']['01']))\n",
    "    print('input img shape', batch[0].shape)\n",
    "    print('response shape', batch[1].shape)\n",
    "\n",
    "    log_save_path = os.path.join('/projects/extern/nhr/nhr_ni/nim00010/dir.project/logs', \"cnns_nm/\")\n",
    "    os.makedirs(log_save_path, exist_ok=True, )\n",
    "\n",
    "    logger = lightning.pytorch.loggers.WandbLogger(\n",
    "        name=\"\",\n",
    "        save_dir=log_save_path,\n",
    "    )\n",
    "    early_stopping = lightning.pytorch.callbacks.EarlyStopping(\n",
    "        monitor=\"val_correlation\",\n",
    "        patience=10,\n",
    "        mode=\"max\",\n",
    "        verbose=False,\n",
    "        min_delta=0.001,\n",
    "    )\n",
    "\n",
    "    lr_monitor = lightning.pytorch.callbacks.LearningRateMonitor(logging_interval=\"epoch\")\n",
    "\n",
    "    model_checkpoint = lightning.pytorch.callbacks.ModelCheckpoint(\n",
    "        monitor=\"val_correlation\", mode=\"max\", save_weights_only=False\n",
    "    )\n",
    "\n",
    "    trainer = lightning.Trainer(max_epochs=100, logger=logger, callbacks=[early_stopping, lr_monitor, model_checkpoint],\n",
    "                                accelerator=\"gpu\", log_every_n_steps=10)\n",
    "\n",
    "    train_loader = LongCycler(dataloaders[\"train\"])\n",
    "    val_loader = LongCycler(dataloaders[\"validation\"])\n",
    "\n",
    "    trainer.fit(model, train_loader, val_loader)\n",
    "    wandb.finish()"
   ],
   "id": "75cd599e5009a9d0"
  },
  {
   "metadata": {
    "ExecuteTime": {
     "start_time": "2025-08-05T16:30:16.112211Z"
    }
   },
   "cell_type": "code",
   "outputs": [],
   "execution_count": null,
   "source": [
    "    with hydra.initialize(config_path=\"configs\", version_base=\"1.3\"):\n",
    "        cfg = hydra.compose(config_name=\"vystrcilova_2024_nm_cnn.yaml\")\n",
    "    print(cfg)\n",
    "    cfg.dataloader.num_of_frames = cfg.model.temporal_kernel_sizes[0]\n",
    "    cfg.dataloader.num_of_layers = len(cfg.model.temporal_kernel_sizes)\n",
    "    dataloaders = hydra.utils.instantiate(cfg.dataloader)\n",
    "    n_neurons_dict = {}\n",
    "    for index in cfg.dataloader.files.keys():\n",
    "        n_neurons_dict[index] = dataloaders['train'][index].dataset.n_neurons\n",
    "\n",
    "    input_shape = next(iter(dataloaders['train']['01']))\n",
    "    cfg.model['in_shape'] = list(input_shape[0].shape[1:])\n",
    "    cfg.model['n_neurons_dict'] = n_neurons_dict\n",
    "    print(cfg.model.in_shape)\n",
    "\n",
    "    model = hydra.utils.instantiate(cfg.model)\n",
    "    batch = next(iter(dataloaders['train']['01']))\n",
    "    print('input img shape', batch[0].shape)\n",
    "    print('response shape', batch[1].shape)\n",
    "\n",
    "    log_save_path = os.path.join('/projects/extern/nhr/nhr_ni/nim00010/dir.project/logs', \"cnns_nm/\")\n",
    "    os.makedirs(log_save_path, exist_ok=True, )\n",
    "\n",
    "    logger = lightning.pytorch.loggers.WandbLogger(\n",
    "        name=\"\",\n",
    "        save_dir=log_save_path,\n",
    "    )\n",
    "    early_stopping = lightning.pytorch.callbacks.EarlyStopping(\n",
    "        monitor=\"val_correlation\",\n",
    "        patience=10,\n",
    "        mode=\"max\",\n",
    "        verbose=False,\n",
    "        min_delta=0.001,\n",
    "    )\n",
    "\n",
    "    lr_monitor = lightning.pytorch.callbacks.LearningRateMonitor(logging_interval=\"epoch\")\n",
    "\n",
    "    model_checkpoint = lightning.pytorch.callbacks.ModelCheckpoint(\n",
    "        monitor=\"val_correlation\", mode=\"max\", save_weights_only=False\n",
    "    )\n",
    "\n",
    "    trainer = lightning.Trainer(max_epochs=100, logger=logger, callbacks=[early_stopping, lr_monitor, model_checkpoint],\n",
    "                                accelerator=\"gpu\", log_every_n_steps=10)\n",
    "\n",
    "    train_loader = LongCycler(dataloaders[\"train\"])\n",
    "    val_loader = LongCycler(dataloaders[\"validation\"])\n",
    "\n",
    "    trainer.fit(model, train_loader, val_loader)\n",
    "    wandb.finish()"
   ],
   "id": "7c1628d641dfd2bf"
  },
  {
   "metadata": {},
   "cell_type": "code",
   "outputs": [],
   "execution_count": null,
   "source": "%load_ext autoreload\n",
   "id": "d9ec56628f18a5dc"
  },
  {
   "metadata": {},
   "cell_type": "code",
   "outputs": [],
   "execution_count": null,
   "source": [
    "with hydra.initialize(config_path=os.path.join(\"..\", \"configs\"), version_base=\"1.3\"):\n",
    "    cfg = hydra.compose(config_name=\"vystrcilova_2024_nm_cnn.yaml\")"
   ],
   "id": "a8946ca4c65426b1"
  },
  {
   "metadata": {},
   "cell_type": "code",
   "outputs": [],
   "execution_count": null,
   "source": "print(cfg)",
   "id": "7a8d171a7320e24d"
  },
  {
   "metadata": {},
   "cell_type": "code",
   "outputs": [],
   "execution_count": null,
   "source": [
    "cfg.dataloader.num_of_frames = cfg.model.temporal_kernel_sizes[0]\n",
    "cfg.dataloader.num_of_layers = len(cfg.model.temporal_kernel_sizes)"
   ],
   "id": "c6748f61d05e1867"
  },
  {
   "metadata": {},
   "cell_type": "code",
   "outputs": [],
   "execution_count": null,
   "source": "cfg.dataloader.num_of_hidden_frames",
   "id": "16b2213489cc78ff"
  },
  {
   "metadata": {},
   "cell_type": "code",
   "outputs": [],
   "execution_count": null,
   "source": "dataloaders = hydra.utils.instantiate(cfg.dataloader)",
   "id": "4d41f8dc01c2b234"
  },
  {
   "metadata": {},
   "cell_type": "code",
   "outputs": [],
   "execution_count": null,
   "source": "cfg.dataloader.files",
   "id": "98a9dbc96cb8d7ff"
  },
  {
   "metadata": {},
   "cell_type": "code",
   "outputs": [],
   "execution_count": null,
   "source": [
    "n_neurons_dict = {}\n",
    "for index in cfg.dataloader.files.keys():\n",
    "    n_neurons_dict[index] = dataloaders['train'][index].dataset.n_neurons\n"
   ],
   "id": "fd7b8ac0e46462dc"
  },
  {
   "metadata": {},
   "cell_type": "code",
   "outputs": [],
   "execution_count": null,
   "source": "input_shape = next(iter(dataloaders['train']['01']))",
   "id": "40084895b9b4d44b"
  },
  {
   "metadata": {},
   "cell_type": "code",
   "outputs": [],
   "execution_count": null,
   "source": [
    "cfg.model['in_shape'] = list(input_shape[0].shape[1:])\n",
    "cfg.model['n_neurons_dict'] = n_neurons_dict\n",
    "print(cfg.model.in_shape)"
   ],
   "id": "3cbeb0c38e4c8440"
  },
  {
   "metadata": {},
   "cell_type": "code",
   "outputs": [],
   "execution_count": null,
   "source": "%autoreload",
   "id": "bbb35af90ef512aa"
  },
  {
   "metadata": {},
   "cell_type": "code",
   "outputs": [],
   "execution_count": null,
   "source": "model = hydra.utils.instantiate(cfg.model)",
   "id": "77dc9e5e87b18f5c"
  },
  {
   "metadata": {},
   "cell_type": "code",
   "outputs": [],
   "execution_count": null,
   "source": "model",
   "id": "9d2a6ac61dcf1aac"
  },
  {
   "metadata": {},
   "cell_type": "code",
   "outputs": [],
   "execution_count": null,
   "source": "batch = next(iter(dataloaders['train']['01']))",
   "id": "7c53bf2516489afc"
  },
  {
   "metadata": {},
   "cell_type": "code",
   "outputs": [],
   "execution_count": null,
   "source": [
    "print('input img shape', batch[0].shape)\n",
    "print('response shape', batch[1].shape)"
   ],
   "id": "41ef8eae92bdd44"
  },
  {
   "metadata": {},
   "cell_type": "code",
   "outputs": [],
   "execution_count": null,
   "source": [
    "y = model(batch[0], '01')\n",
    "print(y)"
   ],
   "id": "9f56ac19e58423e7"
  },
  {
   "metadata": {},
   "cell_type": "code",
   "outputs": [],
   "execution_count": null,
   "source": [
    "log_save_path = os.path.join('/projects/extern/nhr/nhr_ni/nim00010/dir.project/logs', \"cnns_nm/\")\n",
    "os.makedirs(log_save_path, exist_ok=True, )\n",
    "\n",
    "\n",
    "logger = lightning.pytorch.loggers.WandbLogger(\n",
    "    name=\"\",\n",
    "    save_dir=log_save_path,\n",
    ")\n",
    "early_stopping = lightning.pytorch.callbacks.EarlyStopping(\n",
    "    monitor=\"val_correlation\",\n",
    "    patience=10,\n",
    "    mode=\"max\",\n",
    "    verbose=False,\n",
    "    min_delta=0.001,\n",
    ")\n",
    "\n",
    "lr_monitor = lightning.pytorch.callbacks.LearningRateMonitor(logging_interval=\"epoch\")\n",
    "\n",
    "model_checkpoint = lightning.pytorch.callbacks.ModelCheckpoint(\n",
    "    monitor=\"val_correlation\", mode=\"max\", save_weights_only=False\n",
    ")\n",
    "\n",
    "trainer = lightning.Trainer(max_epochs=100, logger=logger, callbacks=[early_stopping, lr_monitor, model_checkpoint],\n",
    "                            accelerator=\"gpu\", log_every_n_steps=10)"
   ],
   "id": "fe1a87519a4a9c08"
  },
  {
   "metadata": {},
   "cell_type": "code",
   "outputs": [],
   "execution_count": null,
   "source": [
    "train_loader = LongCycler(dataloaders[\"train\"])\n",
    "val_loader = LongCycler(dataloaders[\"validation\"])"
   ],
   "id": "d120d57ec715c629"
  },
  {
   "metadata": {},
   "cell_type": "code",
   "outputs": [],
   "execution_count": null,
   "source": "trainer.fit(model, train_loader, val_loader)\n",
   "id": "a0af84a8dfb5b372"
  },
  {
   "metadata": {},
   "cell_type": "code",
   "outputs": [],
   "execution_count": null,
   "source": "wandb.finish()",
   "id": "cd3400cefbe61b26"
  },
  {
   "metadata": {},
   "cell_type": "code",
   "outputs": [],
   "execution_count": null,
   "source": "import wandb",
   "id": "6d8b1ece058fee31"
  },
  {
   "metadata": {},
   "cell_type": "code",
   "outputs": [],
   "execution_count": null,
   "source": "",
   "id": "92089193f7bd7721"
  },
  {
   "metadata": {
    "ExecuteTime": {
     "end_time": "2025-08-05T16:29:38.640421Z",
     "start_time": "2025-08-05T16:29:38.629311Z"
    }
   },
   "cell_type": "code",
   "source": "%load_ext autoreload\n",
   "id": "d2c8efb22eb6ed40",
   "outputs": [
    {
     "name": "stdout",
     "output_type": "stream",
     "text": [
      "The autoreload extension is already loaded. To reload it, use:\n",
      "  %reload_ext autoreload\n"
     ]
    }
   ],
   "execution_count": 35
  },
  {
   "metadata": {
    "ExecuteTime": {
     "end_time": "2025-08-05T11:20:23.238314Z",
     "start_time": "2025-08-05T11:20:22.739435Z"
    }
   },
   "cell_type": "code",
   "source": [
    "with hydra.initialize(config_path=os.path.join(\"..\", \"configs\"), version_base=\"1.3\"):\n",
    "    cfg = hydra.compose(config_name=\"vystrcilova_2024_nm_cnn.yaml\")"
   ],
   "id": "4ff6c9b6c540a013",
   "outputs": [],
   "execution_count": 3
  },
  {
   "metadata": {
    "ExecuteTime": {
     "end_time": "2025-08-05T11:20:23.259520Z",
     "start_time": "2025-08-05T11:20:23.254772Z"
    }
   },
   "cell_type": "code",
   "source": "print(cfg)",
   "id": "8f7a50cddc628f8b",
   "outputs": [
    {
     "name": "stdout",
     "output_type": "stream",
     "text": [
      "{'data_io': {'basepath_nm': '/projects/extern/nhr/nhr_ni/nim00010/dir.project/marmoset_data/', 'cache_dir': '/projects/extern/nhr/nhr_ni/nim00010/dir.project/', 'response_path': 'responses', 'image_path': 'stimuli_padded_4/', 'stas_path': 'stas', 'sta_file': 'cell_data_01_WN_stas_cell'}, 'dataloader': {'_target_': 'openretina.data_io.sridhar_2025.dataloaders.frame_movie_loader', '_convert_': 'object', 'basepath': '/projects/extern/nhr/nhr_ni/nim00010/dir.project/marmoset_data/', 'files': {'01': 'responses/cell_responses_01_fixation_movie.pkl', '02': 'responses/cell_responses_02_fixation_movie.pkl', '03': 'responses/cell_responses_03_fixation_movie.pkl', '04': 'responses/cell_responses_04_fixation_movie.pkl'}, 'fixation_files': {'01': 'fixations/complete_fixations_seed_2022and2023_s4_fixed.txt', '02': 'fixations/complete_fixations_seed2022_s4.txt', '03': 'fixations/complete_fixations_seed_2022and2023_s4_fixed.txt', '04': 'fixations/complete_fixations_seed_2022and2023_s4_fixed.txt'}, 'big_crops': {'01': [35, 35, 55, 55], '02': [35, 35, 55, 55], '03': [35, 35, 55, 55], '04': [35, 35, 55, 55]}, 'frame_file': '_img_', 'img_dir_name': 'stimuli_padded_4', 'full_img_h': 300, 'full_img_w': 350, 'img_h': 150, 'img_w': 200, 'final_training': False, 'padding': 50, 'batch_size': 16, 'seed': None, 'train_frac': 0.8, 'subsample': 1, 'crop': 0, 'cell_index': None, 'num_of_trials_to_use': None, 'start_using_trial': 0, 'num_of_frames': 30, 'num_of_hidden_frames': 5, 'temporal_dilation': 1, 'hidden_temporal_dilation': 1, 'retina_index': None, 'device': 'cuda', 'time_chunk_size': 10, 'num_of_layers': 1, 'excluded_cells': {'01': [], '02': [], '03': [], '04': []}, 'retina_specific_crops': True, 'hard_coded': None, 'flip_imgs': False, 'shuffle': None, 'get_locations': True, 'sta_dir': 'stas'}, 'model': {'_target_': 'openretina.models.core_readout.CoreGaussianReadout', '_convert_': 'object', 'in_shape': '???', 'hidden_channels': [8], 'temporal_kernel_sizes': [15], 'spatial_kernel_sizes': [11], 'core_gamma_input': 0.0, 'core_gamma_in_sparse': 0.0, 'core_gamma_hidden': 0.0, 'core_gamma_temporal': 40.0, 'core_input_padding': False, 'core_hidden_padding': False, 'maxpool_every_n_layers': None, 'downsample_input_kernel_size': None, 'n_neurons_dict': '???', 'readout_bias': True, 'readout_gamma': 0.4, 'init_mu_range': 1, 'init_sigma_range': 0.1, 'readout_reg_avg': False, 'batch_sample': True, 'align_corners': True, 'gauss_type': 'full', 'grid_mean_predictor': None, 'shared_features': None, 'init_grid': None, 'shared_grid': None, 'mean_activity': None, 'learning_rate': 0.01, 'cut_first_n_frames_in_core': 0, 'dropout_rate': 0.0}, 'training_callbacks': {'early_stopping': {'_target_': 'lightning.pytorch.callbacks.EarlyStopping', 'monitor': 'val_correlation', 'min_delta': 0.001, 'patience': 10, 'verbose': True, 'mode': 'max', 'strict': True, 'check_finite': False}, 'lr_monitor': {'_target_': 'lightning.pytorch.callbacks.LearningRateMonitor', 'logging_interval': 'epoch', 'log_momentum': True, 'log_weight_decay': True}, 'model_checkpoint': {'_target_': 'lightning.pytorch.callbacks.ModelCheckpoint', 'dirpath': '${paths.output_dir}/checkpoints', 'filename': '{epoch:02d}_{val_correlation:.3f}', 'monitor': 'val_correlation', 'verbose': False, 'save_last': False, 'save_top_k': 1, 'mode': 'max', 'auto_insert_metric_name': True, 'save_weights_only': False, 'every_n_train_steps': None, 'train_time_interval': None, 'every_n_epochs': None, 'save_on_train_epoch_end': None}}, 'logger': {'wandb': {'_target_': 'lightning.pytorch.loggers.wandb.WandbLogger', 'offline': False, 'project': '???', 'version': '${now:%Y-%m-%d_%H-%M-%S}', 'log_model': 'all', 'save_dir': '${paths.output_dir}'}, 'csv': {'_target_': 'lightning.pytorch.loggers.csv_logs.CSVLogger', 'save_dir': '${paths.output_dir}', 'name': 'csv/', 'prefix': '', 'version': ''}}, 'trainer': {'_target_': 'lightning.Trainer', 'default_root_dir': '${paths.output_dir}', 'deterministic': 'warn', 'max_epochs': 100, 'gradient_clip_val': 1, 'precision': '32-true', 'accumulate_grad_batches': 1}, 'exp_name': 'vystrcilova_2024_nm_core_readout', 'seed': 42, 'check_stimuli_responses_match': False, 'paths': {'load_model_path': None, 'cache_dir': '${oc.env:OPENRETINA_CACHE_DIRECTORY}', 'data_dir': '${paths.cache_dir}/data/', 'log_dir': '.', 'output_dir': '${hydra:runtime.output_dir}', 'movies_path': 'https://huggingface.co/datasets/open-retina/open-retina/blob/main/euler_lab/hoefling_2024/stimuli/rgc_natstim_18x16_joint_normalized_2024-01-11.zip', 'responses_path': 'https://huggingface.co/datasets/open-retina/open-retina/resolve/main/euler_lab/hoefling_2024/responses/rgc_natstim_2024-08-14.zip'}, 'matmul_precision': {'_target_': 'torch.set_float32_matmul_precision', 'precision': 'highest'}, 'only_train_readout': False}\n"
     ]
    }
   ],
   "execution_count": 4
  },
  {
   "metadata": {
    "ExecuteTime": {
     "end_time": "2025-08-05T11:20:46.043803Z",
     "start_time": "2025-08-05T11:20:46.038293Z"
    }
   },
   "cell_type": "code",
   "source": [
    "cfg.dataloader.num_of_frames = cfg.model.temporal_kernel_sizes[0]\n",
    "cfg.dataloader.num_of_layers = len(cfg.model.temporal_kernel_sizes)"
   ],
   "id": "68232cfd9aa2f4d0",
   "outputs": [],
   "execution_count": 16
  },
  {
   "metadata": {
    "ExecuteTime": {
     "end_time": "2025-08-05T11:20:50.523542Z",
     "start_time": "2025-08-05T11:20:50.516388Z"
    }
   },
   "cell_type": "code",
   "source": "cfg.dataloader.num_of_hidden_frames",
   "id": "92930592e01b6a9",
   "outputs": [
    {
     "data": {
      "text/plain": [
       "5"
      ]
     },
     "execution_count": 17,
     "metadata": {},
     "output_type": "execute_result"
    }
   ],
   "execution_count": 17
  },
  {
   "metadata": {
    "ExecuteTime": {
     "end_time": "2025-08-05T11:22:43.973850Z",
     "start_time": "2025-08-05T11:20:50.867625Z"
    }
   },
   "cell_type": "code",
   "source": "dataloaders = hydra.utils.instantiate(cfg.dataloader)",
   "id": "6554062372d4c58c",
   "outputs": [
    {
     "name": "stdout",
     "output_type": "stream",
     "text": [
      "Loading all frames from: /projects/extern/nhr/nhr_ni/nim00010/dir.project/marmoset_data/stimuli_padded_4 into memory\n"
     ]
    },
    {
     "name": "stderr",
     "output_type": "stream",
     "text": [
      "100%|██████████| 14544/14544 [01:02<00:00, 233.30it/s]\n"
     ]
    },
    {
     "name": "stdout",
     "output_type": "stream",
     "text": [
      "Random seed 1000 has been set.\n",
      "train idx: [10 13 17 16  8  7  6 11  1 14  5  0  9  3 19 15]\n",
      "val idx: [12 18 20  2  4]\n",
      "Trial separation for 01\n",
      "training trials:  16 [10 13 17 16  8  7  6 11  1 14  5  0  9  3 19 15]\n",
      "validation trials:  5 [12 18 20  2  4] \n",
      "\n",
      "Random seed 1000 has been set.\n",
      "train idx: [7 6 9 1 2 8 0 3]\n",
      "val idx: [ 4 10  5]\n",
      "Trial separation for 02\n",
      "training trials:  8 [7 6 9 1 2 8 0 3]\n",
      "validation trials:  3 [ 4 10  5] \n",
      "\n",
      "Random seed 1000 has been set.\n",
      "train idx: [16 11 18 10 12  5  6 17  9 19  0  2  7 14 15 13]\n",
      "val idx: [3 1 8 4]\n",
      "Trial separation for 03\n",
      "training trials:  16 [16 11 18 10 12  5  6 17  9 19  0  2  7 14 15 13]\n",
      "validation trials:  4 [3 1 8 4] \n",
      "\n",
      "Random seed 1000 has been set.\n",
      "train idx: [16 11 18 10 12  5  6 17  9 19  0  2  7 14 15 13]\n",
      "val idx: [3 1 8 4]\n",
      "Trial separation for 04\n",
      "training trials:  16 [16 11 18 10 12  5  6 17  9 19  0  2  7 14 15 13]\n",
      "validation trials:  4 [3 1 8 4] \n",
      "\n"
     ]
    }
   ],
   "execution_count": 18
  },
  {
   "metadata": {
    "ExecuteTime": {
     "end_time": "2025-08-05T11:22:44.045413Z",
     "start_time": "2025-08-05T11:22:44.034719Z"
    }
   },
   "cell_type": "code",
   "source": "cfg.dataloader.files",
   "id": "316419edcbcd0cba",
   "outputs": [
    {
     "data": {
      "text/plain": [
       "{'01': 'responses/cell_responses_01_fixation_movie.pkl', '02': 'responses/cell_responses_02_fixation_movie.pkl', '03': 'responses/cell_responses_03_fixation_movie.pkl', '04': 'responses/cell_responses_04_fixation_movie.pkl'}"
      ]
     },
     "execution_count": 19,
     "metadata": {},
     "output_type": "execute_result"
    }
   ],
   "execution_count": 19
  },
  {
   "metadata": {
    "ExecuteTime": {
     "end_time": "2025-08-05T11:22:44.067881Z",
     "start_time": "2025-08-05T11:22:44.062889Z"
    }
   },
   "cell_type": "code",
   "source": [
    "n_neurons_dict = {}\n",
    "for index in cfg.dataloader.files.keys():\n",
    "    n_neurons_dict[index] = dataloaders['train'][index].dataset.n_neurons\n"
   ],
   "id": "c58012489701cc9c",
   "outputs": [],
   "execution_count": 20
  },
  {
   "metadata": {
    "ExecuteTime": {
     "end_time": "2025-08-05T11:22:44.418540Z",
     "start_time": "2025-08-05T11:22:44.116872Z"
    }
   },
   "cell_type": "code",
   "source": "input_shape = next(iter(dataloaders['train']['01']))",
   "id": "3fb5a2b0c337f236",
   "outputs": [],
   "execution_count": 21
  },
  {
   "metadata": {
    "ExecuteTime": {
     "end_time": "2025-08-05T11:22:44.475068Z",
     "start_time": "2025-08-05T11:22:44.467779Z"
    }
   },
   "cell_type": "code",
   "source": [
    "cfg.model['in_shape'] = list(input_shape[0].shape[1:])\n",
    "cfg.model['n_neurons_dict'] = n_neurons_dict\n",
    "print(cfg.model.in_shape)"
   ],
   "id": "47d2c2a805c55eea",
   "outputs": [
    {
     "name": "stdout",
     "output_type": "stream",
     "text": [
      "[1, 24, 80, 90]\n"
     ]
    }
   ],
   "execution_count": 22
  },
  {
   "metadata": {
    "ExecuteTime": {
     "end_time": "2025-08-05T13:49:50.104819Z",
     "start_time": "2025-08-05T13:49:47.526953Z"
    }
   },
   "cell_type": "code",
   "source": "%autoreload",
   "id": "1a11519b88bb1c5",
   "outputs": [],
   "execution_count": 33
  },
  {
   "metadata": {
    "ExecuteTime": {
     "end_time": "2025-08-05T11:22:46.675813Z",
     "start_time": "2025-08-05T11:22:46.537049Z"
    }
   },
   "cell_type": "code",
   "source": "model = hydra.utils.instantiate(cfg.model)",
   "id": "e6dd116b6673a33d",
   "outputs": [
    {
     "name": "stderr",
     "output_type": "stream",
     "text": [
      "/scratch-grete/projects/nim00010/open-retina/openretina/modules/readout/base.py:62: UserWarning: Readout is NOT initialized with mean activity but with 0!\n",
      "  warnings.warn(\"Readout is NOT initialized with mean activity but with 0!\")\n"
     ]
    }
   ],
   "execution_count": 24
  },
  {
   "metadata": {
    "ExecuteTime": {
     "end_time": "2025-08-05T11:22:46.725148Z",
     "start_time": "2025-08-05T11:22:46.718259Z"
    }
   },
   "cell_type": "code",
   "source": "model",
   "id": "bdf36ff62efd9124",
   "outputs": [
    {
     "data": {
      "text/plain": [
       "CoreGaussianReadout(\n",
       "  (core): <super: <class 'Core'>, <SimpleCoreWrapper object>> [SimpleCoreWrapper regularizers: gamma_hidden = 0.0|gamma_in_sparse = 0.0|gamma_input = 0.0|gamma_temporal = 40.0]\n",
       "  \n",
       "  (readout): MultiSampledGaussianReadoutWrapper(\n",
       "    (01): full FullGaussian2d (8 x 70 x 80 -> 370) with bias\n",
       "    (02): full FullGaussian2d (8 x 70 x 80 -> 182) with bias\n",
       "    (03): full FullGaussian2d (8 x 70 x 80 -> 495) with bias\n",
       "    (04): full FullGaussian2d (8 x 70 x 80 -> 110) with bias\n",
       "  )\n",
       "  (loss): PoissonLoss3d()\n",
       "  (correlation_loss): CorrelationLoss3d()\n",
       ")"
      ]
     },
     "execution_count": 25,
     "metadata": {},
     "output_type": "execute_result"
    }
   ],
   "execution_count": 25
  },
  {
   "metadata": {
    "ExecuteTime": {
     "end_time": "2025-08-05T11:22:47.071777Z",
     "start_time": "2025-08-05T11:22:46.795821Z"
    }
   },
   "cell_type": "code",
   "source": "batch = next(iter(dataloaders['train']['01']))",
   "id": "d0846e71a6b4a15a",
   "outputs": [],
   "execution_count": 26
  },
  {
   "metadata": {
    "ExecuteTime": {
     "end_time": "2025-08-05T11:22:47.141408Z",
     "start_time": "2025-08-05T11:22:47.136577Z"
    }
   },
   "cell_type": "code",
   "source": [
    "print('input img shape', batch[0].shape)\n",
    "print('response shape', batch[1].shape)"
   ],
   "id": "203b15fcb38b9cfe",
   "outputs": [
    {
     "name": "stdout",
     "output_type": "stream",
     "text": [
      "input img shape torch.Size([16, 1, 24, 80, 90])\n",
      "response shape torch.Size([16, 10, 370])\n"
     ]
    }
   ],
   "execution_count": 27
  },
  {
   "metadata": {
    "ExecuteTime": {
     "end_time": "2025-08-05T13:24:43.721652Z",
     "start_time": "2025-08-05T13:24:43.164818Z"
    }
   },
   "cell_type": "code",
   "source": [
    "y = model(batch[0], '01')\n",
    "print(y)"
   ],
   "id": "2d0fc89b9f18b21a",
   "outputs": [
    {
     "name": "stdout",
     "output_type": "stream",
     "text": [
      "tensor([[[-338.1945, -351.1412, -343.5503,  ..., -351.8071, -351.3875,\n",
      "          -351.5482],\n",
      "         [-338.1945, -351.1412, -343.5502,  ..., -351.8071, -351.3875,\n",
      "          -351.5482],\n",
      "         [-338.1945, -351.1412, -343.5503,  ..., -351.8071, -351.3875,\n",
      "          -351.5482],\n",
      "         ...,\n",
      "         [-338.1945, -351.1412, -343.5503,  ..., -351.8071, -351.3875,\n",
      "          -351.5482],\n",
      "         [-338.1945, -351.1412, -343.5503,  ..., -351.8071, -351.3875,\n",
      "          -351.5482],\n",
      "         [-338.1945, -351.1412, -343.5503,  ..., -351.8071, -351.3875,\n",
      "          -351.5482]],\n",
      "\n",
      "        [[-338.1945, -351.1412, -343.5503,  ..., -351.8071, -351.3875,\n",
      "          -351.5482],\n",
      "         [-338.1945, -351.1411, -343.5502,  ..., -351.8071, -351.3875,\n",
      "          -351.5482],\n",
      "         [-338.1945, -351.1412, -343.5503,  ..., -351.8071, -351.3875,\n",
      "          -351.5482],\n",
      "         ...,\n",
      "         [-338.1945, -351.1412, -343.5503,  ..., -351.8071, -351.3875,\n",
      "          -351.5482],\n",
      "         [-338.1945, -351.1412, -343.5503,  ..., -351.8071, -351.3874,\n",
      "          -351.5482],\n",
      "         [-338.1945, -351.1412, -343.5503,  ..., -351.8071, -351.3875,\n",
      "          -351.5482]],\n",
      "\n",
      "        [[-338.1945, -351.1412, -343.5503,  ..., -351.8071, -351.3875,\n",
      "          -351.5482],\n",
      "         [-338.1945, -351.1412, -343.5503,  ..., -351.8071, -351.3875,\n",
      "          -351.5482],\n",
      "         [-338.1945, -351.1412, -343.5503,  ..., -351.8071, -351.3875,\n",
      "          -351.5482],\n",
      "         ...,\n",
      "         [-338.1945, -351.1412, -343.5503,  ..., -351.8071, -351.3875,\n",
      "          -351.5482],\n",
      "         [-338.1945, -351.1411, -343.5503,  ..., -351.8071, -351.3875,\n",
      "          -351.5482],\n",
      "         [-338.1945, -351.1411, -343.5503,  ..., -351.8071, -351.3875,\n",
      "          -351.5482]],\n",
      "\n",
      "        ...,\n",
      "\n",
      "        [[-338.1945, -351.1412, -343.5503,  ..., -351.8071, -351.3875,\n",
      "          -351.5482],\n",
      "         [-338.1945, -351.1412, -343.5503,  ..., -351.8071, -351.3874,\n",
      "          -351.5482],\n",
      "         [-338.1945, -351.1412, -343.5503,  ..., -351.8071, -351.3875,\n",
      "          -351.5482],\n",
      "         ...,\n",
      "         [-338.1945, -351.1412, -343.5503,  ..., -351.8071, -351.3875,\n",
      "          -351.5482],\n",
      "         [-338.1945, -351.1412, -343.5503,  ..., -351.8071, -351.3875,\n",
      "          -351.5482],\n",
      "         [-338.1945, -351.1412, -343.5502,  ..., -351.8071, -351.3875,\n",
      "          -351.5482]],\n",
      "\n",
      "        [[-338.1945, -351.1412, -343.5503,  ..., -351.8071, -351.3875,\n",
      "          -351.5482],\n",
      "         [-338.1945, -351.1412, -343.5503,  ..., -351.8071, -351.3875,\n",
      "          -351.5482],\n",
      "         [-338.1945, -351.1412, -343.5503,  ..., -351.8071, -351.3875,\n",
      "          -351.5482],\n",
      "         ...,\n",
      "         [-338.1945, -351.1411, -343.5502,  ..., -351.8071, -351.3874,\n",
      "          -351.5482],\n",
      "         [-338.1945, -351.1412, -343.5503,  ..., -351.8071, -351.3875,\n",
      "          -351.5482],\n",
      "         [-338.1945, -351.1411, -343.5503,  ..., -351.8071, -351.3874,\n",
      "          -351.5482]],\n",
      "\n",
      "        [[-338.1945, -351.1411, -343.5503,  ..., -351.8071, -351.3875,\n",
      "          -351.5482],\n",
      "         [-338.1945, -351.1412, -343.5503,  ..., -351.8071, -351.3874,\n",
      "          -351.5482],\n",
      "         [-338.1945, -351.1412, -343.5502,  ..., -351.8071, -351.3875,\n",
      "          -351.5482],\n",
      "         ...,\n",
      "         [-338.1945, -351.1412, -343.5503,  ..., -351.8071, -351.3875,\n",
      "          -351.5482],\n",
      "         [-338.1945, -351.1412, -343.5502,  ..., -351.8071, -351.3875,\n",
      "          -351.5482],\n",
      "         [-338.1945, -351.1412, -343.5503,  ..., -351.8071, -351.3875,\n",
      "          -351.5482]]], grad_fn=<ViewBackward0>)\n"
     ]
    }
   ],
   "execution_count": 32
  },
  {
   "metadata": {
    "ExecuteTime": {
     "end_time": "2025-08-05T11:22:48.336445Z",
     "start_time": "2025-08-05T11:22:48.153987Z"
    }
   },
   "cell_type": "code",
   "source": [
    "log_save_path = os.path.join('/projects/extern/nhr/nhr_ni/nim00010/dir.project/logs', \"cnns_nm/\")\n",
    "os.makedirs(log_save_path, exist_ok=True, )\n",
    "\n",
    "\n",
    "logger = lightning.pytorch.loggers.WandbLogger(\n",
    "    name=\"\",\n",
    "    save_dir=log_save_path,\n",
    ")\n",
    "early_stopping = lightning.pytorch.callbacks.EarlyStopping(\n",
    "    monitor=\"val_correlation\",\n",
    "    patience=10,\n",
    "    mode=\"max\",\n",
    "    verbose=False,\n",
    "    min_delta=0.001,\n",
    ")\n",
    "\n",
    "lr_monitor = lightning.pytorch.callbacks.LearningRateMonitor(logging_interval=\"epoch\")\n",
    "\n",
    "model_checkpoint = lightning.pytorch.callbacks.ModelCheckpoint(\n",
    "    monitor=\"val_correlation\", mode=\"max\", save_weights_only=False\n",
    ")\n",
    "\n",
    "trainer = lightning.Trainer(max_epochs=100, logger=logger, callbacks=[early_stopping, lr_monitor, model_checkpoint],\n",
    "                            accelerator=\"gpu\", log_every_n_steps=10)"
   ],
   "id": "732e7dacd8db3417",
   "outputs": [
    {
     "name": "stderr",
     "output_type": "stream",
     "text": [
      "GPU available: True (cuda), used: True\n",
      "TPU available: False, using: 0 TPU cores\n",
      "HPU available: False, using: 0 HPUs\n"
     ]
    }
   ],
   "execution_count": 29
  },
  {
   "metadata": {
    "ExecuteTime": {
     "end_time": "2025-08-05T11:22:48.406988Z",
     "start_time": "2025-08-05T11:22:48.402600Z"
    }
   },
   "cell_type": "code",
   "source": [
    "train_loader = LongCycler(dataloaders[\"train\"])\n",
    "val_loader = LongCycler(dataloaders[\"validation\"])"
   ],
   "id": "b851dae56526acf3",
   "outputs": [],
   "execution_count": 30
  },
  {
   "metadata": {
    "ExecuteTime": {
     "end_time": "2025-08-05T12:59:48.217345Z",
     "start_time": "2025-08-05T11:22:48.511088Z"
    }
   },
   "cell_type": "code",
   "source": "trainer.fit(model, train_loader, val_loader)\n",
   "id": "e1764db95a5ea17e",
   "outputs": [
    {
     "name": "stderr",
     "output_type": "stream",
     "text": [
      "You are using a CUDA device ('NVIDIA A100-SXM4-40GB MIG 1g.10gb') that has Tensor Cores. To properly utilize them, you should set `torch.set_float32_matmul_precision('medium' | 'high')` which will trade-off precision for performance. For more details, read https://pytorch.org/docs/stable/generated/torch.set_float32_matmul_precision.html#torch.set_float32_matmul_precision\n",
      "\u001B[34m\u001B[1mwandb\u001B[0m: Currently logged in as: \u001B[33mm_vys\u001B[0m (\u001B[33mretinal-circuit-modeling\u001B[0m) to \u001B[32mhttps://api.wandb.ai\u001B[0m. Use \u001B[1m`wandb login --relogin`\u001B[0m to force relogin\n"
     ]
    },
    {
     "data": {
      "text/plain": [
       "<IPython.core.display.HTML object>"
      ],
      "text/html": [
       "Tracking run with wandb version 0.21.0"
      ]
     },
     "metadata": {},
     "output_type": "display_data"
    },
    {
     "data": {
      "text/plain": [
       "<IPython.core.display.HTML object>"
      ],
      "text/html": [
       "Run data is saved locally in <code>/projects/extern/nhr/nhr_ni/nim00010/dir.project/logs/cnns_nm/wandb/run-20250805_132252-wv4ld1e4</code>"
      ]
     },
     "metadata": {},
     "output_type": "display_data"
    },
    {
     "data": {
      "text/plain": [
       "<IPython.core.display.HTML object>"
      ],
      "text/html": [
       "Syncing run <strong><a href='https://wandb.ai/retinal-circuit-modeling/lightning_logs/runs/wv4ld1e4' target=\"_blank\">clear-dew-14</a></strong> to <a href='https://wandb.ai/retinal-circuit-modeling/lightning_logs' target=\"_blank\">Weights & Biases</a> (<a href='https://wandb.me/developer-guide' target=\"_blank\">docs</a>)<br>"
      ]
     },
     "metadata": {},
     "output_type": "display_data"
    },
    {
     "data": {
      "text/plain": [
       "<IPython.core.display.HTML object>"
      ],
      "text/html": [
       " View project at <a href='https://wandb.ai/retinal-circuit-modeling/lightning_logs' target=\"_blank\">https://wandb.ai/retinal-circuit-modeling/lightning_logs</a>"
      ]
     },
     "metadata": {},
     "output_type": "display_data"
    },
    {
     "data": {
      "text/plain": [
       "<IPython.core.display.HTML object>"
      ],
      "text/html": [
       " View run at <a href='https://wandb.ai/retinal-circuit-modeling/lightning_logs/runs/wv4ld1e4' target=\"_blank\">https://wandb.ai/retinal-circuit-modeling/lightning_logs/runs/wv4ld1e4</a>"
      ]
     },
     "metadata": {},
     "output_type": "display_data"
    },
    {
     "name": "stderr",
     "output_type": "stream",
     "text": [
      "LOCAL_RANK: 0 - CUDA_VISIBLE_DEVICES: [0]\n",
      "\n",
      "  | Name             | Type                               | Params | Mode \n",
      "--------------------------------------------------------------------------------\n",
      "0 | core             | SimpleCoreWrapper                  | 2.0 K  | train\n",
      "1 | readout          | MultiSampledGaussianReadoutWrapper | 17.4 K | train\n",
      "2 | loss             | PoissonLoss3d                      | 0      | train\n",
      "3 | correlation_loss | CorrelationLoss3d                  | 0      | train\n",
      "--------------------------------------------------------------------------------\n",
      "19.3 K    Trainable params\n",
      "0         Non-trainable params\n",
      "19.3 K    Total params\n",
      "0.077     Total estimated model params size (MB)\n",
      "19        Modules in train mode\n",
      "0         Modules in eval mode\n"
     ]
    },
    {
     "data": {
      "text/plain": [
       "Sanity Checking: |          | 0/? [00:00<?, ?it/s]"
      ],
      "application/vnd.jupyter.widget-view+json": {
       "version_major": 2,
       "version_minor": 0,
       "model_id": "7c3a7640ee8e48439288662b96263e3e"
      }
     },
     "metadata": {},
     "output_type": "display_data"
    },
    {
     "data": {
      "text/plain": [
       "Training: |          | 0/? [00:00<?, ?it/s]"
      ],
      "application/vnd.jupyter.widget-view+json": {
       "version_major": 2,
       "version_minor": 0,
       "model_id": "cba143b5248f4ea1aa24d04e4c6b85d0"
      }
     },
     "metadata": {},
     "output_type": "display_data"
    },
    {
     "data": {
      "text/plain": [
       "Validation: |          | 0/? [00:00<?, ?it/s]"
      ],
      "application/vnd.jupyter.widget-view+json": {
       "version_major": 2,
       "version_minor": 0,
       "model_id": "d7efda7bb5ea41d5a33ee04ab4573ed8"
      }
     },
     "metadata": {},
     "output_type": "display_data"
    },
    {
     "name": "stderr",
     "output_type": "stream",
     "text": [
      "\n",
      "Detected KeyboardInterrupt, attempting graceful shutdown ...\n",
      "\n",
      "KeyboardInterrupt\n",
      "\n",
      "\n",
      "KeyboardInterrupt\n",
      "\n"
     ]
    }
   ],
   "execution_count": 30
  },
  {
   "metadata": {},
   "cell_type": "code",
   "source": "wandb.finish()",
   "id": "ecc90d2c2ec2b1c5",
   "outputs": [],
   "execution_count": null
  },
  {
   "metadata": {},
   "cell_type": "code",
   "source": "import wandb",
   "id": "442e00882998dcf9",
   "outputs": [],
   "execution_count": null
  },
  {
   "metadata": {},
   "cell_type": "code",
   "source": "",
   "id": "9afc355744dde293",
   "outputs": [],
   "execution_count": null
  }
 ],
 "metadata": {
  "kernelspec": {
   "display_name": "Python 3",
   "language": "python",
   "name": "python3"
  },
  "language_info": {
   "codemirror_mode": {
    "name": "ipython",
    "version": 2
   },
   "file_extension": ".py",
   "mimetype": "text/x-python",
   "name": "python",
   "nbconvert_exporter": "python",
   "pygments_lexer": "ipython2",
   "version": "2.7.6"
  }
 },
 "nbformat": 4,
 "nbformat_minor": 5
}
