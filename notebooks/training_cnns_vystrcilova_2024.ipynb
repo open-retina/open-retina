{
 "cells": [
  {
   "cell_type": "code",
   "execution_count": null,
   "id": "a93916c08fe75e08",
   "metadata": {},
   "outputs": [],
   "source": [
    "import os\n",
    "\n",
    "import hydra\n",
    "import lightning\n",
    "import wandb\n",
    "\n",
    "from openretina.data_io.cyclers import LongCycler"
   ]
  },
  {
   "cell_type": "code",
   "execution_count": null,
   "id": "e443287456d12aa9",
   "metadata": {},
   "outputs": [],
   "source": [
    "with hydra.initialize(config_path=\"../configs\", version_base=\"1.3\"):\n",
    "    cfg = hydra.compose(config_name=\"vystrcilova_2024_nm_cnn.yaml\")\n",
    "print(cfg)\n",
    "cfg.dataloader.num_of_frames = cfg.model.temporal_kernel_sizes[0]\n",
    "cfg.dataloader.num_of_layers = len(cfg.model.temporal_kernel_sizes)\n",
    "dataloaders = hydra.utils.instantiate(cfg.dataloader)\n",
    "n_neurons_dict = {}\n",
    "for index in cfg.dataloader.files.keys():\n",
    "    n_neurons_dict[index] = dataloaders[\"train\"][index].dataset.n_neurons"
   ]
  },
  {
   "cell_type": "code",
   "execution_count": null,
   "id": "b5bba4c5ac25668",
   "metadata": {},
   "outputs": [],
   "source": [
    "input_shape = next(iter(dataloaders[\"train\"][\"01\"]))\n",
    "cfg.model[\"in_shape\"] = list(input_shape[0].shape[1:])\n",
    "cfg.model[\"n_neurons_dict\"] = n_neurons_dict\n",
    "print(cfg.model.in_shape)"
   ]
  },
  {
   "cell_type": "code",
   "execution_count": null,
   "id": "bf0cf2d73cf8ff53",
   "metadata": {},
   "outputs": [],
   "source": [
    "model = hydra.utils.instantiate(cfg.model)\n",
    "batch = next(iter(dataloaders[\"train\"][\"01\"]))\n",
    "print(\"input img shape\", batch[0].shape)\n",
    "print(\"response shape\", batch[1].shape)"
   ]
  },
  {
   "cell_type": "code",
   "execution_count": null,
   "id": "42cf81b8be2d757b",
   "metadata": {},
   "outputs": [],
   "source": [
    "model(batch[0])"
   ]
  },
  {
   "cell_type": "code",
   "execution_count": null,
   "id": "d78a47769788890c",
   "metadata": {},
   "outputs": [],
   "source": [
    "log_save_path = os.path.join(\"/projects/extern/nhr/nhr_ni/nim00010/dir.project/logs\", \"cnns_nm/\")\n",
    "os.makedirs(\n",
    "    log_save_path,\n",
    "    exist_ok=True,\n",
    ")\n",
    "\n",
    "logger = lightning.pytorch.loggers.WandbLogger(\n",
    "    name=\"\",\n",
    "    save_dir=log_save_path,\n",
    ")\n",
    "early_stopping = lightning.pytorch.callbacks.EarlyStopping(\n",
    "    monitor=\"val_correlation\",\n",
    "    patience=10,\n",
    "    mode=\"max\",\n",
    "    verbose=False,\n",
    "    min_delta=0.001,\n",
    ")\n",
    "\n",
    "lr_monitor = lightning.pytorch.callbacks.LearningRateMonitor(logging_interval=\"epoch\")\n",
    "\n",
    "model_checkpoint = lightning.pytorch.callbacks.ModelCheckpoint(\n",
    "    monitor=\"val_correlation\", mode=\"max\", save_weights_only=False\n",
    ")\n",
    "\n",
    "trainer = lightning.Trainer(\n",
    "    max_epochs=100,\n",
    "    logger=logger,\n",
    "    callbacks=[early_stopping, lr_monitor, model_checkpoint],\n",
    "    accelerator=\"gpu\",\n",
    "    log_every_n_steps=10,\n",
    ")"
   ]
  },
  {
   "cell_type": "code",
   "execution_count": null,
   "id": "68e64cccf473ef6b",
   "metadata": {},
   "outputs": [],
   "source": [
    "train_loader = LongCycler(dataloaders[\"train\"])\n",
    "val_loader = LongCycler(dataloaders[\"validation\"])"
   ]
  },
  {
   "cell_type": "code",
   "execution_count": null,
   "id": "5abc30b9025c246c",
   "metadata": {},
   "outputs": [],
   "source": [
    "trainer.fit(model, train_loader, val_loader)"
   ]
  },
  {
   "cell_type": "code",
   "execution_count": null,
   "id": "201c7953a902c911",
   "metadata": {},
   "outputs": [],
   "source": [
    "wandb.finish()"
   ]
  }
 ],
 "metadata": {
  "kernelspec": {
   "display_name": "Python 3",
   "language": "python",
   "name": "python3"
  },
  "language_info": {
   "codemirror_mode": {
    "name": "ipython",
    "version": 2
   },
   "file_extension": ".py",
   "mimetype": "text/x-python",
   "name": "python",
   "nbconvert_exporter": "python",
   "pygments_lexer": "ipython2",
   "version": "2.7.6"
  }
 },
 "nbformat": 4,
 "nbformat_minor": 5
}
