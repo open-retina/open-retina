{
 "cells": [
  {
   "cell_type": "code",
   "execution_count": null,
   "metadata": {},
   "outputs": [],
   "source": [
    "%load_ext autoreload\n",
    "%autoreload 2\n",
    "from functools import partial\n",
    "\n",
    "import matplotlib.pyplot as plt\n",
    "import numpy as np\n",
    "import torch\n",
    "\n",
    "from openretina.utils.nnfabrik_model_loading import load_ensemble_model_from_remote\n",
    "from openretina.utils.plotting import plot_stimulus_composition, play_stimulus\n",
    "from openretina.insilico.stimulus_optimization.optimizer import optimize_stimulus\n",
    "from openretina.insilico.stimulus_optimization.objective import IncreaseObjective, SliceMeanReducer\n",
    "from openretina.insilico.stimulus_optimization.optimization_stopper import OptimizationStopper\n",
    "from openretina.insilico.stimulus_optimization.regularizer import (\n",
    "    ChangeNormJointlyClipRangeSeparately,\n",
    ")"
   ]
  },
  {
   "cell_type": "markdown",
   "metadata": {},
   "source": [
    "# Load model \n"
   ]
  },
  {
   "cell_type": "code",
   "execution_count": null,
   "metadata": {},
   "outputs": [],
   "source": [
    "device = torch.device('cuda' if torch.cuda.is_available() else 'cpu')\n",
    "data_info, ensemble_model = load_ensemble_model_from_remote(device=device)"
   ]
  },
  {
   "cell_type": "code",
   "execution_count": null,
   "metadata": {},
   "outputs": [],
   "source": [
    "ensemble_model"
   ]
  },
  {
   "cell_type": "markdown",
   "metadata": {},
   "source": [
    "# Generate MEIs as starting points for response gradient analysis "
   ]
  },
  {
   "cell_type": "markdown",
   "metadata": {},
   "source": [
    "## MEI generation settings\n"
   ]
  },
  {
   "cell_type": "code",
   "execution_count": null,
   "metadata": {},
   "outputs": [],
   "source": [
    "\n",
    "stimulus_shape = (1, 2, 50, 18, 16) #  batch x colour_channels x time x height x width\n",
    "\n",
    "STIMULUS_RANGE_CONSTRAINTS = {\n",
    "    \"norm\": 30.0,               # arbitrary norm constraint\n",
    "    \"x_min_green\": -0.654,      # min value for green channel of training stimulus\n",
    "    \"x_max_green\": 6.269,       # max value for green channel of training stimulus\n",
    "    \"x_min_uv\": -0.913,\n",
    "    \"x_max_uv\": 6.269,\n",
    "}\n",
    "\n",
    "# pick a random session\n",
    "session_id = list(ensemble_model.members[0].readout.keys())[0]\n",
    "print(session_id)\n",
    "n_neurons = ensemble_model.members[0].readout[session_id].outdims"
   ]
  },
  {
   "cell_type": "code",
   "execution_count": null,
   "metadata": {},
   "outputs": [],
   "source": [
    "response_reducer = SliceMeanReducer(axis=0, start=10, length=10)\n",
    "stimulus = torch.randn(stimulus_shape, requires_grad=True, device=device)\n",
    "stimulus_postprocessor = ChangeNormJointlyClipRangeSeparately(\n",
    "    min_max_values=[\n",
    "        (STIMULUS_RANGE_CONSTRAINTS[\"x_min_green\"], STIMULUS_RANGE_CONSTRAINTS[\"x_max_green\"]),\n",
    "        (STIMULUS_RANGE_CONSTRAINTS[\"x_min_uv\"], STIMULUS_RANGE_CONSTRAINTS[\"x_max_uv\"]),\n",
    "    ],\n",
    "    norm=STIMULUS_RANGE_CONSTRAINTS[\"x_max_uv\"],\n",
    ")\n",
    "optimization_stopper = OptimizationStopper(max_iterations=10)\n",
    "stimulus.data = stimulus_postprocessor.process(stimulus.data)\n",
    "optimizer_init_fn = partial(torch.optim.SGD, lr=10.0)"
   ]
  },
  {
   "cell_type": "markdown",
   "metadata": {},
   "source": [
    "## Generate few example MEIs "
   ]
  },
  {
   "cell_type": "code",
   "execution_count": null,
   "metadata": {},
   "outputs": [],
   "source": [
    "mei_dict = dict.fromkeys(list(range(n_neurons)))\n",
    "for neuron_id in range(20):\n",
    "    objective = IncreaseObjective(\n",
    "    ensemble_model, \n",
    "    neuron_indices=neuron_id, \n",
    "    data_key=session_id, \n",
    "    response_reducer=response_reducer\n",
    "    )\n",
    "    optimize_stimulus(\n",
    "        stimulus,\n",
    "        optimizer_init_fn,\n",
    "        objective,\n",
    "        optimization_stopper,\n",
    "        stimulus_postprocessor=None, # stimulus_postprocessor.process,\n",
    "        stimulus_regularization_loss=None,\n",
    "    )\n",
    "    stimulus_np = stimulus[0].cpu().numpy()\n",
    "    mei_dict[neuron_id] = stimulus"
   ]
  },
  {
   "cell_type": "markdown",
   "metadata": {},
   "source": [
    "# Perform response gradient analysis for example cell\n"
   ]
  },
  {
   "cell_type": "code",
   "execution_count": null,
   "metadata": {},
   "outputs": [],
   "source": [
    "from openretina.insilico.tuning_analyses.response_gradient import get_gradient_grid, equalize_channels"
   ]
  },
  {
   "cell_type": "code",
   "execution_count": null,
   "metadata": {},
   "outputs": [],
   "source": [
    "example_neuron = 15"
   ]
  },
  {
   "cell_type": "code",
   "execution_count": null,
   "metadata": {},
   "outputs": [],
   "source": [
    "mei_stim = mei_dict[example_neuron]\n",
    "scaled_mei = equalize_channels(mei_stim)"
   ]
  },
  {
   "cell_type": "markdown",
   "metadata": {},
   "source": [
    "## Inspect the MEI "
   ]
  },
  {
   "cell_type": "code",
   "execution_count": null,
   "metadata": {},
   "outputs": [],
   "source": [
    "fig, axes = plt.subplots(2, 2, figsize=(7 * 3, 12))\n",
    "plot_stimulus_composition(\n",
    "    stimulus=scaled_mei[0].cpu().numpy(),\n",
    "    temporal_trace_ax=axes[0, 0],\n",
    "    freq_ax=axes[0, 1],\n",
    "    spatial_ax=axes[1, 0],\n",
    "    highlight_x_list=[(40, 49)],\n",
    ")"
   ]
  },
  {
   "cell_type": "markdown",
   "metadata": {},
   "source": [
    "## Get response gradient across a grid of stimuli sampled around the MEI"
   ]
  },
  {
   "cell_type": "code",
   "execution_count": null,
   "metadata": {},
   "outputs": [],
   "source": [
    "example_neuron_objective = IncreaseObjective(\n",
    "    ensemble_model, \n",
    "    neuron_indices=example_neuron, \n",
    "    data_key=session_id, \n",
    "    response_reducer=response_reducer\n",
    "    )\n",
    "gradient_grid, resp_grid, norm_grid, green_contrast_values, uv_contrast_values = \\\n",
    "            get_gradient_grid(\n",
    "                scaled_mei, example_neuron_objective, step_size=.2\n",
    "            )"
   ]
  },
  {
   "cell_type": "markdown",
   "metadata": {},
   "source": [
    "# Plot response gradient\n"
   ]
  },
  {
   "cell_type": "code",
   "execution_count": null,
   "metadata": {},
   "outputs": [],
   "source": [
    "from openretina.utils.plotting import plot_vector_field_resp_iso"
   ]
  },
  {
   "cell_type": "code",
   "execution_count": null,
   "metadata": {},
   "outputs": [],
   "source": [
    "rc_dict = {\n",
    "    'figure.dpi': 300,\n",
    "    'figure.figsize': [2, 2],\n",
    "    'figure.frameon': False,\n",
    "    'font.size': 8,\n",
    "    'lines.markersize':1,\n",
    "    'lines.linewidth':1,\n",
    "    'lines.markeredgewidth': .5,\n",
    "    'legend.columnspacing': .5,\n",
    "    'legend.frameon': False,\n",
    "    'legend.markerscale': .4,\n",
    "    'legend.labelspacing': 0.1,\n",
    "    'legend.handletextpad': 0,\n",
    "    'legend.loc': \"lower right\",\n",
    "    'axes.labelpad': 1.0,\n",
    "    'xtick.major.pad': 1,\n",
    "    'ytick.major.pad': 1,\n",
    "}"
   ]
  },
  {
   "cell_type": "code",
   "execution_count": null,
   "metadata": {},
   "outputs": [],
   "source": [
    "x = np.arange(-1, 1.2, .2)\n",
    "fig = plot_vector_field_resp_iso(\n",
    "    x, x, \n",
    "    gradient_grid, \n",
    "    resp_grid,\n",
    "    normalize_response=True, \n",
    "    rc_dict=rc_dict\n",
    ")"
   ]
  }
 ],
 "metadata": {
  "kernelspec": {
   "display_name": "open_retina",
   "language": "python",
   "name": "python3"
  },
  "language_info": {
   "codemirror_mode": {
    "name": "ipython",
    "version": 3
   },
   "file_extension": ".py",
   "mimetype": "text/x-python",
   "name": "python",
   "nbconvert_exporter": "python",
   "pygments_lexer": "ipython3",
   "version": "3.13.2"
  }
 },
 "nbformat": 4,
 "nbformat_minor": 4
}
