{
 "cells": [
  {
   "cell_type": "markdown",
   "metadata": {},
   "source": [
    "In this notebook we will train a Core/Readout model on data from Hoefling et al., 2024: [\"A chromatic feature detector in the retina signals visual context changes\"](https://elifesciences.org/articles/86860).\n",
    "\n",
    "We will closely follow the structure of our unified training script, `openretina.cli.train.py`, including using Hydra to import and examine model config files. \n",
    "\n",
    "Note that using `openretina.cli.train.py`, and the corresponding command `openretina train` is the recommended way to run model training, as for some configurations it can take some time. \n"
   ]
  },
  {
   "cell_type": "markdown",
   "metadata": {},
   "source": [
    "# Imports"
   ]
  },
  {
   "cell_type": "code",
   "execution_count": 1,
   "metadata": {},
   "outputs": [],
   "source": [
    "import logging\n",
    "import os\n",
    "\n",
    "import hydra\n",
    "import lightning\n",
    "import matplotlib\n",
    "import matplotlib.pyplot as plt\n",
    "import numpy as np\n",
    "import seaborn as sns\n",
    "import torch\n",
    "from einops import rearrange\n",
    "\n",
    "from openretina.data_io.base import compute_data_info\n",
    "from openretina.data_io.cyclers import LongCycler, ShortCycler\n",
    "from openretina.data_io.hoefling_2024.dataloaders import natmov_dataloaders_v2\n",
    "from openretina.data_io.hoefling_2024.responses import filter_responses, make_final_responses\n",
    "from openretina.data_io.hoefling_2024.stimuli import movies_from_pickle\n",
    "from openretina.eval.metrics import correlation_numpy, feve\n",
    "from openretina.models.core_readout import CoreReadout\n",
    "from openretina.utils.file_utils import get_local_file_path\n",
    "from openretina.utils.h5_handling import load_h5_into_dict\n",
    "from openretina.utils.misc import CustomPrettyPrinter\n",
    "from openretina.utils.plotting import (\n",
    "    numpy_to_mp4_video,\n",
    ")\n",
    "\n",
    "matplotlib.rcParams[\"pdf.fonttype\"] = 42\n",
    "matplotlib.rcParams[\"ps.fonttype\"] = 42\n",
    "\n",
    "logging.basicConfig(\n",
    "    level=logging.INFO, format=\"%(asctime)s - %(levelname)s - %(message)s\"\n",
    ")  # to display logs in jupyter\n",
    "\n",
    "%load_ext autoreload\n",
    "%autoreload 2\n",
    "%matplotlib inline\n",
    "%config InlineBackend.figure_format = 'retina'\n",
    "\n",
    "pp = CustomPrettyPrinter(indent=4, max_lines=30)"
   ]
  },
  {
   "cell_type": "markdown",
   "metadata": {},
   "source": [
    "Let's import also the global config file for this model using hydra."
   ]
  },
  {
   "cell_type": "code",
   "execution_count": 2,
   "metadata": {},
   "outputs": [],
   "source": [
    "with hydra.initialize(config_path=os.path.join(\"..\", \"configs\"), version_base=\"1.3\"):\n",
    "    cfg = hydra.compose(config_name=\"hoefling_2024_core_readout_low_res.yaml\")"
   ]
  },
  {
   "cell_type": "markdown",
   "metadata": {},
   "source": [
    "# Loading data"
   ]
  },
  {
   "cell_type": "markdown",
   "metadata": {},
   "source": [
    "The first step in loading data is determining from where it will be fetched / stored.\n",
    "\n",
    "Let's see how this is handled in the configs:"
   ]
  },
  {
   "cell_type": "code",
   "execution_count": 3,
   "metadata": {},
   "outputs": [
    {
     "name": "stdout",
     "output_type": "stream",
     "text": [
      "{   'cache_dir': '${oc.env:OPENRETINA_CACHE_DIRECTORY}',\n",
      "    'data_dir': '${paths.cache_dir}/data/',\n",
      "    'log_dir': '.',\n",
      "    'movies_path': 'https://huggingface.co/datasets/open-retina/open-retina/blob/main/euler_lab/hoefling_2024/stimuli/rgc_natstim_18x16_joint_normalized_2024-01-11.zip',\n",
      "    'output_dir': '${hydra:runtime.output_dir}',\n",
      "    'responses_path': 'https://huggingface.co/datasets/open-retina/open-retina/resolve/main/euler_lab/hoefling_2024/responses/rgc_natstim_2024-08-14.zip'}\n"
     ]
    }
   ],
   "source": [
    "pp.pprint(cfg.paths)"
   ]
  },
  {
   "cell_type": "markdown",
   "metadata": {},
   "source": [
    "The config contains the path from where files will be downloaded, and also requires the `cache_dir` to be set by the user: this is the directory where the data will be stored on download.\n",
    "\n",
    "When using the training script, if cache_dir is not set by the user in the config files or somewhere in the script, this will fall back to the `OPENRETINA_CACHE_DIRECTORY` environment variable, which by default points to `~/openretina_cache`.\n",
    "\n",
    "If set, the `cache_dir` is also what the package will use in place of the default openretina cache folder. Let's set both here:"
   ]
  },
  {
   "cell_type": "code",
   "execution_count": 4,
   "metadata": {},
   "outputs": [],
   "source": [
    "your_chosen_root_folder = \".\"  # Change this with your desired path.\n",
    "\n",
    "cfg.paths.cache_dir = your_chosen_root_folder\n",
    "\n",
    "# We will also overwrite the output directory for the logs/model to the local folder.\n",
    "cfg.paths.log_dir = your_chosen_root_folder\n",
    "cfg.paths.output_dir = your_chosen_root_folder\n",
    "\n",
    "os.environ[\"OPENRETINA_CACHE_DIRECTORY\"] = your_chosen_root_folder"
   ]
  },
  {
   "cell_type": "markdown",
   "metadata": {},
   "source": [
    "## Stimuli"
   ]
  },
  {
   "cell_type": "markdown",
   "metadata": {},
   "source": [
    "Loading of the stimuli is achieved, in the training script, via:\n",
    "```\n",
    "movies_dict = hydra.utils.call(cfg.data_io.stimuli)\n",
    "```\n",
    "\n",
    "Let's unpack it here."
   ]
  },
  {
   "cell_type": "code",
   "execution_count": 5,
   "metadata": {},
   "outputs": [
    {
     "name": "stdout",
     "output_type": "stream",
     "text": [
      "{   '_convert_': 'object',\n",
      "    '_target_': 'openretina.data_io.hoefling_2024.stimuli.movies_from_pickle',\n",
      "    'file_path': {   '_convert_': 'object',\n",
      "                     '_target_': 'openretina.utils.file_utils.get_local_file_path',\n",
      "                     'cache_folder': '${paths.cache_dir}',\n",
      "                     'file_path': '${paths.movies_path}'}}\n"
     ]
    }
   ],
   "source": [
    "pp.pprint(cfg.data_io.stimuli)"
   ]
  },
  {
   "cell_type": "markdown",
   "metadata": {},
   "source": [
    "Essentially, using the `get_local_file_path` function, if `file_path` is not a local fiile, it will be downloaded to the cache folder and read from there."
   ]
  },
  {
   "cell_type": "code",
   "execution_count": 6,
   "metadata": {},
   "outputs": [
    {
     "name": "stderr",
     "output_type": "stream",
     "text": [
      "2025-04-28 17:59:12,892 - INFO - Fetching file list for open-retina/open-retina...\n",
      "2025-04-28 17:59:13,189 - INFO - Downloading euler_lab/hoefling_2024/stimuli/rgc_natstim_18x16_joint_normalized_2024-01-11.zip...\n"
     ]
    },
    {
     "data": {
      "application/vnd.jupyter.widget-view+json": {
       "model_id": "e55fa449e90641cf84d5e683aba85f8b",
       "version_major": 2,
       "version_minor": 0
      },
      "text/plain": [
       "(…)im_18x16_joint_normalized_2024-01-11.zip:   0%|          | 0.00/73.7M [00:00<?, ?B/s]"
      ]
     },
     "metadata": {},
     "output_type": "display_data"
    },
    {
     "name": "stderr",
     "output_type": "stream",
     "text": [
      "2025-04-28 17:59:15,131 - INFO - Extracting data/euler_lab/hoefling_2024/stimuli/rgc_natstim_18x16_joint_normalized_2024-01-11.zip...\n",
      "2025-04-28 17:59:15,415 - INFO - Extracted single file to /home/baptiste/Documents/LabPipelines/open-retina/notebooks/data/euler_lab/hoefling_2024/stimuli/rgc_natstim_18x16_joint_normalized_2024-01-11.pkl.\n"
     ]
    }
   ],
   "source": [
    "movies_path = get_local_file_path(file_path=cfg.paths.movies_path, cache_folder=cfg.paths.data_dir)\n",
    "\n",
    "movies_dict = movies_from_pickle(movies_path)"
   ]
  },
  {
   "cell_type": "code",
   "execution_count": 7,
   "metadata": {},
   "outputs": [
    {
     "name": "stdout",
     "output_type": "stream",
     "text": [
      "MoviesTrainTestSplit(train=numpy.ndarray(shape=(2, 16200, 18, 16)),\n",
      "                     test_dict={   'test': numpy.ndarray(shape=(2, 750, 18, 16))},\n",
      "                     stim_id=None,\n",
      "                     random_sequences=numpy.ndarray(shape=(108, 20)),\n",
      "                     norm_mean=nan,\n",
      "                     norm_std=nan)\n"
     ]
    }
   ],
   "source": [
    "pp.pprint(movies_dict)"
   ]
  },
  {
   "cell_type": "markdown",
   "metadata": {},
   "source": [
    "Let us also visualize a few seconds of the training video:"
   ]
  },
  {
   "cell_type": "code",
   "execution_count": 8,
   "metadata": {},
   "outputs": [
    {
     "data": {
      "text/html": [
       "<video controls  width=\"640\"  height=\"360\">\n",
       " <source src=\"data:video/mp4;base64,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\" type=\"video/mp4\">\n",
       " Your browser does not support the video tag.\n",
       " </video>"
      ],
      "text/plain": [
       "<IPython.core.display.Video object>"
      ]
     },
     "metadata": {},
     "output_type": "display_data"
    }
   ],
   "source": [
    "numpy_to_mp4_video(movies_dict.train[:, :300, ...])"
   ]
  },
  {
   "cell_type": "markdown",
   "metadata": {},
   "source": [
    "## Responses"
   ]
  },
  {
   "cell_type": "markdown",
   "metadata": {},
   "source": [
    "In the training script, responses are loaded through:\n",
    "\n",
    "```\n",
    "neuron_data_dict = hydra.utils.call(cfg.data_io.responses)\n",
    "```\n",
    "\n",
    "Let's unpack it here."
   ]
  },
  {
   "cell_type": "code",
   "execution_count": 9,
   "metadata": {},
   "outputs": [
    {
     "name": "stdout",
     "output_type": "stream",
     "text": [
      "{   '_convert_': 'object',\n",
      "    '_target_': 'openretina.data_io.hoefling_2024.responses.make_final_responses',\n",
      "    'data_dict': {   '_convert_': 'object',\n",
      "                     '_target_': 'openretina.data_io.hoefling_2024.responses.filter_responses',\n",
      "                     'all_responses': {   '_convert_': 'object',\n",
      "                                          '_target_': 'openretina.utils.h5_handling.load_h5_into_dict',\n",
      "                                          'file_path': {   '_convert_': 'object',\n",
      "                                                           '_target_': 'openretina.utils.file_utils.get_local_file_path',\n",
      "                                                           'cache_folder': '${paths.cache_dir}',\n",
      "                                                           'file_path': '${paths.responses_path}'}},\n",
      "                     'cell_types_list': '${quality_checks.cell_types_list}',\n",
      "                     'chirp_qi': '${quality_checks.chirp_qi}',\n",
      "                     'classifier_confidence': '${quality_checks.classifier_confidence}',\n",
      "                     'd_qi': '${quality_checks.d_qi}',\n",
      "                     'filter_cell_types': '${quality_checks.filter_cell_types}',\n",
      "                     'filter_counts': '${quality_checks.filter_counts}',\n",
      "                     'qi_logic': '${quality_checks.qi_logic}',\n",
      "                     'verbose': '${quality_checks.verbose}'},\n",
      "    'response_type': 'natural'}\n"
     ]
    }
   ],
   "source": [
    "pp.pprint(cfg.data_io.responses)"
   ]
  },
  {
   "cell_type": "markdown",
   "metadata": {},
   "source": [
    "While this may look complex, it effectively amounts to resolving a few intermediate steps in loading the data, and should be read from the inside out.\n",
    "\n",
    "When written more simply, it is equivalent to the following:"
   ]
  },
  {
   "cell_type": "code",
   "execution_count": 10,
   "metadata": {},
   "outputs": [
    {
     "name": "stderr",
     "output_type": "stream",
     "text": [
      "2025-04-28 17:59:23,006 - INFO - Fetching file list for open-retina/open-retina...\n",
      "2025-04-28 17:59:23,107 - INFO - Downloading euler_lab/hoefling_2024/responses/rgc_natstim_2024-08-14.zip...\n"
     ]
    },
    {
     "data": {
      "application/vnd.jupyter.widget-view+json": {
       "model_id": "e9326fd160c74f56a6a2efdba1a9a977",
       "version_major": 2,
       "version_minor": 0
      },
      "text/plain": [
       "rgc_natstim_2024-08-14.zip:   0%|          | 0.00/815M [00:00<?, ?B/s]"
      ]
     },
     "metadata": {},
     "output_type": "display_data"
    },
    {
     "name": "stderr",
     "output_type": "stream",
     "text": [
      "2025-04-28 17:59:57,280 - INFO - Extracting data/euler_lab/hoefling_2024/responses/rgc_natstim_2024-08-14.zip...\n",
      "2025-04-28 18:00:02,176 - INFO - Extracted single file to /home/baptiste/Documents/LabPipelines/open-retina/notebooks/data/euler_lab/hoefling_2024/responses/rgc_natstim_2024-08-14.h5.\n"
     ]
    },
    {
     "data": {
      "application/vnd.jupyter.widget-view+json": {
       "model_id": "24a1aac02c1445d2b710ec423e08744f",
       "version_major": 2,
       "version_minor": 0
      },
      "text/plain": [
       "Loading HDF5 file contents:   0%|          | 0/2077 [00:00<?, ?item/s]"
      ]
     },
     "metadata": {},
     "output_type": "display_data"
    },
    {
     "name": "stdout",
     "output_type": "stream",
     "text": [
      "Original dataset contains 7863 neurons over 67 fields\n",
      " ------------------------------------ \n",
      "Dropped 0 fields that did not contain the target cell types (67 remaining)\n",
      "Overall, dropped 3034 neurons of non-target cell types (-38.59%).\n",
      " ------------------------------------ \n",
      "Dropped 0 fields with quality indices below threshold (67 remaining)\n",
      "Overall, dropped 980 neurons over quality checks (-20.29%).\n",
      " ------------------------------------ \n",
      "Dropped 0 fields with classifier confidences below 0.25\n",
      "Overall, dropped 705 neurons with classifier confidences below 0.25 (-18.32%).\n",
      " ------------------------------------ \n",
      " ------------------------------------ \n",
      "Final dataset contains 3144 neurons over 67 fields\n",
      "Total number of cells dropped: 4719 (-60.02%)\n"
     ]
    },
    {
     "data": {
      "application/vnd.jupyter.widget-view+json": {
       "model_id": "4e2207a23e054638bdfa7697e4fede06",
       "version_major": 2,
       "version_minor": 0
      },
      "text/plain": [
       "Upsampling natural spikes traces to get final responses.:   0%|          | 0/67 [00:00<?, ?it/s]"
      ]
     },
     "metadata": {},
     "output_type": "display_data"
    }
   ],
   "source": [
    "responses_path = get_local_file_path(file_path=cfg.paths.responses_path, cache_folder=cfg.paths.data_dir)\n",
    "\n",
    "responses_dict = load_h5_into_dict(file_path=responses_path)\n",
    "\n",
    "filtered_responses_dict = filter_responses(responses_dict, **cfg.quality_checks)\n",
    "\n",
    "final_responses = make_final_responses(filtered_responses_dict, response_type=\"natural\")"
   ]
  },
  {
   "cell_type": "markdown",
   "metadata": {},
   "source": [
    "And here is how the final responses will be organised:"
   ]
  },
  {
   "cell_type": "code",
   "execution_count": 11,
   "metadata": {},
   "outputs": [
    {
     "name": "stdout",
     "output_type": "stream",
     "text": [
      "{   'session_1_ventral1_20200226': ResponsesTrainTestSplit(train=numpy.ndarray(shape=(80, 16200)),\n",
      "                                                           test_dict={   'test': numpy.ndarray(shape=(80, 750))},\n",
      "                                                           test_by_trial=numpy.ndarray(shape=(80, 750, 3)),\n",
      "                                                           stim_id='natural',\n",
      "                                                           session_kwargs={   'eye': 'left',\n",
      "                                                                              'group_assignment': numpy.ndarray(shape=(80,)),\n",
      "                                                                              'roi_ids': numpy.ndarray(shape=(80,)),\n",
      "                                                                              'roi_mask': numpy.ndarray(shape=(64, 64)),\n",
      "                                                                              'scan_sequence_idx': np.int64(18)}),\n",
      "    'session_1_ventral1_20200528': ResponsesTrainTestSplit(train=numpy.ndarray(shape=(42, 16200)),\n",
      "                                                           test_dict={   'test': numpy.ndarray(shape=(42, 750))},\n",
      "                                                           test_by_trial=numpy.ndarray(shape=(42, 750, 3)),\n",
      "                                                           stim_id='natural',\n",
      "                                                           session_kwargs={   'eye': 'left',\n",
      "                                                                              'group_assignment': numpy.ndarray(shape=(42,)),\n",
      "                                                                              'roi_ids': numpy.ndarray(shape=(42,)),\n",
      "                                                                              'roi_mask': numpy.ndarray(shape=(64, 64)),\n",
      "                                                                              'scan_sequence_idx': np.int64(4)}),\n",
      "    'session_1_ventral1_20200707': ResponsesTrainTestSplit(train=numpy.ndarray(shape=(74, 16200)),\n",
      "                                                           test_dict={   'test': numpy.ndarray(shape=(74, 750))},\n",
      "                                                           test_by_trial=numpy.ndarray(shape=(74, 750, 3)),\n",
      "                                                           stim_id='natural',\n",
      "                                                           session_kwargs={   'eye': 'left',\n",
      "                                                                              'group_assignment': \n",
      " ... Exceeded maximum number of lines ..."
     ]
    }
   ],
   "source": [
    "pp.pprint(final_responses)"
   ]
  },
  {
   "cell_type": "markdown",
   "metadata": {},
   "source": [
    "# Creating dataloaders"
   ]
  },
  {
   "cell_type": "markdown",
   "metadata": {},
   "source": [
    "The corresponding code in `train.py` is:\n",
    "```\n",
    "dataloaders = hydra.utils.instantiate(\n",
    "        cfg.dataloader,\n",
    "        neuron_data_dictionary=neuron_data_dict,\n",
    "        movies_dictionary=movies_dict,\n",
    "    )\n",
    "```"
   ]
  },
  {
   "cell_type": "code",
   "execution_count": 12,
   "metadata": {},
   "outputs": [
    {
     "name": "stdout",
     "output_type": "stream",
     "text": [
      "{   '_convert_': 'object',\n",
      "    '_target_': 'openretina.data_io.hoefling_2024.dataloaders.natmov_dataloaders_v2',\n",
      "    'allow_over_boundaries': True,\n",
      "    'batch_size': 128,\n",
      "    'train_chunk_size': 50,\n",
      "    'validation_clip_indices': list(len=15)}\n"
     ]
    }
   ],
   "source": [
    "pp.pprint(cfg.dataloader)"
   ]
  },
  {
   "cell_type": "code",
   "execution_count": 13,
   "metadata": {},
   "outputs": [
    {
     "data": {
      "application/vnd.jupyter.widget-view+json": {
       "model_id": "1b2c7ab07abc43599c63aa137ed044de",
       "version_major": 2,
       "version_minor": 0
      },
      "text/plain": [
       "Creating movie dataloaders:   0%|          | 0/67 [00:00<?, ?it/s]"
      ]
     },
     "metadata": {},
     "output_type": "display_data"
    }
   ],
   "source": [
    "dataloaders = natmov_dataloaders_v2(\n",
    "    neuron_data_dictionary=final_responses,\n",
    "    movies_dictionary=movies_dict,\n",
    "    allow_over_boundaries=True,\n",
    "    batch_size=128,\n",
    "    train_chunk_size=50,\n",
    "    validation_clip_indices=cfg.dataloader.validation_clip_indices,\n",
    ")"
   ]
  },
  {
   "cell_type": "code",
   "execution_count": 14,
   "metadata": {},
   "outputs": [
    {
     "name": "stdout",
     "output_type": "stream",
     "text": [
      "{   'test': {   'session_1_ventral1_20200226': torch.utils.data.DataLoader(Dataset: MovieDataSet with 80 neuron responses to a movie of shape [2, 750, 18, 16].),\n",
      "                'session_1_ventral1_20200528': torch.utils.data.DataLoader(Dataset: MovieDataSet with 42 neuron responses to a movie of shape [2, 750, 18, 16].),\n",
      "                'session_1_ventral1_20200707': torch.utils.data.DataLoader(Dataset: MovieDataSet with 74 neuron responses to a movie of shape [2, 750, 18, 16].),\n",
      "                'session_1_ventral1_20201021': torch.utils.data.DataLoader(Dataset: MovieDataSet with 32 neuron responses to a movie of shape [2, 750, 18, 16].),\n",
      "                'session_1_ventral1_20201030': torch.utils.data.DataLoader(Dataset: MovieDataSet with 40 neuron responses to a movie of shape [2, 750, 18, 16].),\n",
      "                'session_1_ventral1_20210929': torch.utils.data.DataLoader(Dataset: MovieDataSet with 48 neuron responses to a movie of shape [2, 750, 18, 16].),\n",
      "                'session_1_ventral1_20210930': torch.utils.data.DataLoader(Dataset: MovieDataSet with 26 neuron responses to a movie of shape [2, 750, 18, 16].),\n",
      "                'session_1_ventral2_20200302': torch.utils.data.DataLoader(Dataset: MovieDataSet with 41 neuron responses to a movie of shape [2, 750, 18, 16].),\n",
      "                'session_1_ventral2_20200707': torch.utils.data.DataLoader(Dataset: MovieDataSet with 56 neuron responses to a movie of shape [2, 750, 18, 16].),\n",
      "                'session_1_ventral2_20201021': torch.utils.data.DataLoader(Dataset: MovieDataSet with 39 neuron responses to a movie of shape [2, 750, 18, 16].),\n",
      "                'session_1_ventral2_20201022': torch.utils.data.DataLoader(Dataset: MovieDataSet with 42 neuron responses to a movie of shape [2, 750, 18, 16].),\n",
      "                'session_1_ventral2_20201030': torch.utils.data.DataLoader(Dataset: MovieDataSet with 84 neuron responses to a movie of shape [2, 750, 18, 16].),\n",
      "                'session_1_ventral2_20201117': torch.utils.data.DataLoader(Dataset: MovieDataSet with 46 neuron responses to a movie of shape [2, 750, 18, 16].),\n",
      "                'session_1_ventral2_20210910': torch.utils.data.DataLoader(Dataset: MovieDataSet with 44 neuron responses to a movie of shape [2, 750, 18, 16].),\n",
      "                'session_1_ventral2_20210921': torch.utils.data.DataLoader(Dataset: MovieDataSet with 33 neuron responses to a movie of shape [2, 750, 18, 16].),\n",
      "                'session_1_ventral2_20210929': torch.utils.data.DataLoader(Dataset: MovieDataSet with 59 neuron responses to a movie of shape [2, 750, 18, 16].),\n",
      "                'session_1_ventral2_20210930': torch.utils.data.DataLoader(Dataset: MovieDataSet with 56 neuron responses to a movie of shape [2, 750, 18, 16].),\n",
      "                'session_1_ventral2_20211130': torch.utils.data.DataLoader(Dataset: MovieDataSet with 35 neuron responses to a movie of shape [2, 750, 18, 16].),\n",
      "                'session_2_ventral1_20200226': torch.utils.data.DataLoader(Dataset: MovieDataSet with 72 neuron responses to a movie of shape [2, 750, 18, 16].),\n",
      "                'session_2_ventral1_20200303': torch.utils.data.DataLoader(Dataset: MovieDataSet with 50 neuron responses to a movie of shape [2, 750, 18, 16].),\n",
      "                'session_2_ventral1_20200528': torch.utils.data.DataLoader(Dataset: MovieDataSet with 42 neuron responses to a movie of shape [2, 750, 18, 16].),\n",
      "                'session_2_ventral1_20200529': torch.utils.data.DataLoader(Dataset: MovieDataSet with 29 neuron responses to a movie of shape [2, 750, 18, 16].),\n",
      "                'session_2_ventral1_20200701': torch.utils.data.DataLoader(Dataset: MovieDataSet with 55 neuron responses to a movie of shape [2, 750, 18, 16].),\n",
      "                'session_2_ventral1_20201021': torch.utils.data.DataLoader(Dataset: MovieDataSet with 49 neuron responses to a movie of shape [2, 750, 18, 16].),\n",
      "                'session_2_ventral1_20201030': torch.utils.data.DataLoader(Dataset: MovieDataSet with 55 neuron responses to a movie of shape [2, 750, 18, 16].),\n",
      "                'session_2_ventral1_20210929': torch.utils.data.DataLoader(Dataset: MovieDataSet with 44 neuron responses to a movie of shape [2, 750, 18, 16].),\n",
      "                'session_2_ventral2_20200303': torch.utils.data.DataLoader(Dataset: MovieDataSet with 44 neuron responses to a movie of shape [2, 750, 18, 16].),\n",
      "                'session_2_ventral2_20201016': torch.utils.data.DataLoader(Dataset: MovieDataSet with 59 neuron responses to a movie of shape [2, 750, 18, 16].),\n",
      "                'session_2_ventral2_20201021': torch.utils.data.DataLoader(Dataset: MovieDataSet with 47 neuron responses to a movie of shape [2, 750, 18, 16].),\n",
      "                'session_2_ventral2_20201022': torch.utils.data.DataLoader(Dataset: MovieDataSet with 48 neuron responses to a movie of shape [2, 750, 18, 16].),\n",
      "                'session_2_ventral2_20201030': \n",
      " ... Exceeded maximum number of lines ..."
     ]
    }
   ],
   "source": [
    "pp.pprint(dataloaders)"
   ]
  },
  {
   "cell_type": "markdown",
   "metadata": {},
   "source": [
    "Let's also compute `data_info`, which is used to initialise certain model components and to save important metadata about stimuli and responses within the model."
   ]
  },
  {
   "cell_type": "code",
   "execution_count": 15,
   "metadata": {},
   "outputs": [
    {
     "name": "stdout",
     "output_type": "stream",
     "text": [
      "{   'input_shape': (2, 18, 16),\n",
      "    'movie_norm_dict': {'default': {'norm_mean': nan, 'norm_std': nan}},\n",
      "    'n_neurons_dict': {   'session_1_ventral1_20200226': 80,\n",
      "                          'session_1_ventral1_20200528': 42,\n",
      "                          'session_1_ventral1_20200707': 74,\n",
      "                          'session_1_ventral1_20201021': 32,\n",
      "                          'session_1_ventral1_20201030': 40,\n",
      "                          'session_1_ventral1_20210929': 48,\n",
      "                          'session_1_ventral1_20210930': 26,\n",
      "                          'session_1_ventral2_20200302': 41,\n",
      "                          'session_1_ventral2_20200707': 56,\n",
      "                          'session_1_ventral2_20201021': 39,\n",
      "                          'session_1_ventral2_20201022': 42,\n",
      "                          'session_1_ventral2_20201030': 84,\n",
      "                          'session_1_ventral2_20201117': 46,\n",
      "                          'session_1_ventral2_20210910': 44,\n",
      "                          'session_1_ventral2_20210921': 33,\n",
      "                          'session_1_ventral2_20210929': 59,\n",
      "                          'session_1_ventral2_20210930': 56,\n",
      "                          'session_1_ventral2_20211130': 35,\n",
      "                          'session_2_ventral1_20200226': 72,\n",
      "                          'session_2_ventral1_20200303': 50,\n",
      "                          'session_2_ventral1_20200528': 42,\n",
      "                          'session_2_ventral1_20200529': 29,\n",
      "                          'session_2_ventral1_20200701': 55,\n",
      "                          'session_2_ventral1_20201021': 49,\n",
      "                          'session_2_ventral1_20201030': 55,\n",
      "                          'session_2_ventral1_20210929': 44,\n",
      "                          'session_2_ventral2_20200303': 44,\n",
      "                          'session_2_ventral2_20201016': 59,\n",
      "                          'session_2_ventral2_20201021': \n",
      " ... Exceeded maximum number of lines ..."
     ]
    }
   ],
   "source": [
    "data_info = compute_data_info(neuron_data_dictionary=final_responses, movies_dictionary=movies_dict)\n",
    "\n",
    "pp.pprint(data_info)"
   ]
  },
  {
   "cell_type": "markdown",
   "metadata": {},
   "source": [
    "# Model initialisation"
   ]
  },
  {
   "cell_type": "markdown",
   "metadata": {},
   "source": [
    "Relevant `train.py` section:\n",
    "```\n",
    "cfg.model.n_neurons_dict = data_info[\"n_neurons_dict\"]\n",
    "\n",
    "model = hydra.utils.instantiate(cfg.model, data_info=data_info)\n",
    "```"
   ]
  },
  {
   "cell_type": "markdown",
   "metadata": {},
   "source": [
    "The config for the model will contain all the relevant hyperparameters for it:"
   ]
  },
  {
   "cell_type": "code",
   "execution_count": 16,
   "metadata": {},
   "outputs": [
    {
     "name": "stdout",
     "output_type": "stream",
     "text": [
      "{   '_convert_': 'object',\n",
      "    '_target_': 'openretina.models.core_readout.CoreReadout',\n",
      "    'core_gamma_hidden': 0.0,\n",
      "    'core_gamma_in_sparse': 0.0,\n",
      "    'core_gamma_input': 0.0,\n",
      "    'core_gamma_temporal': 40.0,\n",
      "    'core_hidden_padding': True,\n",
      "    'core_input_padding': False,\n",
      "    'cut_first_n_frames_in_core': 0,\n",
      "    'downsample_input_kernel_size': None,\n",
      "    'dropout_rate': 0.0,\n",
      "    'hidden_channels': [16, 16],\n",
      "    'in_shape': [2, 150, 18, 16],\n",
      "    'learning_rate': 0.01,\n",
      "    'maxpool_every_n_layers': None,\n",
      "    'n_neurons_dict': '???',\n",
      "    'readout_bias': True,\n",
      "    'readout_gamma': 0.4,\n",
      "    'readout_gaussian_masks': True,\n",
      "    'readout_gaussian_mean_scale': 6.0,\n",
      "    'readout_gaussian_var_scale': 4.0,\n",
      "    'readout_positive': True,\n",
      "    'readout_scale': True,\n",
      "    'spatial_kernel_sizes': [11, 5],\n",
      "    'temporal_kernel_sizes': [21, 11]}\n"
     ]
    }
   ],
   "source": [
    "pp.pprint(cfg.model)"
   ]
  },
  {
   "cell_type": "markdown",
   "metadata": {},
   "source": [
    "As you can see, the value for `n_neurons_dict` is missing, and needs to be set from data_info."
   ]
  },
  {
   "cell_type": "code",
   "execution_count": 17,
   "metadata": {},
   "outputs": [
    {
     "name": "stderr",
     "output_type": "stream",
     "text": [
      "2025-04-28 18:14:00,655 - INFO - in_shape_readout=torch.Size([16, 130, 8, 6])\n"
     ]
    }
   ],
   "source": [
    "n_neurons_dict = data_info[\"n_neurons_dict\"]\n",
    "\n",
    "model = CoreReadout(\n",
    "    in_shape=(2, 150, 18, 16),\n",
    "    hidden_channels=(16, 16),\n",
    "    temporal_kernel_sizes=(21, 11),\n",
    "    spatial_kernel_sizes=(11, 5),\n",
    "    n_neurons_dict=n_neurons_dict,\n",
    "    core_gamma_hidden=0.0,\n",
    "    core_gamma_in_sparse=0.0,\n",
    "    core_gamma_input=0.0,\n",
    "    core_gamma_temporal=40.0,\n",
    "    core_hidden_padding=True,\n",
    "    core_input_padding=False,\n",
    "    cut_first_n_frames_in_core=0,\n",
    "    downsample_input_kernel_size=None,\n",
    "    dropout_rate=0.0,\n",
    "    learning_rate=0.01,\n",
    "    maxpool_every_n_layers=None,\n",
    "    readout_bias=True,\n",
    "    readout_gamma=0.4,\n",
    "    readout_gaussian_masks=True,\n",
    "    readout_gaussian_mean_scale=6.0,\n",
    "    readout_gaussian_var_scale=4.0,\n",
    "    readout_positive=True,\n",
    "    readout_scale=True,\n",
    "    data_info=data_info,\n",
    ")"
   ]
  },
  {
   "cell_type": "markdown",
   "metadata": {},
   "source": [
    "# Training"
   ]
  },
  {
   "cell_type": "markdown",
   "metadata": {},
   "source": [
    "With data imported, models initialised and dataloaders set up, we can turn to training. \n",
    "\n",
    "```\n",
    "log_folder = os.path.join(cfg.paths.output_dir, cfg.exp_name)\n",
    "os.makedirs(log_folder, exist_ok=True)\n",
    "logger_array = []\n",
    "for _, logger_params in cfg.logger.items():\n",
    "    logger = hydra.utils.instantiate(logger_params, save_dir=log_folder)\n",
    "    logger_array.append(logger)\n",
    "\n",
    "callbacks = [\n",
    "    hydra.utils.instantiate(callback_params) for callback_params in cfg.get(\"training_callbacks\", {}).values()\n",
    "]\n",
    "\n",
    "trainer = hydra.utils.instantiate(cfg.trainer, logger=logger_array, callbacks=callbacks)\n",
    "trainer.fit(model=model, train_dataloaders=train_loader, val_dataloaders=valid_loader)\n",
    "```\n",
    "\n",
    "This section is a bit more involved in `train.py`, to leave flexibility for different loggers and callbacks configurations. We are going to keep it simple here.\n",
    "\n",
    "Let's first initialise a simple tensorboard logger:"
   ]
  },
  {
   "cell_type": "code",
   "execution_count": 18,
   "metadata": {},
   "outputs": [],
   "source": [
    "log_save_path = os.path.join(cfg.paths.output_dir, \"notebook_example\")\n",
    "os.makedirs(log_save_path, exist_ok=True)\n",
    "\n",
    "logger = lightning.pytorch.loggers.TensorBoardLogger(\n",
    "    name=\"tensorboard/\",\n",
    "    save_dir=log_save_path,\n",
    ")"
   ]
  },
  {
   "cell_type": "markdown",
   "metadata": {},
   "source": [
    "Then some training callbacks (i.e. utility functions that will be called during training):"
   ]
  },
  {
   "cell_type": "code",
   "execution_count": 19,
   "metadata": {},
   "outputs": [],
   "source": [
    "early_stopping = lightning.pytorch.callbacks.EarlyStopping(\n",
    "    monitor=\"val_correlation\",\n",
    "    patience=10,\n",
    "    mode=\"max\",\n",
    "    verbose=False,\n",
    "    min_delta=0.001,\n",
    ")\n",
    "\n",
    "lr_monitor = lightning.pytorch.callbacks.LearningRateMonitor(logging_interval=\"epoch\")\n",
    "\n",
    "model_checkpoint = lightning.pytorch.callbacks.ModelCheckpoint(\n",
    "    monitor=\"val_correlation\", mode=\"max\", save_weights_only=False\n",
    ")"
   ]
  },
  {
   "cell_type": "markdown",
   "metadata": {},
   "source": [
    "We can then instantiate the trainer:"
   ]
  },
  {
   "cell_type": "code",
   "execution_count": 20,
   "metadata": {},
   "outputs": [
    {
     "name": "stderr",
     "output_type": "stream",
     "text": [
      "GPU available: True (cuda), used: True\n",
      "TPU available: False, using: 0 TPU cores\n",
      "HPU available: False, using: 0 HPUs\n"
     ]
    }
   ],
   "source": [
    "trainer = lightning.Trainer(max_epochs=100, logger=logger, callbacks=[early_stopping, lr_monitor, model_checkpoint])"
   ]
  },
  {
   "cell_type": "markdown",
   "metadata": {},
   "source": [
    "Finally, we can start training. Before doing sp though, we can initialise the tensorboard jupyter integration, to visualize how training progresses.\n",
    "\n",
    "Run the following cell once or twice until the tensorboard extension UI shows up. Once is shows, note that at the beginning it will show no data (unless you have run this notebook before), because we have not started the trainer yet.\n",
    "\n",
    "When you run the cell containing `trainer.fit` you can then come back to the tensorboard extension, reload the window *within the extension* by clicking the refresh icon in the top right, and follow the training."
   ]
  },
  {
   "cell_type": "code",
   "execution_count": 24,
   "metadata": {},
   "outputs": [
    {
     "data": {
      "text/html": [
       "\n",
       "      <iframe id=\"tensorboard-frame-33a53247f13b609\" width=\"100%\" height=\"800\" frameborder=\"0\">\n",
       "      </iframe>\n",
       "      <script>\n",
       "        (function() {\n",
       "          const frame = document.getElementById(\"tensorboard-frame-33a53247f13b609\");\n",
       "          const url = new URL(\"/\", window.location);\n",
       "          const port = 6007;\n",
       "          if (port) {\n",
       "            url.port = port;\n",
       "          }\n",
       "          frame.src = url;\n",
       "        })();\n",
       "      </script>\n",
       "    "
      ],
      "text/plain": [
       "<IPython.core.display.HTML object>"
      ]
     },
     "metadata": {},
     "output_type": "display_data"
    }
   ],
   "source": [
    "%reload_ext tensorboard\n",
    "\n",
    "%tensorboard --logdir {log_save_path}"
   ]
  },
  {
   "cell_type": "markdown",
   "metadata": {},
   "source": [
    "The only last important step before calling the trainer is to convert the dictionary of dataloaders we have into a unified iterator that will cycle through all sessions during training and evaluation:"
   ]
  },
  {
   "cell_type": "code",
   "execution_count": 25,
   "metadata": {},
   "outputs": [],
   "source": [
    "train_loader = LongCycler(dataloaders[\"train\"])\n",
    "val_loader = ShortCycler(dataloaders[\"validation\"])"
   ]
  },
  {
   "cell_type": "markdown",
   "metadata": {},
   "source": [
    "And we are finally ready to train:"
   ]
  },
  {
   "cell_type": "code",
   "execution_count": 26,
   "metadata": {},
   "outputs": [
    {
     "name": "stderr",
     "output_type": "stream",
     "text": [
      "You are using a CUDA device ('NVIDIA GeForce RTX 4090') that has Tensor Cores. To properly utilize them, you should set `torch.set_float32_matmul_precision('medium' | 'high')` which will trade-off precision for performance. For more details, read https://pytorch.org/docs/stable/generated/torch.set_float32_matmul_precision.html#torch.set_float32_matmul_precision\n",
      "LOCAL_RANK: 0 - CUDA_VISIBLE_DEVICES: [0]\n",
      "\n",
      "  | Name             | Type                        | Params | Mode \n",
      "-------------------------------------------------------------------------\n",
      "0 | core             | SimpleCoreWrapper           | 12.4 K | train\n",
      "1 | readout          | MultiGaussianReadoutWrapper | 66.0 K | train\n",
      "2 | loss             | PoissonLoss3d               | 0      | train\n",
      "3 | correlation_loss | CorrelationLoss3d           | 0      | train\n",
      "-------------------------------------------------------------------------\n",
      "78.4 K    Trainable params\n",
      "0         Non-trainable params\n",
      "78.4 K    Total params\n",
      "0.314     Total estimated model params size (MB)\n",
      "84        Modules in train mode\n",
      "0         Modules in eval mode\n"
     ]
    },
    {
     "data": {
      "application/vnd.jupyter.widget-view+json": {
       "model_id": "55d636c72041482dba7a8c9003218ff7",
       "version_major": 2,
       "version_minor": 0
      },
      "text/plain": [
       "Sanity Checking: |          | 0/? [00:00<?, ?it/s]"
      ]
     },
     "metadata": {},
     "output_type": "display_data"
    },
    {
     "data": {
      "application/vnd.jupyter.widget-view+json": {
       "model_id": "a2bb08e3ce2c495388db17a5e2c73a9c",
       "version_major": 2,
       "version_minor": 0
      },
      "text/plain": [
       "Training: |          | 0/? [00:00<?, ?it/s]"
      ]
     },
     "metadata": {},
     "output_type": "display_data"
    },
    {
     "data": {
      "application/vnd.jupyter.widget-view+json": {
       "model_id": "65785b3428bb42c48c17b9a1d052e037",
       "version_major": 2,
       "version_minor": 0
      },
      "text/plain": [
       "Validation: |          | 0/? [00:00<?, ?it/s]"
      ]
     },
     "metadata": {},
     "output_type": "display_data"
    },
    {
     "data": {
      "application/vnd.jupyter.widget-view+json": {
       "model_id": "af759f930e20415d9c7c68b617970ac7",
       "version_major": 2,
       "version_minor": 0
      },
      "text/plain": [
       "Validation: |          | 0/? [00:00<?, ?it/s]"
      ]
     },
     "metadata": {},
     "output_type": "display_data"
    },
    {
     "data": {
      "application/vnd.jupyter.widget-view+json": {
       "model_id": "29e5f26b16bb4bad8c82cf0963276783",
       "version_major": 2,
       "version_minor": 0
      },
      "text/plain": [
       "Validation: |          | 0/? [00:00<?, ?it/s]"
      ]
     },
     "metadata": {},
     "output_type": "display_data"
    },
    {
     "data": {
      "application/vnd.jupyter.widget-view+json": {
       "model_id": "e512fe6cf7b446dd9294f40cfd377cb6",
       "version_major": 2,
       "version_minor": 0
      },
      "text/plain": [
       "Validation: |          | 0/? [00:00<?, ?it/s]"
      ]
     },
     "metadata": {},
     "output_type": "display_data"
    },
    {
     "data": {
      "application/vnd.jupyter.widget-view+json": {
       "model_id": "1ac48eecad5147cba1877140d4136ac0",
       "version_major": 2,
       "version_minor": 0
      },
      "text/plain": [
       "Validation: |          | 0/? [00:00<?, ?it/s]"
      ]
     },
     "metadata": {},
     "output_type": "display_data"
    },
    {
     "data": {
      "application/vnd.jupyter.widget-view+json": {
       "model_id": "4ca716f6e70d4826aa3b9b46698d512e",
       "version_major": 2,
       "version_minor": 0
      },
      "text/plain": [
       "Validation: |          | 0/? [00:00<?, ?it/s]"
      ]
     },
     "metadata": {},
     "output_type": "display_data"
    },
    {
     "data": {
      "application/vnd.jupyter.widget-view+json": {
       "model_id": "eff5b8601dc54e84921171b8757b2bb0",
       "version_major": 2,
       "version_minor": 0
      },
      "text/plain": [
       "Validation: |          | 0/? [00:00<?, ?it/s]"
      ]
     },
     "metadata": {},
     "output_type": "display_data"
    },
    {
     "data": {
      "application/vnd.jupyter.widget-view+json": {
       "model_id": "0403595c0f1c42d7a6654b29986332aa",
       "version_major": 2,
       "version_minor": 0
      },
      "text/plain": [
       "Validation: |          | 0/? [00:00<?, ?it/s]"
      ]
     },
     "metadata": {},
     "output_type": "display_data"
    },
    {
     "data": {
      "application/vnd.jupyter.widget-view+json": {
       "model_id": "21480abc8d5a4837a7c90a3a86ffcc72",
       "version_major": 2,
       "version_minor": 0
      },
      "text/plain": [
       "Validation: |          | 0/? [00:00<?, ?it/s]"
      ]
     },
     "metadata": {},
     "output_type": "display_data"
    },
    {
     "data": {
      "application/vnd.jupyter.widget-view+json": {
       "model_id": "3d1cfb9ea6c941c682d96e83cd020c3a",
       "version_major": 2,
       "version_minor": 0
      },
      "text/plain": [
       "Validation: |          | 0/? [00:00<?, ?it/s]"
      ]
     },
     "metadata": {},
     "output_type": "display_data"
    },
    {
     "data": {
      "application/vnd.jupyter.widget-view+json": {
       "model_id": "a884228987894557a4a128a478b6cdff",
       "version_major": 2,
       "version_minor": 0
      },
      "text/plain": [
       "Validation: |          | 0/? [00:00<?, ?it/s]"
      ]
     },
     "metadata": {},
     "output_type": "display_data"
    },
    {
     "data": {
      "application/vnd.jupyter.widget-view+json": {
       "model_id": "82a7894fcd564ac4b9150e015d93f3f4",
       "version_major": 2,
       "version_minor": 0
      },
      "text/plain": [
       "Validation: |          | 0/? [00:00<?, ?it/s]"
      ]
     },
     "metadata": {},
     "output_type": "display_data"
    },
    {
     "data": {
      "application/vnd.jupyter.widget-view+json": {
       "model_id": "4ad33ce8a920456f8aeb4ffaee749520",
       "version_major": 2,
       "version_minor": 0
      },
      "text/plain": [
       "Validation: |          | 0/? [00:00<?, ?it/s]"
      ]
     },
     "metadata": {},
     "output_type": "display_data"
    },
    {
     "data": {
      "application/vnd.jupyter.widget-view+json": {
       "model_id": "51bef9e8aa3547caa8b6453496cab9ca",
       "version_major": 2,
       "version_minor": 0
      },
      "text/plain": [
       "Validation: |          | 0/? [00:00<?, ?it/s]"
      ]
     },
     "metadata": {},
     "output_type": "display_data"
    },
    {
     "data": {
      "application/vnd.jupyter.widget-view+json": {
       "model_id": "8518314c3f93423489c92e7915fe8a17",
       "version_major": 2,
       "version_minor": 0
      },
      "text/plain": [
       "Validation: |          | 0/? [00:00<?, ?it/s]"
      ]
     },
     "metadata": {},
     "output_type": "display_data"
    },
    {
     "data": {
      "application/vnd.jupyter.widget-view+json": {
       "model_id": "db2b6fe06cc34dd188b5dc1f22b83e63",
       "version_major": 2,
       "version_minor": 0
      },
      "text/plain": [
       "Validation: |          | 0/? [00:00<?, ?it/s]"
      ]
     },
     "metadata": {},
     "output_type": "display_data"
    },
    {
     "data": {
      "application/vnd.jupyter.widget-view+json": {
       "model_id": "1a8184f31dfa4fd4a8e9e0462a8893b5",
       "version_major": 2,
       "version_minor": 0
      },
      "text/plain": [
       "Validation: |          | 0/? [00:00<?, ?it/s]"
      ]
     },
     "metadata": {},
     "output_type": "display_data"
    },
    {
     "data": {
      "application/vnd.jupyter.widget-view+json": {
       "model_id": "8a9de4b8fd7b4821ae3bb6cf74586030",
       "version_major": 2,
       "version_minor": 0
      },
      "text/plain": [
       "Validation: |          | 0/? [00:00<?, ?it/s]"
      ]
     },
     "metadata": {},
     "output_type": "display_data"
    },
    {
     "data": {
      "application/vnd.jupyter.widget-view+json": {
       "model_id": "9070fac111c44130bbb6e99a0d67adf2",
       "version_major": 2,
       "version_minor": 0
      },
      "text/plain": [
       "Validation: |          | 0/? [00:00<?, ?it/s]"
      ]
     },
     "metadata": {},
     "output_type": "display_data"
    },
    {
     "data": {
      "application/vnd.jupyter.widget-view+json": {
       "model_id": "49aa328c40c44002841b4e8cc540bd74",
       "version_major": 2,
       "version_minor": 0
      },
      "text/plain": [
       "Validation: |          | 0/? [00:00<?, ?it/s]"
      ]
     },
     "metadata": {},
     "output_type": "display_data"
    },
    {
     "data": {
      "application/vnd.jupyter.widget-view+json": {
       "model_id": "9e803f6e6ace41388f55a224f5c1ee8a",
       "version_major": 2,
       "version_minor": 0
      },
      "text/plain": [
       "Validation: |          | 0/? [00:00<?, ?it/s]"
      ]
     },
     "metadata": {},
     "output_type": "display_data"
    },
    {
     "data": {
      "application/vnd.jupyter.widget-view+json": {
       "model_id": "be769a5aaf7445f6acdc36de123a17ee",
       "version_major": 2,
       "version_minor": 0
      },
      "text/plain": [
       "Validation: |          | 0/? [00:00<?, ?it/s]"
      ]
     },
     "metadata": {},
     "output_type": "display_data"
    },
    {
     "data": {
      "application/vnd.jupyter.widget-view+json": {
       "model_id": "be764f379811424482c1e0e4129e4380",
       "version_major": 2,
       "version_minor": 0
      },
      "text/plain": [
       "Validation: |          | 0/? [00:00<?, ?it/s]"
      ]
     },
     "metadata": {},
     "output_type": "display_data"
    },
    {
     "data": {
      "application/vnd.jupyter.widget-view+json": {
       "model_id": "32df1a738635431ab50219d843472a8b",
       "version_major": 2,
       "version_minor": 0
      },
      "text/plain": [
       "Validation: |          | 0/? [00:00<?, ?it/s]"
      ]
     },
     "metadata": {},
     "output_type": "display_data"
    },
    {
     "data": {
      "application/vnd.jupyter.widget-view+json": {
       "model_id": "33fddfcd7cc74232a41aa50afad00791",
       "version_major": 2,
       "version_minor": 0
      },
      "text/plain": [
       "Validation: |          | 0/? [00:00<?, ?it/s]"
      ]
     },
     "metadata": {},
     "output_type": "display_data"
    },
    {
     "data": {
      "application/vnd.jupyter.widget-view+json": {
       "model_id": "7022d17af6d642269f85e61359fcdbd7",
       "version_major": 2,
       "version_minor": 0
      },
      "text/plain": [
       "Validation: |          | 0/? [00:00<?, ?it/s]"
      ]
     },
     "metadata": {},
     "output_type": "display_data"
    },
    {
     "data": {
      "application/vnd.jupyter.widget-view+json": {
       "model_id": "ac81a53215b04efb895310a0d8888eb5",
       "version_major": 2,
       "version_minor": 0
      },
      "text/plain": [
       "Validation: |          | 0/? [00:00<?, ?it/s]"
      ]
     },
     "metadata": {},
     "output_type": "display_data"
    },
    {
     "data": {
      "application/vnd.jupyter.widget-view+json": {
       "model_id": "839536f3054b4afdb2235bddc7ca82e3",
       "version_major": 2,
       "version_minor": 0
      },
      "text/plain": [
       "Validation: |          | 0/? [00:00<?, ?it/s]"
      ]
     },
     "metadata": {},
     "output_type": "display_data"
    },
    {
     "data": {
      "application/vnd.jupyter.widget-view+json": {
       "model_id": "5d109beb9eb544bc8f943cb94c530004",
       "version_major": 2,
       "version_minor": 0
      },
      "text/plain": [
       "Validation: |          | 0/? [00:00<?, ?it/s]"
      ]
     },
     "metadata": {},
     "output_type": "display_data"
    },
    {
     "data": {
      "application/vnd.jupyter.widget-view+json": {
       "model_id": "d913a909f7f74719ae66d8d8ed16bdac",
       "version_major": 2,
       "version_minor": 0
      },
      "text/plain": [
       "Validation: |          | 0/? [00:00<?, ?it/s]"
      ]
     },
     "metadata": {},
     "output_type": "display_data"
    },
    {
     "data": {
      "application/vnd.jupyter.widget-view+json": {
       "model_id": "b01a6c090acd444699d5ca160fe64586",
       "version_major": 2,
       "version_minor": 0
      },
      "text/plain": [
       "Validation: |          | 0/? [00:00<?, ?it/s]"
      ]
     },
     "metadata": {},
     "output_type": "display_data"
    },
    {
     "data": {
      "application/vnd.jupyter.widget-view+json": {
       "model_id": "3f77108e0f1c4783bcd97ab063e1ab8b",
       "version_major": 2,
       "version_minor": 0
      },
      "text/plain": [
       "Validation: |          | 0/? [00:00<?, ?it/s]"
      ]
     },
     "metadata": {},
     "output_type": "display_data"
    },
    {
     "data": {
      "application/vnd.jupyter.widget-view+json": {
       "model_id": "fff7701f52ee46588bbb3db711a7b1ea",
       "version_major": 2,
       "version_minor": 0
      },
      "text/plain": [
       "Validation: |          | 0/? [00:00<?, ?it/s]"
      ]
     },
     "metadata": {},
     "output_type": "display_data"
    },
    {
     "data": {
      "application/vnd.jupyter.widget-view+json": {
       "model_id": "0eeb3110be244fb59fa837a302cf6d39",
       "version_major": 2,
       "version_minor": 0
      },
      "text/plain": [
       "Validation: |          | 0/? [00:00<?, ?it/s]"
      ]
     },
     "metadata": {},
     "output_type": "display_data"
    },
    {
     "data": {
      "application/vnd.jupyter.widget-view+json": {
       "model_id": "82c7a187aa854d13b6aa92f0c8f8af43",
       "version_major": 2,
       "version_minor": 0
      },
      "text/plain": [
       "Validation: |          | 0/? [00:00<?, ?it/s]"
      ]
     },
     "metadata": {},
     "output_type": "display_data"
    },
    {
     "data": {
      "application/vnd.jupyter.widget-view+json": {
       "model_id": "141be2a1dc0349b5b0e01e03648b9e8b",
       "version_major": 2,
       "version_minor": 0
      },
      "text/plain": [
       "Validation: |          | 0/? [00:00<?, ?it/s]"
      ]
     },
     "metadata": {},
     "output_type": "display_data"
    },
    {
     "data": {
      "application/vnd.jupyter.widget-view+json": {
       "model_id": "97eb034770f44dc28970cbfe5e981f6a",
       "version_major": 2,
       "version_minor": 0
      },
      "text/plain": [
       "Validation: |          | 0/? [00:00<?, ?it/s]"
      ]
     },
     "metadata": {},
     "output_type": "display_data"
    },
    {
     "data": {
      "application/vnd.jupyter.widget-view+json": {
       "model_id": "a248d394292c47bbb5e0ceeab910f09c",
       "version_major": 2,
       "version_minor": 0
      },
      "text/plain": [
       "Validation: |          | 0/? [00:00<?, ?it/s]"
      ]
     },
     "metadata": {},
     "output_type": "display_data"
    },
    {
     "data": {
      "application/vnd.jupyter.widget-view+json": {
       "model_id": "370de5d5776d45b78c2cc6b0bd8351ae",
       "version_major": 2,
       "version_minor": 0
      },
      "text/plain": [
       "Validation: |          | 0/? [00:00<?, ?it/s]"
      ]
     },
     "metadata": {},
     "output_type": "display_data"
    },
    {
     "data": {
      "application/vnd.jupyter.widget-view+json": {
       "model_id": "67b940ca460b454da38bfab253883634",
       "version_major": 2,
       "version_minor": 0
      },
      "text/plain": [
       "Validation: |          | 0/? [00:00<?, ?it/s]"
      ]
     },
     "metadata": {},
     "output_type": "display_data"
    },
    {
     "data": {
      "application/vnd.jupyter.widget-view+json": {
       "model_id": "c815440e1f544e449f21c1ec401e2ab3",
       "version_major": 2,
       "version_minor": 0
      },
      "text/plain": [
       "Validation: |          | 0/? [00:00<?, ?it/s]"
      ]
     },
     "metadata": {},
     "output_type": "display_data"
    },
    {
     "data": {
      "application/vnd.jupyter.widget-view+json": {
       "model_id": "8c6060992b8d47ceae377c1d6ed35329",
       "version_major": 2,
       "version_minor": 0
      },
      "text/plain": [
       "Validation: |          | 0/? [00:00<?, ?it/s]"
      ]
     },
     "metadata": {},
     "output_type": "display_data"
    },
    {
     "data": {
      "application/vnd.jupyter.widget-view+json": {
       "model_id": "28c23c82cea14562a31412aefe88c35d",
       "version_major": 2,
       "version_minor": 0
      },
      "text/plain": [
       "Validation: |          | 0/? [00:00<?, ?it/s]"
      ]
     },
     "metadata": {},
     "output_type": "display_data"
    },
    {
     "data": {
      "application/vnd.jupyter.widget-view+json": {
       "model_id": "bbf0d4a19163468f9d0aef43e3046398",
       "version_major": 2,
       "version_minor": 0
      },
      "text/plain": [
       "Validation: |          | 0/? [00:00<?, ?it/s]"
      ]
     },
     "metadata": {},
     "output_type": "display_data"
    },
    {
     "data": {
      "application/vnd.jupyter.widget-view+json": {
       "model_id": "b75415fad2ba444d927643aa3600a858",
       "version_major": 2,
       "version_minor": 0
      },
      "text/plain": [
       "Validation: |          | 0/? [00:00<?, ?it/s]"
      ]
     },
     "metadata": {},
     "output_type": "display_data"
    },
    {
     "data": {
      "application/vnd.jupyter.widget-view+json": {
       "model_id": "39379f7268b141d3a96fe808bd12009d",
       "version_major": 2,
       "version_minor": 0
      },
      "text/plain": [
       "Validation: |          | 0/? [00:00<?, ?it/s]"
      ]
     },
     "metadata": {},
     "output_type": "display_data"
    },
    {
     "data": {
      "application/vnd.jupyter.widget-view+json": {
       "model_id": "82d6075958554b88b17d0c584d889ebd",
       "version_major": 2,
       "version_minor": 0
      },
      "text/plain": [
       "Validation: |          | 0/? [00:00<?, ?it/s]"
      ]
     },
     "metadata": {},
     "output_type": "display_data"
    },
    {
     "data": {
      "application/vnd.jupyter.widget-view+json": {
       "model_id": "ee1b66502642476790925395ebae7636",
       "version_major": 2,
       "version_minor": 0
      },
      "text/plain": [
       "Validation: |          | 0/? [00:00<?, ?it/s]"
      ]
     },
     "metadata": {},
     "output_type": "display_data"
    }
   ],
   "source": [
    "trainer.fit(model, train_loader, val_loader)"
   ]
  },
  {
   "cell_type": "markdown",
   "metadata": {},
   "source": [
    "# Evaluation"
   ]
  },
  {
   "cell_type": "markdown",
   "metadata": {},
   "source": [
    "Once the model is done training, we can turn to evaluation.\n",
    "\n",
    "First, let's still use the trainer to see the poisson and correlation performance on each of the dataloaders."
   ]
  },
  {
   "cell_type": "code",
   "execution_count": 27,
   "metadata": {},
   "outputs": [
    {
     "name": "stderr",
     "output_type": "stream",
     "text": [
      "Restoring states from the checkpoint path at ./notebook_example/tensorboard/version_0/checkpoints/epoch=37-step=5092.ckpt\n",
      "LOCAL_RANK: 0 - CUDA_VISIBLE_DEVICES: [0]\n",
      "Loaded model weights from the checkpoint at ./notebook_example/tensorboard/version_0/checkpoints/epoch=37-step=5092.ckpt\n"
     ]
    },
    {
     "data": {
      "application/vnd.jupyter.widget-view+json": {
       "model_id": "4e8ec6d3dd1548f9832be2a145ca7997",
       "version_major": 2,
       "version_minor": 0
      },
      "text/plain": [
       "Testing: |          | 0/? [00:00<?, ?it/s]"
      ]
     },
     "metadata": {},
     "output_type": "display_data"
    },
    {
     "name": "stdout",
     "output_type": "stream",
     "text": [
      "────────────────────────────────────────────────────────────────────────────────────────────────────────────────────────\n",
      "       Test metric             DataLoader 0             DataLoader 1             DataLoader 2\n",
      "────────────────────────────────────────────────────────────────────────────────────────────────────────────────────────\n",
      "    test_correlation         0.21042400598526        0.25771355628967285      0.4805484712123871\n",
      "        test_loss            646.631591796875         363.0682067871094        35.19154739379883\n",
      "────────────────────────────────────────────────────────────────────────────────────────────────────────────────────────\n"
     ]
    },
    {
     "data": {
      "text/plain": [
       "[{'test_loss/dataloader_idx_0': 646.631591796875,\n",
       "  'test_correlation/dataloader_idx_0': 0.21042400598526},\n",
       " {'test_loss/dataloader_idx_1': 363.0682067871094,\n",
       "  'test_correlation/dataloader_idx_1': 0.25771355628967285},\n",
       " {'test_loss/dataloader_idx_2': 35.19154739379883,\n",
       "  'test_correlation/dataloader_idx_2': 0.4805484712123871}]"
      ]
     },
     "execution_count": 27,
     "metadata": {},
     "output_type": "execute_result"
    }
   ],
   "source": [
    "test_loader = ShortCycler(dataloaders[\"test\"])\n",
    "trainer.test(model, dataloaders=[train_loader, val_loader, test_loader], ckpt_path=\"best\")"
   ]
  },
  {
   "cell_type": "markdown",
   "metadata": {},
   "source": [
    "We can also look at further evals, like the fraction of explainable variance explained for an example session."
   ]
  },
  {
   "cell_type": "code",
   "execution_count": 28,
   "metadata": {},
   "outputs": [
    {
     "data": {
      "text/plain": [
       "(80, 750, 3)"
      ]
     },
     "execution_count": 28,
     "metadata": {},
     "output_type": "execute_result"
    }
   ],
   "source": [
    "# Let's pick an example session\n",
    "example_session = list(final_responses.keys())[0]\n",
    "\n",
    "# Extract responses by trial:\n",
    "responses_by_trial = final_responses[example_session].test_by_trial\n",
    "\n",
    "responses_by_trial.shape"
   ]
  },
  {
   "cell_type": "code",
   "execution_count": 29,
   "metadata": {},
   "outputs": [
    {
     "data": {
      "text/plain": [
       "torch.Size([1, 730, 80])"
      ]
     },
     "execution_count": 29,
     "metadata": {},
     "output_type": "execute_result"
    }
   ],
   "source": [
    "# Get the test movie for that session:\n",
    "test_movie = dataloaders[\"test\"][example_session].dataset.movies\n",
    "\n",
    "# Pass it through the model: move to gpu and add batch dimension\n",
    "with torch.no_grad():\n",
    "    model_predictions = model.forward(test_movie.to(model.device).unsqueeze(0), data_key=example_session)\n",
    "\n",
    "model_predictions.shape"
   ]
  },
  {
   "cell_type": "code",
   "execution_count": 30,
   "metadata": {},
   "outputs": [
    {
     "name": "stdout",
     "output_type": "stream",
     "text": [
      "Help on function feve in module openretina.eval.metrics:\n",
      "\n",
      "feve(\n",
      "    targets: jaxtyping.Float[ndarray, 'frames repeats neurons'],\n",
      "    predictions: jaxtyping.Float[ndarray, 'frames repeats neurons'] | jaxtyping.Float[ndarray, 'frames neurons']\n",
      ") -> jaxtyping.Float[ndarray, 'neurons']\n",
      "    Adapted from neuralpredictors.\n",
      "    Compute the fraction of explainable variance explained per neuron\n",
      "\n",
      "    Args:\n",
      "        targets (array-like): Neuron responses (ground truth) over time / different images across repetitions.\n",
      "        Dimensions: np.array(images/time, num_repeats, num_neurons)\n",
      "        predictions (array-like): Model predictions to the repeated images, either including or excluding\n",
      "        repetitions. Dimensions: np.array(images/time, num_repeats, num_neurons) or np.array(images/time, num_neurons)\n",
      "    Returns:\n",
      "        FEVe (np.array): the fraction of explainable variance explained per neuron\n",
      "\n"
     ]
    }
   ],
   "source": [
    "help(feve)"
   ]
  },
  {
   "cell_type": "code",
   "execution_count": 31,
   "metadata": {},
   "outputs": [
    {
     "name": "stdout",
     "output_type": "stream",
     "text": [
      "Average FEVe score for session session_1_ventral1_20200226: 0.37\n"
     ]
    }
   ],
   "source": [
    "# We need to reshape the predictions and responses by trial to match what the function expects\n",
    "\n",
    "feve_score = feve(\n",
    "    rearrange(responses_by_trial, \"neurons time trials -> time trials neurons\")[20:],\n",
    "    model_predictions.squeeze(0).cpu().numpy(),\n",
    ")\n",
    "\n",
    "print(f\"Average FEVe score for session {example_session}: {feve_score.mean():.2f}\")"
   ]
  },
  {
   "cell_type": "markdown",
   "metadata": {},
   "source": [
    "Finally, we can plot an example neuron's predictions and its ground truth response."
   ]
  },
  {
   "cell_type": "code",
   "execution_count": 35,
   "metadata": {},
   "outputs": [
    {
     "data": {
      "image/png": "[encoded data removed]",
      "text/plain": [
       "<Figure size 1000x500 with 1 Axes>"
      ]
     },
     "metadata": {
      "image/png": {
       "height": 478,
       "width": 826
      }
     },
     "output_type": "display_data"
    }
   ],
   "source": [
    "neuron_idx = 4\n",
    "session_idx = 0\n",
    "\n",
    "\n",
    "example_session = list(final_responses.keys())[session_idx]\n",
    "\n",
    "test_sample = next(iter(dataloaders[\"test\"][example_session]))\n",
    "responses_by_trial = final_responses[example_session].test_by_trial\n",
    "mean_test_responses = final_responses[example_session].test_response\n",
    "\n",
    "input_samples = test_sample.inputs\n",
    "targets = test_sample.targets\n",
    "\n",
    "model.eval()\n",
    "model.cpu()\n",
    "\n",
    "with torch.no_grad():\n",
    "    reconstructions = model(input_samples.cpu(), example_session)\n",
    "reconstructions = reconstructions.cpu().numpy().squeeze()\n",
    "\n",
    "feve_score = feve(\n",
    "    rearrange(responses_by_trial, \"neurons time trials -> time trials neurons\")[20:],\n",
    "    model_predictions.squeeze(0).cpu().numpy(),\n",
    ")\n",
    "\n",
    "correlations = correlation_numpy(mean_test_responses.T[20:], model_predictions.squeeze(0).cpu().numpy(), axis=0)\n",
    "\n",
    "\n",
    "targets = targets.cpu().numpy().squeeze()\n",
    "window = 750\n",
    "plt.figure(figsize=(10, 5))\n",
    "plt.plot(np.arange(0, window), targets[:window, neuron_idx], label=\"target\")\n",
    "plt.plot(np.arange(20, window), reconstructions[:window, neuron_idx], label=\"prediction\")\n",
    "plt.suptitle(f\"Neuron {neuron_idx} - FEVE: {feve_score[neuron_idx]:.2f} - Correlation: {correlations[neuron_idx]:.2f}\")\n",
    "\n",
    "plt.legend()\n",
    "sns.despine()"
   ]
  },
  {
   "cell_type": "markdown",
   "metadata": {},
   "source": [
    "---"
   ]
  }
 ],
 "metadata": {
  "kernelspec": {
   "display_name": "open_retina",
   "language": "python",
   "name": "python3"
  },
  "language_info": {
   "codemirror_mode": {
    "name": "ipython",
    "version": 3
   },
   "file_extension": ".py",
   "mimetype": "text/x-python",
   "name": "python",
   "nbconvert_exporter": "python",
   "pygments_lexer": "ipython3",
   "version": "3.13.2"
  }
 },
 "nbformat": 4,
 "nbformat_minor": 2
}
