{
 "cells": [
  {
   "cell_type": "markdown",
   "metadata": {},
   "source": [
    "In this notebook we will train a Core/Readout model on data from Hoefling et al., 2024: [\"A chromatic feature detector in the retina signals visual context changes\"](https://elifesciences.org/articles/86860).\n",
    "\n",
    "We will closely follow the structure of our unified training script, `openretina.cli.train.py`, including using Hydra to import and examine model config files. \n",
    "\n",
    "Note that using `openretina.cli.train.py`, and the corresponding command `openretina train` is the recommended way to run model training, as for some configurations it can take some time. \n"
   ]
  },
  {
   "cell_type": "markdown",
   "metadata": {},
   "source": [
    "# Imports"
   ]
  },
  {
   "cell_type": "code",
   "execution_count": null,
   "metadata": {},
   "outputs": [
    {
     "name": "stdout",
     "output_type": "stream",
     "text": [
      "The autoreload extension is already loaded. To reload it, use:\n",
      "  %reload_ext autoreload\n"
     ]
    }
   ],
   "source": [
    "import logging\n",
    "import os\n",
    "\n",
    "import hydra\n",
    "import lightning\n",
    "import matplotlib\n",
    "import matplotlib.pyplot as plt\n",
    "import numpy as np\n",
    "import seaborn as sns\n",
    "import torch\n",
    "from einops import rearrange\n",
    "\n",
    "from openretina.data_io.base import compute_data_info\n",
    "from openretina.data_io.cyclers import LongCycler, ShortCycler\n",
    "from openretina.data_io.hoefling_2024.dataloaders import natmov_dataloaders_v2\n",
    "from openretina.data_io.hoefling_2024.responses import filter_responses, make_final_responses\n",
    "from openretina.data_io.hoefling_2024.stimuli import movies_from_pickle\n",
    "from openretina.eval.metrics import correlation_numpy, feve\n",
    "from openretina.models.core_readout import CoreReadout\n",
    "from openretina.utils.file_utils import get_local_file_path\n",
    "from openretina.utils.h5_handling import load_h5_into_dict\n",
    "from openretina.utils.misc import CustomPrettyPrinter\n",
    "from openretina.utils.plotting import (\n",
    "    numpy_to_mp4_video,\n",
    ")\n",
    "\n",
    "matplotlib.rcParams[\"pdf.fonttype\"] = 42\n",
    "matplotlib.rcParams[\"ps.fonttype\"] = 42\n",
    "\n",
    "logging.basicConfig(\n",
    "    level=logging.INFO, format=\"%(asctime)s - %(levelname)s - %(message)s\"\n",
    ")  # to display logs in jupyter\n",
    "\n",
    "%load_ext autoreload\n",
    "%autoreload 2\n",
    "%matplotlib inline\n",
    "%config InlineBackend.figure_format = 'retina'\n",
    "\n",
    "pp = CustomPrettyPrinter(indent=4, max_lines=30)"
   ]
  },
  {
   "cell_type": "markdown",
   "metadata": {},
   "source": [
    "Let's import also the global config file for this model using hydra."
   ]
  },
  {
   "cell_type": "code",
   "execution_count": 2,
   "metadata": {},
   "outputs": [],
   "source": [
    "with hydra.initialize(config_path=os.path.join(\"..\", \"configs\"), version_base=\"1.3\"):\n",
    "    cfg = hydra.compose(config_name=\"hoefling_2024_core_readout_low_res.yaml\")"
   ]
  },
  {
   "cell_type": "markdown",
   "metadata": {},
   "source": [
    "# Loading data"
   ]
  },
  {
   "cell_type": "markdown",
   "metadata": {},
   "source": [
    "The first step in loading data is determining from where it will be fetched / stored.\n",
    "\n",
    "Let's see how this is handled in the configs:"
   ]
  },
  {
   "cell_type": "code",
   "execution_count": 3,
   "metadata": {},
   "outputs": [
    {
     "name": "stdout",
     "output_type": "stream",
     "text": [
      "{   'data_dir': '${data.root_dir}/euler_data/',\n",
      "    'movies_path': 'https://gin.g-node.org/teulerlab/open-retina/raw/master/stimuli/eulerlab/rgc_natstim_18x16_joint_normalized_2024-01-11.pkl',\n",
      "    'output_dir': '${data.root_dir}/openretina_assets/runs',\n",
      "    'responses_path': 'https://gin.g-node.org/teulerlab/open-retina/raw/master/responses/eulerlab/rgc_natstim_2024-08-14.h5',\n",
      "    'root_dir': '???'}\n"
     ]
    }
   ],
   "source": [
    "pp.pprint(cfg.data)"
   ]
  },
  {
   "cell_type": "markdown",
   "metadata": {},
   "source": [
    "The config contains the path from where files will be downloaded, and also requires the `root_dir` to be set by the user: this is the directory where the data will be stored, and where also model logs and checkpoints will end up.\n",
    "\n",
    "When using the training script, if root_dir is not set by the user in the config files or somewhere in the script, this will cause an error.\n",
    "\n",
    "The `root_dir` is also what the package will use in place of the default openretina cache folder. Let's set both here:"
   ]
  },
  {
   "cell_type": "code",
   "execution_count": 4,
   "metadata": {},
   "outputs": [],
   "source": [
    "your_chosen_root_folder = \"/Data\"  # Change this with your desired path.\n",
    "\n",
    "cfg.data.root_dir = your_chosen_root_folder\n",
    "\n",
    "os.environ[\"OPENRETINA_CACHE_DIRECTORY\"] = your_chosen_root_folder"
   ]
  },
  {
   "cell_type": "markdown",
   "metadata": {},
   "source": [
    "## Stimuli"
   ]
  },
  {
   "cell_type": "markdown",
   "metadata": {},
   "source": [
    "Loading of the stimuli is achieved, in the training script, via:\n",
    "```\n",
    "movies_dict = hydra.utils.call(cfg.data_io.stimuli)\n",
    "```\n",
    "\n",
    "Let's unpack it here."
   ]
  },
  {
   "cell_type": "code",
   "execution_count": 5,
   "metadata": {},
   "outputs": [
    {
     "name": "stdout",
     "output_type": "stream",
     "text": [
      "{   '_convert_': 'object',\n",
      "    '_target_': 'openretina.data_io.hoefling_2024.stimuli.movies_from_pickle',\n",
      "    'file_path': {   '_convert_': 'object',\n",
      "                     '_target_': 'openretina.utils.file_utils.get_local_file_path',\n",
      "                     'cache_folder': '${data.data_dir}',\n",
      "                     'file_path': '${data.movies_path}'}}\n"
     ]
    }
   ],
   "source": [
    "pp.pprint(cfg.data_io.stimuli)"
   ]
  },
  {
   "cell_type": "code",
   "execution_count": 6,
   "metadata": {},
   "outputs": [
    {
     "name": "stderr",
     "output_type": "stream",
     "text": [
      "2025-02-05 16:13:50,022 - INFO - Target file for https://gin.g-node.org//teulerlab/open-retina/raw/master/stimuli/eulerlab/rgc_natstim_18x16_joint_normalized_2024-01-11.pkl already exists at /Data/euler_data/rgc_natstim_18x16_joint_normalized_2024-01-11.pkl.\n"
     ]
    }
   ],
   "source": [
    "movies_path = get_local_file_path(file_path=cfg.data.movies_path, cache_folder=cfg.data.data_dir)\n",
    "\n",
    "movies_dict = movies_from_pickle(movies_path)"
   ]
  },
  {
   "cell_type": "code",
   "execution_count": 7,
   "metadata": {},
   "outputs": [
    {
     "name": "stdout",
     "output_type": "stream",
     "text": [
      "MoviesTrainTestSplit(train=numpy.ndarray(shape=(2, 16200, 18, 16)),\n",
      "                     test=numpy.ndarray(shape=(2, 750, 18, 16)),\n",
      "                     stim_id=None,\n",
      "                     random_sequences=numpy.ndarray(shape=(108, 20)),\n",
      "                     norm_mean=nan,\n",
      "                     norm_std=nan)\n"
     ]
    }
   ],
   "source": [
    "pp.pprint(movies_dict)"
   ]
  },
  {
   "cell_type": "markdown",
   "metadata": {},
   "source": [
    "Let us also visualize a few seconds of the training video:"
   ]
  },
  {
   "cell_type": "code",
   "execution_count": 8,
   "metadata": {},
   "outputs": [
    {
     "data": {
      "text/html": [
       "<video controls  width=\"640\"  height=\"360\">\n",
       " <source src=\"data:video/mp4;base64,AAAAIGZ0eXBpc29tAAACAGlzb21pc28yYXZjMW1wNDEAAAAIZnJlZQAAHJhtZGF0AAACrgYF//+q3EXpvebZSLeWLNgg2SPu73gyNjQgLSBjb3JlIDE2NCByMzE5MSA0NjEzYWMzIC0gSC4yNjQvTVBFRy00IEFWQyBjb2RlYyAtIENvcHlsZWZ0IDIwMDMtMjAyNCAtIGh0dHA6Ly93d3cudmlkZW9sYW4ub3JnL3gyNjQuaHRtbCAtIG9wdGlvbnM6IGNhYmFjPTEgcmVmPTMgZGVibG9jaz0xOjA6MCBhbmFseXNlPTB4MzoweDExMyBtZT1oZXggc3VibWU9NyBwc3k9MSBwc3lfcmQ9MS4wMDowLjAwIG1peGVkX3JlZj0xIG1lX3JhbmdlPTE2IGNocm9tYV9tZT0xIHRyZWxsaXM9MSA4eDhkY3Q9MSBjcW09MCBkZWFkem9uZT0yMSwxMSBmYXN0X3Bza2lwPTEgY2hyb21hX3FwX29mZnNldD0tMiB0aHJlYWRzPTEgbG9va2FoZWFkX3RocmVhZHM9MSBzbGljZWRfdGhyZWFkcz0wIG5yPTAgZGVjaW1hdGU9MSBpbnRlcmxhY2VkPTAgYmx1cmF5X2NvbXBhdD0wIGNvbnN0cmFpbmVkX2ludHJhPTAgYmZyYW1lcz0zIGJfcHlyYW1pZD0yIGJfYWRhcHQ9MSBiX2JpYXM9MCBkaXJlY3Q9MSB3ZWlnaHRiPTEgb3Blbl9nb3A9MCB3ZWlnaHRwPTIga2V5aW50PTI1MCBrZXlpbnRfbWluPTI1IHNjZW5lY3V0PTQwIGludHJhX3JlZnJlc2g9MCByY19sb29rYWhlYWQ9NDAgcmM9Y3JmIG1idHJlZT0xIGNyZj0yMy4wIHFjb21wPTAuNjAgcXBtaW49MCBxcG1heD02OSBxcHN0ZXA9NCBpcF9yYXRpbz0xLjQwIGFxPTE6MS4wMACAAAAAbWWIhAP/6OM9WXtUbKVx+BRf0NgWSBVj+qfd1PZDrKiYegY9gGw7zrKq9G8L1RjZYfYsQJ1+EfJQIBMkD7HY7JAmf/IBC7W7H+yDkWC+kbMDl6OGd9Nkla3bPwceSNSFIguVP7vkL6gy+mWh998AAAATQZojbH/dmaib6GwCKoM6HUFjgAAAAAlBnkF4jv/YeOEAAAAIAZ5iakJf2YAAAAAQQZplSahBaJlMFP90yDw2wQAAAAgBnoRqQl/ZgQAAABBBmodJ4QpSZTBS/3T469h/AAAACAGepmpCH9WBAAAADUGaqUnhDomUwUT/VEAAAAAIAZ7IakIf1YAAAAASQZrKSeEPJlMD/5ehMUtmHUTTAAAAGkGa60nhDyZTAv/Knx+7YsQ3DjSyuvR2YsB7AAAADEGbD0nhDyZTA/9UQAAAAAlBny1FETx304EAAAAIAZ9MdEIf1YEAAAAIAZ9OakIf1YEAAAAZQZtQSahBaJlMC//L+1oWghLoFyk7k09HQAAAABFBm3FJ4QpSZTAv/0ddLHFrIAAAABBBm5RJ4Q6JlMD/0gOZa/fBAAAACkGfskURPCH/1YAAAAAIAZ/TakIf1YAAAAAPQZvWSahBaJlMFP91q2h1AAAACAGf9WpCH9WAAAAAFkGb90nhClJlMD/SSr56YMl/KEsU06cAAAAMQZoYSeEOiZTA/1RBAAAAEkGaPEnhDyZTA//yJmpXi4pDzgAAAAlBnlpFETx304EAAAAIAZ55dEIf1YAAAAAIAZ57akIf1YEAAAAaQZpgSahBaJlMD//hl2UBjwkH9CWgt2TTmkEAAAAJQZ6eRREsd9V1AAAACAGevXRCH9WAAAAACAGev2pCH9WBAAAADUGaoUmoQWyZTA//VEAAAAARQZrFSeEKUmUwK/9ou2Rof4EAAAAJQZ7jRTRMd9OAAAAACAGfAnRCH9WBAAAACAGfBGpCH9WBAAAADkGbB0moQWiZTBT1/11BAAAACAGfJmpCH9WBAAAADUGbKEnhClJlMCv/XUAAAAAVQZtJSeEOiZTAr/LsJG6J5zR0nb14AAAAD0GbaknhDyZTAr/orNXTwQAAABRBm4tJ4Q8mUwK/8D4VcCjDzK2T4AAAAB9Bm61L4QhDyCMBzGQHMQBRE9fAjGGZv5iwjGQlWXuAAAAACAGfzGpCH9WBAAAAHEGb0UvhCEPIbBsIQbGAP90xas2tQnIOInCQBOkAAAAKQZ/vRRE8Z+GCowAAAAgBng50Qh/VgAAAAAgBnhBqQh/VgAAAABJBmhVJqEFomUwK/6+qVZ80N4EAAAAJQZ4zRREsZ9GAAAAACAGeUnRCH9WAAAAACwGeVGpHf9f0F/65AAAAJkGaWEuoQhBbIIwHEZAcRAD/4ckPEkSRn+m50OrfCgxYEZPowexgAAAACUGedkUVLFfOgQAAAAgBnpdqR3/TgQAAACJBmplJqEFsmUwP/+YVJmo0wS9ZPV4pX33Lo4picKV9v6eoAAAAHkGavEnhClJlMD/SF+CWr/F07oZtRIvb+o6rjS6PoQAAAAlBntpFNExn0YAAAAAIAZ77akd/1XUAAAASQZr9SahBaJlMD/9uuTz1PpmfAAAAEUGbH0nhClJlMFES/5QICvdcAAAACAGfPmpHf9OAAAAAFUGbIUnhDomUwUT/VMGbQn8rspynoQAAAAgBn0BqR3/TgAAAAB9Bm0JJ4Q8mUwL/ulDtdaXS81Hxgoa23bD/G5jq0Pd5AAAAF0GbY0nhDyZTAv996wgnX+GDjNiatVVUAAAAE0GbhEnhDyZTAv/l11Ti2xscPR0AAAAeQZunSeEPJlMC/81eqnce54sIslUq42LTBTebo6C5AAAACUGfxUURPFfQtQAAAAgBn+ZqR3/TgQAAABhBm+lJqEFomUwU9/9HXTWX2p9Osi8eov0AAAAIAZ4Iakd/04AAAAANQZoNSeEKUmUwL/9FwQAAAAlBnitFNExXzoAAAAAIAZ5KdEZ/0YAAAAAIAZ5MakZ/0YEAAAAXQZpPSahBaJlMFPf/1qkNIGns9r76geEAAAAIAZ5uakZ/0YEAAAAXQZpwSeEKUmUwL//LNk470/HylC/F7iAAAAAMQZqRSeEOiZTAv0XAAAAADkGas0nhDyZTBRE9/0XBAAAACAGe0mpGf9GAAAAAGUGa1EnhDyZTAv/LGUpwYZGm5Km+IhhPssAAAAAMQZr1SeEPJlMC/0XBAAAADEGbFknhDyZTAv9FwAAAACFBmzhJ4Q8mUwURPf/h3pajFna3gWGwUbzaapbNKq/wDoEAAAAIAZ9XakZ/00kAAAAMQZtZSeEPJlMC/0XAAAAAE0GbeknhDyZTAl9kqZsuVZirSrcAAAAjQZucSeEPJlMFETy/gI8qfKmT3oGibiyW+lgcFOIcOKi4QvYAAAAIAZ+7akZ/0YEAAAAMQZugSeEPJlMC/0XBAAAACUGf3kURPFfOgAAAAAgBn/10Rn/RgAAAAAgBn/9qRn/RgQAAABVBm+JJqEFomUwU9/9qBYdf4lb5zcAAAAAIAZ4BakZ/0YEAAAANQZoDSeEKUmUwL/9FwAAAAA5BmiVJ4Q6JlMFNE39FwQAAAAgBnkRqRn/RgQAAABBBmkhJ4Q8mUwL/yykE9R/BAAAACUGeZkURPGfRgQAAAAgBnodqRn/RgAAAABVBmolJqEFomUwL/2oFG+33O2sEFDAAAAAVQZqqSeEKUmUwL//KsbGJZRXcrcznAAAAGUGay0nhDomUwL/e64gyF8Hvr7/2DfpGiI4AAAAVQZrsSeEPJlMC/8sc0SPcS69Q3Wp9AAAADEGbDUnhDyZTAv9FwQAAABhBmy9J4Q8mUwURPf9/Gg/bNmHLOfxSeTkAAAAIAZ9Oakd/04EAAAANQZtRSeEPJlMFPf9FwAAAAAgBn3BqR3/TgAAAABhBm3JJ4Q8mUwL/ysSV8JgZ57tVBnbdQ7EAAAAfQZuUSeEPJlMFET3/yzXtKs8wXDgWylLslJXfi8+HyAAAAAgBn7NqR3/TgAAAAA1Bm7ZJ4Q8mUwU//1RBAAAACAGf1WpHf9OAAAAAGkGb2EnhDyZTBT//l5ZOh+/d7ZNMgt95BT8VAAAACAGf92pHf9OBAAAAEkGb+UnhDyZTA/90tUg7POcXYgAAAAxBmhpJ4Q8mUwP/VEEAAAAYQZo7SeEPJlMD/9KE462jV5wksq8IdBJAAAAAG0GaXEnhDyZTA//R2ubQKbUV5qwvhQBCqdBsQwAAABZBmn1J4Q8mUwP/x1DvdxraZHBCPWyBAAAADEGanknhDyZTA/9UQAAAABxBmr9J4Q8mUwP/0dL1JzIXhs1ZBbqdGz0GNiaQAAAADEGawEnhDyZTA/9UQQAAACBBmuNJ4Q8mUwK/6HLU//Qo7lH6ap+ZrVoAIebEcELdFgAAAAlBnwFFETxn0YEAAAAJAZ8iakd/3l6AAAAAEkGbJEmoQWiZTAr/Z1YxaAOOYQAAABlBm0VJ4QpSZTAr/63K3G800XxeEHGVUcxHAAAAG0GbZ0nhDomUwU0TJ/SJGkAh1rKukY/gK6ApiwAAAAgBn4ZqR3/TgQAAAAxBm4hJ4Q8mUwJPZMAAAAAMQZupSeEPJlMCT2TAAAAAF0GbyknhDyZTAm/RjrnFTFKtP3dUTtkRAAAAM0Gb7EnhDyZTBRE836sI4k0LgAPjdAmK3ww2q4UYduHI1VuzpWNhrkV3XsTKKmokN7GvGQAAAAkBngtqQh/tAeAAAAAaQZoNSeEPJlMCb7y5Vty0OCiUghdGxFPVw4EAAAAfQZouSeEPJlMCI//F8GQN1eh/R17ILluvXPi2SckaQQAAAB1Bmk9J4Q8mUwIj/7KP5jmkfzH4ORMdKrnqyuZbwQAAABpBmnBJ4Q8mUwIj/7FVHI28vs29uqo0wZW18AAAABRBmpFJ4Q8mUwIr/4Q0KnRpo+x+UAAAABVBmrJJ4Q8mUwIr/9ZQg2Yw/7qgmg0AAAASQZrTSeEPJlMCK//cKPlyOe+8AAAAEkGa9EnhDyZTAjP/nZ+V74j8PAAAAA5BmxVJ4Q8mUwIQ/9mqOQAAADNliIIAP/PhUT4IZVBcBYV+P/UYFr2IfWbxmQj11RXYdJ626eiov3eFR9GRULREit+bKIAAAAAcQZokbH/mlaU4QZ4xHjH4X/X4qNFSrERQ0rZXHQAAAAtBnkJ4k//kdmDpgQAAAAkBnmF0RH/rhC0AAAAKAZ5jakR/7iLz7QAAABZBmmZJqEFomUwU/9k43NZ2U7HyjLvAAAAACAGehWpEf8yBAAAAI0GaiknhClJlMD/LUpOwd2n5ZUu3s6Yd3t8SlLUr8Hz2jU6ZAAAADUGeqEU0TN/miC+17fAAAAALAZ7HdER/+AsV9XoAAAAIAZ7JakR/zIEAAAAYQZrLSahBaJlMD/+W/JKmmY/I6cU4HcokAAAAFkGa7UnhClJlMFES/8dTqud4MsmmmsEAAAAIAZ8MakR/zIAAAAAMQZsOSeEOiZTA/1RBAAAAHkGbL0nhDyZTAv/UwnEOh9yMz2E3szeTOTfcsmYT8QAAABtBm1BJ4Q8mUwL/vUlPlFbNRxaKFMbKMKjicGEAAAAOQZtxSeEPJlMC/9cmweEAAAASQZuSSeEPJlMC/3qaiFaBge/gAAAAGkGbtEnhDyZTBRE9/80vIYR0ZXufMCsKdEnAAAAACgGf02pEf85TeWEAAAAPQZvXSeEPJlMC/+Vr57g8AAAACUGf9UURPN/JgAAAAAgBnhZqRH/MgQAAABFBmhhJqEFomUwL/21G1j4BwQAAABBBmjpJ4QpSZTBREt+7L+XhAAAACAGeWWpEf8yAAAAADEGaW0nhDomUwL9FwAAAAA5BmnxJ4Q8mUwL/27Xa8QAAABVBmp1J4Q8mUwP/elxEU2HmVyU6DnAAAAARQZq+SeEPJlMD/5O8ocZ5rzAAAAAjQZrCSeEPJlMC//QqI7LDP4UEXPOG+3EYYErNrkBP+HB9cBMAAAAUQZ7gRRE8n/RiCIgRhcKoMoRoYYgAAAANAZ8fdER/91VayzVQwQAAAAgBnwFqRH/MgQAAABxBmwNJqEFomUwL/76M15rnJy9uMYSAb9TcgVFIAAAAGUGbJEnhClJlMCX/S/zfzq86TwADOESxPXkAAAAMQZtISeEOiZTAv0XAAAAACkGfZkURPX/G+CEAAAAIAZ+FdER/zIEAAAAIAZ+HakR/zIAAAAAQQZuJSahBaJlMC//OrC8QXAAAABlBm6tJ4QpSZTBREv/ZnXfdxKy/2LArBD49AAAACgGfympEf+kCE54AAAASQZvOSeEOiZTA/8uv1rA0/XvdAAAAC0Gf7EUVPN/mDUGAAAAADAGeDWpEf+4kOSw0wQAAABJBmhBJqEFomUwU9f/slEp0oT0AAAAIAZ4vakR/zIEAAAASQZoxSeEKUmUwP+wr08HK14PxAAAAEEGaUknhDomUwK/klmDuQMAAAAAbQZpzSeEPJlMCv8X7pDSqv3CFJowCjAZG9M9AAAAAE0GalEnhDyZTAr+3zxcAofaTpsEAAAASQZq1SeEPJlMCv56co7QvGShgAAAAGEGa1knhDyZTAr+8nq26QooLmigyZe174wAAACNBmvpJ4Q8mUwK/9iR0VvwSjVHMhj6w9q/Illch4xMbXyGcXwAAABFBnxhFETzf5iS6Glo0AEG3zQAAAAoBnzd0RX/lDe1ZAAAACQGfOWpFf+sM7AAAACFBmztJqEFomUwK/50/wGxxl/KQlEn3lcIimoboytY/owwAAAAZQZtcSeEKUmUwK/+l2FiEexg+KHa2277AKwAAABlBm31J4Q6JlMD/yCG2Y2L5DDMHPlWWZN1AAAAAHEGbnknhDyZTA//R36FbkHDwh1Zu/H3pQuNNN8AAAAAZQZu/SeEPJlMD/5UaONWw+zCI35fi3XRTwQAAACJBm8BJ4Q8mUwP/x0DeGK/67iRkBPQKCSgnsZ85qa7cInpQAAAAEkGb4UnhDyZTA//Sr2/QVTn+4QAAABlBmgJJ4Q8mUwP/5b+ouJ9CMSWpe/Hqm5AZAAAAG0GaI0nhDyZTA//Sh/F2Tjb5mjk9DHhGWZ8sJgAAABdBmkRJ4Q8mUwP/xFX695wXfghP+T0lYQAAAB1BmmZJ4Q8mUwURP//ehFUWfs53XtW0bmUAkKU16AAAAAgBnoVqRX/OgQAAABdBmolJ4Q8mUwP/lihJL3Zevihk0izTgQAAAAtBnqdFETxH9UFTigAAAAgBnshqRX/OgAAAACtBms1JqEFomUwK/54sq38SzRiho2TExXCJUM50E3+4zbc5ShWnH8+dPRNZAAAAFEGe60URLN/ti/97XxHRcp341KrmAAAACwGfCnRFf+jaiOhBAAAADAGfDGpFf+njfUUa8AAAABZBmw5JqEFsmUwK/6SvLmYz8RBM+MpbAAAAGkGbL0nhClJlMCv/vw5s8/zXaEXQCf901WClAAAAD0GbUEnhDomUwJP/6Uux4QAAABtBm3FJ4Q8mUwJPu89KU0/RgdsezEj+MHs5TXUAAAAaQZuSSeEPJlMCT6GQ/5XawcHenEy+gkOgkoAAAAAWQZuzSeEPJlMCT6LKHdhWg4Q4UFNhIAAAABtBm9RJ4Q8mUwJPobVVZkbgBYb5MLYJHoAuhckAAAAYQZv2SeEPJlMFETzfqoXDHX1xT7rHot+6AAAADgGeFWpFf/2xPRdVEejwAAAAHEGaF0nhDyZTAk/nKgPxTC8+e0SLQw+md9/O56EAAAAYQZo4SeEPJlMCT6GODfxhvsYAnHam6rfBAAAAGkGaWUnhDyZTAm+qgNOUKUuBg8qi8hQzvTaTAAAAHUGaeknhDyZTAk/J3WjeKWpglp1fA1nTYo6YfhfAAAAAH0GanEnhDyZTBRE8R7zoxiqNQPplQGi3CHX0Jf+CbOYAAAASAZ67akV/7u75L+acBRwVWM6BAAAAHEGav0nhDyZTAr+ZODb9yz6RpbhOL42PYlvodUAAAAATQZ7dRRE8R98pAxn5OOOY6BkcuwAAABYBnv5qRH/t9MlFkkQLpRU57k9Z7O7/AAAAH0Ga4EmoQWiZTAr/45HjeNmI+cAk7jYp3ESA1yL/ifEAAAAQQZsBSeEKUmUwK/+hBbp5MwAAACFBmyNJ4Q6JlMFNE//LhsxPtxIRY3hP5KE9H8U7HGgTQxsAAAAJAZ9CakR/7nsHAAAALkGbRknhDyZTA//LKAPfRDjVYl/y3vRRX9Wkof1eQSqpjTxmgM9qC2y7EEbjZOEAAAARQZ9kRRE83+ZJWTjkBaDfgpAAAAAKAZ+FakR/7nhSGQAAABRBm4lJqEFomUwK/5v7bs1D65YxgQAAAAtBn6dFESzf8FkTgAAAAAkBn8hqRX/WuFgAAAAUQZvKSahBbJlMCv+hEX5D1qwQ74EAAAASQZvrSeEKUmUwK/+dw6M6dV1AAAAAIEGaDknhDomUwK/vTVxnTryMCnBQuj5URmcNdvy8BHHhAAAAE0GeLEURPEftXBAwuo9EITFfpSAAAAAKAZ5NakV/9eZ9gQAAAB5Bmk9JqEFomUwK/6EKrw1FvYvDKtgYjBhu5cadt/UAAAAjQZpwSeEKUmUwK/+heI6VreZ8qYjcZkEVwnqqvHsQEVbvHpUAAAAcQZqRSeEOiZTA/+LH5qoDpbh4kz9k25nsIULcEwAAACdBmrVJ4Q8mUwP/5Gh+2lu83w7NQ+lD8IfPGksqyA6kF5/JnI5b94gAAAANQZ7TRRE83+bq8ZYxQAAAAAkBnvJ0RX/WO3kAAAAPAZ70akV/6wejYcH6ABo4AAAAJ0Ga+EmoQWiZTA//lIdXlFfORDckT+uT4EmSrirTzQcnJTdocKOq4gAAABRBnxZFESxX7IKO3mqFtbFF/vE06QAAAAgBnzdqRX/OgQAAABBBmzpJqEFsmUwUT/+LP71RAAAACAGfWWpFf86AAAAAFkGbXUnhClJlMCv/9AF9nX/NsOHvD9IAAAALQZ97RTRMR+tp8E0AAAAJAZ+cakV/7Kq7AAAAEEGbnkmoQWiZTAr/pWoEHP0AAAARQZuiSeEKUmUwJv/S4leDSh0AAAALQZ/ARTRM3+bt7PgAAAAJAZ//dEV/9JSFAAAACAGf4WpFf86BAAAALEGb5kuoQhBaIfAUQtAUQ0AiP9ZhLOe715FkHlgchErNbGmXKotw7oFlU6ggAAAAFUGeBEURLEf7tkX3KaKt4lNhPozHwQAAAA4BniN0RX/4i/cvudGphAAAABUBniVqRX/9XyNvnMsyfDOMAY4ud2EAAAAfQZoqSahBbJlMCb+qfN5q3zA489B/DB8m++g54JuFQQAAABtBnkhFFSxH/XDx3e1LvlpDFxIiS/aFvDvGPcAAAAAYAZ5ndEV/7qTMBorpm/6s8CQwpOnYeV9sAAAAHAGeaWpEf/EYuKSD9g4zPN40Isun/HvaKDD8F4EAAAAtZYiEA/903amvvjwHLSA1b9bclEYaXYq/aEQ5s45KoVsxdvltmNcriBiVuUfAAAAAFkGaIWJigoSfpYWiR615J76oVj8CFIEAAAAXQZpEPCGTKYTfysQDQ1VeHgxrjOgm7woAAAAQQZ5ialPN//Qm2Y61Np0VkQAAABABnoNqRH/+9GtTQuoiJNkZAAAAIkGaiEmoQWiZTAm/0ZWYadA8eB0DU7gl5eZf0+lAUEqpVRcAAAAUQZ6mRREs3/yxmdb+oriJ66igWcEAAAASAZ7FdER/6cS+VR6jF7BDoZLWAAAADgGex2pEf/VBJ70UEh6AAAAAFUGayUmoQWyZTAiPvYN2UE03lAcfgQAADnRtb292AAAAbG12aGQAAAAAAAAAAAAAAAAAAAPoAAAm7wABAAABAAAAAAAAAAAAAAAAAQAAAAAAAAAAAAAAAAAAAAEAAAAAAAAAAAAAAAAAAEAAAAAAAAAAAAAAAAAAAAAAAAAAAAAAAAAAAAAAAAACAAANn3RyYWsAAABcdGtoZAAAAAMAAAAAAAAAAAAAAAEAAAAAAAAm7wAAAAAAAAAAAAAAAAAAAAAAAQAAAAAAAAAAAAAAAAAAAAEAAAAAAAAAAAAAAAAAAEAAAAAAEAAAABIAAAAAACRlZHRzAAAAHGVsc3QAAAAAAAAAAQAAJu8AAAQAAAEAAAAADRdtZGlhAAAAIG1kaGQAAAAAAAAAAAAAAAAAADwAAAJWAFXEAAAAAAAtaGRscgAAAAAAAAAAdmlkZQAAAAAAAAAAAAAAAFZpZGVvSGFuZGxlcgAAAAzCbWluZgAAABR2bWhkAAAAAQAAAAAAAAAAAAAAJGRpbmYAAAAcZHJlZgAAAAAAAAABAAAADHVybCAAAAABAAAMgnN0YmwAAACuc3RzZAAAAAAAAAABAAAAnmF2YzEAAAAAAAAAAQAAAAAAAAAAAAAAAAAAAAAAEAASAEgAAABIAAAAAAAAAAEUTGF2YzYxLjMuMTAwIGxpYngyNjQAAAAAAAAAAAAAAAAY//8AAAA0YXZjQwFkAAr/4QAXZ2QACqzZVfiIQAAAAwBAAAAPA8SJZYABAAZo6+PLIsD9+PgAAAAAFGJ0cnQAAAAAAAAW7QAAFu0AAAAYc3R0cwAAAAAAAAABAAABKwAAAgAAAAAcc3RzcwAAAAAAAAADAAAAAQAAAJcAAAEiAAAGqGN0dHMAAAAAAAAA0wAAAAEAAAQAAAAAAQAACAAAAAACAAACAAAAAAEAAAYAAAAAAQAAAgAAAAABAAAGAAAAAAEAAAIAAAAAAQAABgAAAAABAAACAAAAAAIAAAQAAAAAAQAACgAAAAABAAAEAAAAAAEAAAAAAAAAAQAAAgAAAAACAAAEAAAAAAEAAAgAAAAAAgAAAgAAAAABAAAGAAAAAAEAAAIAAAAAAgAABAAAAAABAAAKAAAAAAEAAAQAAAAAAQAAAAAAAAABAAACAAAAAAEAAAoAAAAAAQAABAAAAAABAAAAAAAAAAEAAAIAAAAAAQAABAAAAAABAAAKAAAAAAEAAAQAAAAAAQAAAAAAAAABAAACAAAAAAEAAAYAAAAAAQAAAgAAAAAEAAAEAAAAAAEAAAYAAAAAAQAAAgAAAAABAAAKAAAAAAEAAAQAAAAAAQAAAAAAAAABAAACAAAAAAEAAAoAAAAAAQAABAAAAAABAAAAAAAAAAEAAAIAAAAAAQAACAAAAAACAAACAAAAAAEAAAQAAAAAAQAACAAAAAACAAACAAAAAAEAAAQAAAAAAQAABgAAAAABAAACAAAAAAEAAAYAAAAAAQAAAgAAAAADAAAEAAAAAAEAAAgAAAAAAgAAAgAAAAABAAAGAAAAAAEAAAIAAAAAAQAACgAAAAABAAAEAAAAAAEAAAAAAAAAAQAAAgAAAAABAAAGAAAAAAEAAAIAAAAAAgAABAAAAAABAAAGAAAAAAEAAAIAAAAAAwAABAAAAAABAAAGAAAAAAEAAAIAAAAAAgAABAAAAAABAAAGAAAAAAEAAAIAAAAAAQAACgAAAAABAAAEAAAAAAEAAAAAAAAAAQAAAgAAAAABAAAGAAAAAAEAAAIAAAAAAQAABAAAAAABAAAGAAAAAAEAAAIAAAAAAQAACAAAAAACAAACAAAAAAUAAAQAAAAAAQAABgAAAAABAAACAAAAAAEAAAYAAAAAAQAAAgAAAAABAAAEAAAAAAEAAAYAAAAAAQAAAgAAAAABAAAGAAAAAAEAAAIAAAAAAQAABgAAAAABAAACAAAAAAgAAAQAAAAAAQAACAAAAAACAAACAAAAAAIAAAQAAAAAAQAABgAAAAABAAACAAAAAAMAAAQAAAAAAQAABgAAAAABAAACAAAAAAoAAAQAAAAAAQAACgAAAAABAAAEAAAAAAEAAAAAAAAAAQAAAgAAAAABAAAGAAAAAAEAAAIAAAAAAQAACgAAAAABAAAEAAAAAAEAAAAAAAAAAQAAAgAAAAABAAAEAAAAAAEAAAYAAAAAAQAAAgAAAAAFAAAEAAAAAAEAAAYAAAAAAQAAAgAAAAABAAAIAAAAAAIAAAIAAAAAAQAABAAAAAABAAAGAAAAAAEAAAIAAAAABAAABAAAAAABAAAKAAAAAAEAAAQAAAAAAQAAAAAAAAABAAACAAAAAAIAAAQAAAAAAQAACgAAAAABAAAEAAAAAAEAAAAAAAAAAQAAAgAAAAABAAAEAAAAAAEAAAYAAAAAAQAAAgAAAAABAAAIAAAAAAIAAAIAAAAAAQAABgAAAAABAAACAAAAAAYAAAQAAAAAAQAACgAAAAABAAAEAAAAAAEAAAAAAAAAAQAAAgAAAAAKAAAEAAAAAAEAAAYAAAAAAQAAAgAAAAABAAAIAAAAAAIAAAIAAAAAAQAACgAAAAABAAAEAAAAAAEAAAAAAAAAAQAAAgAAAAAHAAAEAAAAAAEAAAYAAAAAAQAAAgAAAAAEAAAEAAAAAAEAAAYAAAAAAQAAAgAAAAABAAAIAAAAAAIAAAIAAAAAAgAABAAAAAABAAAGAAAAAAEAAAIAAAAAAQAACAAAAAACAAACAAAAAAEAAAgAAAAAAgAAAgAAAAACAAAEAAAAAAEAAAgAAAAAAgAAAgAAAAADAAAEAAAAAAEAAAoAAAAAAQAABAAAAAABAAAAAAAAAAEAAAIAAAAAAQAACAAAAAACAAACAAAAAAEAAAYAAAAAAQAAAgAAAAABAAAIAAAAAAIAAAIAAAAAAQAABAAAAAABAAAKAAAAAAEAAAQAAAAAAQAAAAAAAAABAAACAAAAAAEAAAoAAAAAAQAABAAAAAABAAAAAAAAAAEAAAIAAAAAAQAACgAAAAABAAAEAAAAAAEAAAAAAAAAAQAAAgAAAAACAAAEAAAAAAEAAAgAAAAAAgAAAgAAAAABAAAKAAAAAAEAAAQAAAAAAQAAAAAAAAABAAACAAAAAAEAAAQAAAAAHHN0c2MAAAAAAAAAAQAAAAEAAAErAAAAAQAABMBzdHN6AAAAAAAAAAAAAAErAAADIwAAABcAAAANAAAADAAAABQAAAAMAAAAFAAAAAwAAAARAAAADAAAABYAAAAeAAAAEAAAAA0AAAAMAAAADAAAAB0AAAAVAAAAFAAAAA4AAAAMAAAAEwAAAAwAAAAaAAAAEAAAABYAAAANAAAADAAAAAwAAAAeAAAADQAAAAwAAAAMAAAAEQAAABUAAAANAAAADAAAAAwAAAASAAAADAAAABEAAAAZAAAAEwAAABgAAAAjAAAADAAAACAAAAAOAAAADAAAAAwAAAAWAAAADQAAAAwAAAAPAAAAKgAAAA0AAAAMAAAAJgAAACIAAAANAAAADAAAABYAAAAVAAAADAAAABkAAAAMAAAAIwAAABsAAAAXAAAAIgAAAA0AAAAMAAAAHAAAAAwAAAARAAAADQAAAAwAAAAMAAAAGwAAAAwAAAAbAAAAEAAAABIAAAAMAAAAHQAAABAAAAAQAAAAJQAAAAwAAAAQAAAAFwAAACcAAAAMAAAAEAAAAA0AAAAMAAAADAAAABkAAAAMAAAAEQAAABIAAAAMAAAAFAAAAA0AAAAMAAAAGQAAABkAAAAdAAAAGQAAABAAAAAcAAAADAAAABEAAAAMAAAAHAAAACMAAAAMAAAAEQAAAAwAAAAeAAAADAAAABYAAAAQAAAAHAAAAB8AAAAaAAAAEAAAACAAAAAQAAAAJAAAAA0AAAANAAAAFgAAAB0AAAAfAAAADAAAABAAAAAQAAAAGwAAADcAAAANAAAAHgAAACMAAAAhAAAAHgAAABgAAAAZAAAAFgAAABYAAAASAAAANwAAACAAAAAPAAAADQAAAA4AAAAaAAAADAAAACcAAAARAAAADwAAAAwAAAAcAAAAGgAAAAwAAAAQAAAAIgAAAB8AAAASAAAAFgAAAB4AAAAOAAAAEwAAAA0AAAAMAAAAFQAAABQAAAAMAAAAEAAAABIAAAAZAAAAFQAAACcAAAAYAAAAEQAAAAwAAAAgAAAAHQAAABAAAAAOAAAADAAAAAwAAAAUAAAAHQAAAA4AAAAWAAAADwAAABAAAAAWAAAADAAAABYAAAAUAAAAHwAAABcAAAAWAAAAHAAAACcAAAAVAAAADgAAAA0AAAAlAAAAHQAAAB0AAAAgAAAAHQAAACYAAAAWAAAAHQAAAB8AAAAbAAAAIQAAAAwAAAAbAAAADwAAAAwAAAAvAAAAGAAAAA8AAAAQAAAAGgAAAB4AAAATAAAAHwAAAB4AAAAaAAAAHwAAABwAAAASAAAAIAAAABwAAAAeAAAAIQAAACMAAAAWAAAAIAAAABcAAAAaAAAAIwAAABQAAAAlAAAADQAAADIAAAAVAAAADgAAABgAAAAPAAAADQAAABgAAAAWAAAAJAAAABcAAAAOAAAAIgAAACcAAAAgAAAAKwAAABEAAAANAAAAEwAAACsAAAAYAAAADAAAABQAAAAMAAAAGgAAAA8AAAANAAAAFAAAABUAAAAPAAAADQAAAAwAAAAwAAAAGQAAABIAAAAZAAAAIwAAAB8AAAAcAAAAIAAAADEAAAAaAAAAGwAAABQAAAAUAAAAJgAAABgAAAAWAAAAEgAAABkAAAAUc3RjbwAAAAAAAAABAAAAMAAAAGF1ZHRhAAAAWW1ldGEAAAAAAAAAIWhkbHIAAAAAAAAAAG1kaXJhcHBsAAAAAAAAAAAAAAAALGlsc3QAAAAkqXRvbwAAABxkYXRhAAAAAQAAAABMYXZmNjEuMS4xMDA=\" type=\"video/mp4\">\n",
       " Your browser does not support the video tag.\n",
       " </video>"
      ],
      "text/plain": [
       "<IPython.core.display.Video object>"
      ]
     },
     "metadata": {},
     "output_type": "display_data"
    }
   ],
   "source": [
    "numpy_to_mp4_video(movies_dict.train[:, :300, ...])"
   ]
  },
  {
   "cell_type": "markdown",
   "metadata": {},
   "source": [
    "## Responses"
   ]
  },
  {
   "cell_type": "markdown",
   "metadata": {},
   "source": [
    "In the training script, responses are loaded through:\n",
    "\n",
    "```\n",
    "neuron_data_dict = hydra.utils.call(cfg.data_io.responses)\n",
    "```\n",
    "\n",
    "Let's unpack it here."
   ]
  },
  {
   "cell_type": "code",
   "execution_count": 9,
   "metadata": {},
   "outputs": [
    {
     "name": "stdout",
     "output_type": "stream",
     "text": [
      "{   '_convert_': 'object',\n",
      "    '_target_': 'openretina.data_io.hoefling_2024.responses.make_final_responses',\n",
      "    'data_dict': {   '_convert_': 'object',\n",
      "                     '_target_': 'openretina.data_io.hoefling_2024.responses.filter_responses',\n",
      "                     'all_responses': {   '_convert_': 'object',\n",
      "                                          '_target_': 'openretina.utils.h5_handling.load_h5_into_dict',\n",
      "                                          'file_path': {   '_convert_': 'object',\n",
      "                                                           '_target_': 'openretina.utils.file_utils.get_local_file_path',\n",
      "                                                           'cache_folder': '${data.data_dir}',\n",
      "                                                           'file_path': '${data.responses_path}'}},\n",
      "                     'cell_types_list': '${quality_checks.cell_types_list}',\n",
      "                     'chirp_qi': '${quality_checks.chirp_qi}',\n",
      "                     'classifier_confidence': '${quality_checks.classifier_confidence}',\n",
      "                     'd_qi': '${quality_checks.d_qi}',\n",
      "                     'filter_cell_types': '${quality_checks.filter_cell_types}',\n",
      "                     'filter_counts': '${quality_checks.filter_counts}',\n",
      "                     'qi_logic': '${quality_checks.qi_logic}',\n",
      "                     'verbose': '${quality_checks.verbose}'},\n",
      "    'response_type': 'natural'}\n"
     ]
    }
   ],
   "source": [
    "pp.pprint(cfg.data_io.responses)"
   ]
  },
  {
   "cell_type": "markdown",
   "metadata": {},
   "source": [
    "In the config for the responses there are a few references to the config for the quality checks, which is used to filter the responses. Let's visualize it:"
   ]
  },
  {
   "cell_type": "code",
   "execution_count": 10,
   "metadata": {},
   "outputs": [
    {
     "name": "stdout",
     "output_type": "stream",
     "text": [
      "{   'cell_types_list': list(len=32),\n",
      "    'chirp_qi': 0.35,\n",
      "    'classifier_confidence': 0.25,\n",
      "    'd_qi': 0.6,\n",
      "    'filter_cell_types': True,\n",
      "    'filter_counts': False,\n",
      "    'qi_logic': 'or',\n",
      "    'verbose': True}\n"
     ]
    }
   ],
   "source": [
    "pp.pprint(cfg.quality_checks)"
   ]
  },
  {
   "cell_type": "code",
   "execution_count": 11,
   "metadata": {},
   "outputs": [
    {
     "name": "stderr",
     "output_type": "stream",
     "text": [
      "2025-02-05 16:13:50,546 - INFO - Target file for https://gin.g-node.org//teulerlab/open-retina/raw/master/responses/eulerlab/rgc_natstim_2024-08-14.h5 already exists at /Data/euler_data/rgc_natstim_2024-08-14.h5.\n"
     ]
    },
    {
     "data": {
      "application/vnd.jupyter.widget-view+json": {
       "model_id": "f31ba45606784bacb567d75e264cf599",
       "version_major": 2,
       "version_minor": 0
      },
      "text/plain": [
       "Loading HDF5 file contents:   0%|          | 0/2077 [00:00<?, ?item/s]"
      ]
     },
     "metadata": {},
     "output_type": "display_data"
    },
    {
     "name": "stdout",
     "output_type": "stream",
     "text": [
      "Original dataset contains 7863 neurons over 67 fields\n",
      " ------------------------------------ \n",
      "Dropped 0 fields that did not contain the target cell types (67 remaining)\n",
      "Overall, dropped 3034 neurons of non-target cell types (-38.59%).\n",
      " ------------------------------------ \n",
      "Dropped 0 fields with quality indices below threshold (67 remaining)\n",
      "Overall, dropped 980 neurons over quality checks (-20.29%).\n",
      " ------------------------------------ \n",
      "Dropped 0 fields with classifier confidences below 0.25\n",
      "Overall, dropped 705 neurons with classifier confidences below 0.25 (-18.32%).\n",
      " ------------------------------------ \n",
      " ------------------------------------ \n",
      "Final dataset contains 3144 neurons over 67 fields\n",
      "Total number of cells dropped: 4719 (-60.02%)\n"
     ]
    },
    {
     "data": {
      "application/vnd.jupyter.widget-view+json": {
       "model_id": "e9d26b196b97457abda7d3b88e35bcd6",
       "version_major": 2,
       "version_minor": 0
      },
      "text/plain": [
       "Upsampling natural spikes traces to get final responses.:   0%|          | 0/67 [00:00<?, ?it/s]"
      ]
     },
     "metadata": {},
     "output_type": "display_data"
    }
   ],
   "source": [
    "responses_path = get_local_file_path(file_path=cfg.data.responses_path, cache_folder=cfg.data.data_dir)\n",
    "\n",
    "responses_dict = load_h5_into_dict(file_path=responses_path)\n",
    "\n",
    "filtered_responses_dict = filter_responses(responses_dict, **cfg.quality_checks)\n",
    "\n",
    "final_responses = make_final_responses(filtered_responses_dict, response_type=\"natural\")"
   ]
  },
  {
   "cell_type": "markdown",
   "metadata": {},
   "source": [
    "Here is how the final responses will be organised:"
   ]
  },
  {
   "cell_type": "code",
   "execution_count": 12,
   "metadata": {},
   "outputs": [
    {
     "name": "stdout",
     "output_type": "stream",
     "text": [
      "{   'session_1_ventral1_20200226': ResponsesTrainTestSplit(train=numpy.ndarray(shape=(80, 16200)),\n",
      "                                                           test=numpy.ndarray(shape=(80, 750)),\n",
      "                                                           test_by_trial=numpy.ndarray(shape=(80, 750, 3)),\n",
      "                                                           stim_id='natural',\n",
      "                                                           session_kwargs={   'eye': 'left',\n",
      "                                                                              'group_assignment': numpy.ndarray(shape=(80,)),\n",
      "                                                                              'roi_ids': numpy.ndarray(shape=(80,)),\n",
      "                                                                              'roi_mask': numpy.ndarray(shape=(64, 64)),\n",
      "                                                                              'scan_sequence_idx': 18}),\n",
      "    'session_1_ventral1_20200528': ResponsesTrainTestSplit(train=numpy.ndarray(shape=(42, 16200)),\n",
      "                                                           test=numpy.ndarray(shape=(42, 750)),\n",
      "                                                           test_by_trial=numpy.ndarray(shape=(42, 750, 3)),\n",
      "                                                           stim_id='natural',\n",
      "                                                           session_kwargs={   'eye': 'left',\n",
      "                                                                              'group_assignment': numpy.ndarray(shape=(42,)),\n",
      "                                                                              'roi_ids': numpy.ndarray(shape=(42,)),\n",
      "                                                                              'roi_mask': numpy.ndarray(shape=(64, 64)),\n",
      "                                                                              'scan_sequence_idx': 4}),\n",
      "    'session_1_ventral1_20200707': ResponsesTrainTestSplit(train=numpy.ndarray(shape=(74, 16200)),\n",
      "                                                           test=numpy.ndarray(shape=(74, 750)),\n",
      "                                                           test_by_trial=numpy.ndarray(shape=(74, 750, 3)),\n",
      "                                                           stim_id='natural',\n",
      "                                                           session_kwargs={   'eye': 'left',\n",
      "                                                                              'group_assignment': numpy.ndarray(shape=(74,)),\n",
      "                                                                              'roi_ids': numpy.ndarray(shape=(74,)),\n",
      "                                                                              'roi_mask': numpy.ndarray(shape=(64, 64)),\n",
      "                                                                              'scan_sequence_idx': \n",
      " ... Exceeded maximum number of lines ..."
     ]
    }
   ],
   "source": [
    "pp.pprint(final_responses)"
   ]
  },
  {
   "cell_type": "markdown",
   "metadata": {},
   "source": [
    "# Creating dataloaders"
   ]
  },
  {
   "cell_type": "markdown",
   "metadata": {},
   "source": [
    "The corresponding code in `train.py` is:\n",
    "```\n",
    "dataloaders = hydra.utils.instantiate(\n",
    "        cfg.dataloader,\n",
    "        neuron_data_dictionary=neuron_data_dict,\n",
    "        movies_dictionary=movies_dict,\n",
    "    )\n",
    "```"
   ]
  },
  {
   "cell_type": "code",
   "execution_count": 13,
   "metadata": {},
   "outputs": [
    {
     "name": "stdout",
     "output_type": "stream",
     "text": [
      "{   '_convert_': 'object',\n",
      "    '_target_': 'openretina.data_io.hoefling_2024.dataloaders.natmov_dataloaders_v2',\n",
      "    'allow_over_boundaries': True,\n",
      "    'batch_size': 128,\n",
      "    'train_chunk_size': 50,\n",
      "    'validation_clip_indices': list(len=15)}\n"
     ]
    }
   ],
   "source": [
    "pp.pprint(cfg.dataloader)"
   ]
  },
  {
   "cell_type": "code",
   "execution_count": 14,
   "metadata": {},
   "outputs": [
    {
     "data": {
      "application/vnd.jupyter.widget-view+json": {
       "model_id": "f5f2f70ff8fc4b2c86ba6d5f4c8acdb4",
       "version_major": 2,
       "version_minor": 0
      },
      "text/plain": [
       "Creating movie dataloaders:   0%|          | 0/67 [00:00<?, ?it/s]"
      ]
     },
     "metadata": {},
     "output_type": "display_data"
    }
   ],
   "source": [
    "dataloaders = natmov_dataloaders_v2(\n",
    "    neuron_data_dictionary=final_responses,\n",
    "    movies_dictionary=movies_dict,\n",
    "    allow_over_boundaries=True,\n",
    "    batch_size=128,\n",
    "    train_chunk_size=50,\n",
    "    validation_clip_indices=cfg.dataloader.validation_clip_indices,\n",
    ")"
   ]
  },
  {
   "cell_type": "code",
   "execution_count": 15,
   "metadata": {},
   "outputs": [
    {
     "name": "stdout",
     "output_type": "stream",
     "text": [
      "{   'test': {   'session_1_ventral1_20200226': torch.utils.data.DataLoader(Dataset: MovieDataSet with 80 neuron responses to a movie of shape [2, 750, 18, 16].),\n",
      "                'session_1_ventral1_20200528': torch.utils.data.DataLoader(Dataset: MovieDataSet with 42 neuron responses to a movie of shape [2, 750, 18, 16].),\n",
      "                'session_1_ventral1_20200707': torch.utils.data.DataLoader(Dataset: MovieDataSet with 74 neuron responses to a movie of shape [2, 750, 18, 16].),\n",
      "                'session_1_ventral1_20201021': torch.utils.data.DataLoader(Dataset: MovieDataSet with 32 neuron responses to a movie of shape [2, 750, 18, 16].),\n",
      "                'session_1_ventral1_20201030': torch.utils.data.DataLoader(Dataset: MovieDataSet with 40 neuron responses to a movie of shape [2, 750, 18, 16].),\n",
      "                'session_1_ventral1_20210929': torch.utils.data.DataLoader(Dataset: MovieDataSet with 48 neuron responses to a movie of shape [2, 750, 18, 16].),\n",
      "                'session_1_ventral1_20210930': torch.utils.data.DataLoader(Dataset: MovieDataSet with 26 neuron responses to a movie of shape [2, 750, 18, 16].),\n",
      "                'session_1_ventral2_20200302': torch.utils.data.DataLoader(Dataset: MovieDataSet with 41 neuron responses to a movie of shape [2, 750, 18, 16].),\n",
      "                'session_1_ventral2_20200707': torch.utils.data.DataLoader(Dataset: MovieDataSet with 56 neuron responses to a movie of shape [2, 750, 18, 16].),\n",
      "                'session_1_ventral2_20201021': torch.utils.data.DataLoader(Dataset: MovieDataSet with 39 neuron responses to a movie of shape [2, 750, 18, 16].),\n",
      "                'session_1_ventral2_20201022': torch.utils.data.DataLoader(Dataset: MovieDataSet with 42 neuron responses to a movie of shape [2, 750, 18, 16].),\n",
      "                'session_1_ventral2_20201030': torch.utils.data.DataLoader(Dataset: MovieDataSet with 84 neuron responses to a movie of shape [2, 750, 18, 16].),\n",
      "                'session_1_ventral2_20201117': torch.utils.data.DataLoader(Dataset: MovieDataSet with 46 neuron responses to a movie of shape [2, 750, 18, 16].),\n",
      "                'session_1_ventral2_20210910': torch.utils.data.DataLoader(Dataset: MovieDataSet with 44 neuron responses to a movie of shape [2, 750, 18, 16].),\n",
      "                'session_1_ventral2_20210921': torch.utils.data.DataLoader(Dataset: MovieDataSet with 33 neuron responses to a movie of shape [2, 750, 18, 16].),\n",
      "                'session_1_ventral2_20210929': torch.utils.data.DataLoader(Dataset: MovieDataSet with 59 neuron responses to a movie of shape [2, 750, 18, 16].),\n",
      "                'session_1_ventral2_20210930': torch.utils.data.DataLoader(Dataset: MovieDataSet with 56 neuron responses to a movie of shape [2, 750, 18, 16].),\n",
      "                'session_1_ventral2_20211130': torch.utils.data.DataLoader(Dataset: MovieDataSet with 35 neuron responses to a movie of shape [2, 750, 18, 16].),\n",
      "                'session_2_ventral1_20200226': torch.utils.data.DataLoader(Dataset: MovieDataSet with 72 neuron responses to a movie of shape [2, 750, 18, 16].),\n",
      "                'session_2_ventral1_20200303': torch.utils.data.DataLoader(Dataset: MovieDataSet with 50 neuron responses to a movie of shape [2, 750, 18, 16].),\n",
      "                'session_2_ventral1_20200528': torch.utils.data.DataLoader(Dataset: MovieDataSet with 42 neuron responses to a movie of shape [2, 750, 18, 16].),\n",
      "                'session_2_ventral1_20200529': torch.utils.data.DataLoader(Dataset: MovieDataSet with 29 neuron responses to a movie of shape [2, 750, 18, 16].),\n",
      "                'session_2_ventral1_20200701': torch.utils.data.DataLoader(Dataset: MovieDataSet with 55 neuron responses to a movie of shape [2, 750, 18, 16].),\n",
      "                'session_2_ventral1_20201021': torch.utils.data.DataLoader(Dataset: MovieDataSet with 49 neuron responses to a movie of shape [2, 750, 18, 16].),\n",
      "                'session_2_ventral1_20201030': torch.utils.data.DataLoader(Dataset: MovieDataSet with 55 neuron responses to a movie of shape [2, 750, 18, 16].),\n",
      "                'session_2_ventral1_20210929': torch.utils.data.DataLoader(Dataset: MovieDataSet with 44 neuron responses to a movie of shape [2, 750, 18, 16].),\n",
      "                'session_2_ventral2_20200303': torch.utils.data.DataLoader(Dataset: MovieDataSet with 44 neuron responses to a movie of shape [2, 750, 18, 16].),\n",
      "                'session_2_ventral2_20201016': torch.utils.data.DataLoader(Dataset: MovieDataSet with 59 neuron responses to a movie of shape [2, 750, 18, 16].),\n",
      "                'session_2_ventral2_20201021': torch.utils.data.DataLoader(Dataset: MovieDataSet with 47 neuron responses to a movie of shape [2, 750, 18, 16].),\n",
      "                'session_2_ventral2_20201022': torch.utils.data.DataLoader(Dataset: MovieDataSet with 48 neuron responses to a movie of shape [2, 750, 18, 16].),\n",
      "                'session_2_ventral2_20201030': \n",
      " ... Exceeded maximum number of lines ..."
     ]
    }
   ],
   "source": [
    "pp.pprint(dataloaders)"
   ]
  },
  {
   "cell_type": "markdown",
   "metadata": {},
   "source": [
    "Let's also compute `data_info`, which is used to initialise certain model components and to save important metadata about stimuli and responses within the model."
   ]
  },
  {
   "cell_type": "code",
   "execution_count": 16,
   "metadata": {},
   "outputs": [
    {
     "name": "stdout",
     "output_type": "stream",
     "text": [
      "{   'input_shape': (2, 18, 16),\n",
      "    'movie_norm_dict': {'default': {'norm_mean': nan, 'norm_std': nan}},\n",
      "    'n_neurons_dict': {   'session_1_ventral1_20200226': 80,\n",
      "                          'session_1_ventral1_20200528': 42,\n",
      "                          'session_1_ventral1_20200707': 74,\n",
      "                          'session_1_ventral1_20201021': 32,\n",
      "                          'session_1_ventral1_20201030': 40,\n",
      "                          'session_1_ventral1_20210929': 48,\n",
      "                          'session_1_ventral1_20210930': 26,\n",
      "                          'session_1_ventral2_20200302': 41,\n",
      "                          'session_1_ventral2_20200707': 56,\n",
      "                          'session_1_ventral2_20201021': 39,\n",
      "                          'session_1_ventral2_20201022': 42,\n",
      "                          'session_1_ventral2_20201030': 84,\n",
      "                          'session_1_ventral2_20201117': 46,\n",
      "                          'session_1_ventral2_20210910': 44,\n",
      "                          'session_1_ventral2_20210921': 33,\n",
      "                          'session_1_ventral2_20210929': 59,\n",
      "                          'session_1_ventral2_20210930': 56,\n",
      "                          'session_1_ventral2_20211130': 35,\n",
      "                          'session_2_ventral1_20200226': 72,\n",
      "                          'session_2_ventral1_20200303': 50,\n",
      "                          'session_2_ventral1_20200528': 42,\n",
      "                          'session_2_ventral1_20200529': 29,\n",
      "                          'session_2_ventral1_20200701': 55,\n",
      "                          'session_2_ventral1_20201021': 49,\n",
      "                          'session_2_ventral1_20201030': 55,\n",
      "                          'session_2_ventral1_20210929': 44,\n",
      "                          'session_2_ventral2_20200303': 44,\n",
      "                          'session_2_ventral2_20201016': 59,\n",
      "                          'session_2_ventral2_20201021': \n",
      " ... Exceeded maximum number of lines ..."
     ]
    }
   ],
   "source": [
    "data_info = compute_data_info(neuron_data_dictionary=final_responses, movies_dictionary=movies_dict)\n",
    "\n",
    "pp.pprint(data_info)"
   ]
  },
  {
   "cell_type": "markdown",
   "metadata": {},
   "source": [
    "# Model initialisation"
   ]
  },
  {
   "cell_type": "markdown",
   "metadata": {},
   "source": [
    "Relevant `train.py` section:\n",
    "```\n",
    "cfg.model.n_neurons_dict = data_info[\"n_neurons_dict\"]\n",
    "\n",
    "model = hydra.utils.instantiate(cfg.model, data_info=data_info)\n",
    "```"
   ]
  },
  {
   "cell_type": "markdown",
   "metadata": {},
   "source": [
    "The config for the model will contain all the relevant hyperparameters for it:"
   ]
  },
  {
   "cell_type": "code",
   "execution_count": 17,
   "metadata": {},
   "outputs": [
    {
     "name": "stdout",
     "output_type": "stream",
     "text": [
      "{   '_convert_': 'object',\n",
      "    '_target_': 'openretina.models.core_readout.CoreReadout',\n",
      "    'core_gamma_hidden': 0.0,\n",
      "    'core_gamma_in_sparse': 0.0,\n",
      "    'core_gamma_input': 0.0,\n",
      "    'core_gamma_temporal': 40.0,\n",
      "    'core_hidden_padding': True,\n",
      "    'core_input_padding': False,\n",
      "    'cut_first_n_frames_in_core': 0,\n",
      "    'downsample_input_kernel_size': None,\n",
      "    'dropout_rate': 0.0,\n",
      "    'hidden_channels': [16, 16],\n",
      "    'in_shape': [2, 150, 18, 16],\n",
      "    'learning_rate': 0.01,\n",
      "    'maxpool_every_n_layers': None,\n",
      "    'n_neurons_dict': '???',\n",
      "    'readout_bias': True,\n",
      "    'readout_gamma': 0.4,\n",
      "    'readout_gaussian_masks': True,\n",
      "    'readout_gaussian_mean_scale': 6.0,\n",
      "    'readout_gaussian_var_scale': 4.0,\n",
      "    'readout_positive': True,\n",
      "    'readout_scale': True,\n",
      "    'spatial_kernel_sizes': [11, 5],\n",
      "    'temporal_kernel_sizes': [21, 11]}\n"
     ]
    }
   ],
   "source": [
    "pp.pprint(cfg.model)"
   ]
  },
  {
   "cell_type": "markdown",
   "metadata": {},
   "source": [
    "As you can see, the value for `n_neurons_dict` is missing, and needs to be set from data_info."
   ]
  },
  {
   "cell_type": "code",
   "execution_count": 18,
   "metadata": {},
   "outputs": [
    {
     "name": "stderr",
     "output_type": "stream",
     "text": [
      "2025-02-05 16:13:58,864 - INFO - in_shape_readout=torch.Size([16, 130, 8, 6])\n"
     ]
    }
   ],
   "source": [
    "n_neurons_dict = data_info[\"n_neurons_dict\"]\n",
    "\n",
    "model = CoreReadout(\n",
    "    in_shape=(2, 150, 18, 16),\n",
    "    hidden_channels=(16, 16),\n",
    "    temporal_kernel_sizes=(21, 11),\n",
    "    spatial_kernel_sizes=(11, 5),\n",
    "    n_neurons_dict=n_neurons_dict,\n",
    "    core_gamma_hidden=0.0,\n",
    "    core_gamma_in_sparse=0.0,\n",
    "    core_gamma_input=0.0,\n",
    "    core_gamma_temporal=40.0,\n",
    "    core_hidden_padding=True,\n",
    "    core_input_padding=False,\n",
    "    cut_first_n_frames_in_core=0,\n",
    "    downsample_input_kernel_size=None,\n",
    "    dropout_rate=0.0,\n",
    "    learning_rate=0.01,\n",
    "    maxpool_every_n_layers=None,\n",
    "    readout_bias=True,\n",
    "    readout_gamma=0.4,\n",
    "    readout_gaussian_masks=True,\n",
    "    readout_gaussian_mean_scale=6.0,\n",
    "    readout_gaussian_var_scale=4.0,\n",
    "    readout_positive=True,\n",
    "    readout_scale=True,\n",
    "    data_info=data_info,\n",
    ")"
   ]
  },
  {
   "cell_type": "markdown",
   "metadata": {},
   "source": [
    "# Training"
   ]
  },
  {
   "cell_type": "markdown",
   "metadata": {},
   "source": [
    "With data imported, models initialised and dataloaders set up, we can turn to training. \n",
    "\n",
    "```\n",
    "log_folder = os.path.join(cfg.data.output_dir, cfg.exp_name)\n",
    "os.makedirs(log_folder, exist_ok=True)\n",
    "logger_array = []\n",
    "for _, logger_params in cfg.logger.items():\n",
    "    logger = hydra.utils.instantiate(logger_params, save_dir=log_folder)\n",
    "    logger_array.append(logger)\n",
    "\n",
    "callbacks = [\n",
    "    hydra.utils.instantiate(callback_params) for callback_params in cfg.get(\"training_callbacks\", {}).values()\n",
    "]\n",
    "\n",
    "trainer = hydra.utils.instantiate(cfg.trainer, logger=logger_array, callbacks=callbacks)\n",
    "trainer.fit(model=model, train_dataloaders=train_loader, val_dataloaders=valid_loader)\n",
    "```\n",
    "\n",
    "This section is a bit more involved in `train.py`, to leave flexibility for different loggers and callbacks configurations. We are going to keep it simple here.\n",
    "\n",
    "Let's first initialise a simple tensorboard logger:"
   ]
  },
  {
   "cell_type": "code",
   "execution_count": 19,
   "metadata": {},
   "outputs": [
    {
     "name": "stdout",
     "output_type": "stream",
     "text": [
      "{   'csv': {   '_target_': 'lightning.pytorch.loggers.csv_logs.CSVLogger',\n",
      "               'name': 'csv/',\n",
      "               'prefix': '',\n",
      "               'version': '${now:%Y-%m-%d_%H-%M-%S}'},\n",
      "    'tensorboard': {   '_target_': 'lightning.pytorch.loggers.TensorBoardLogger',\n",
      "                       'name': 'tensorboard/',\n",
      "                       'version': '${now:%Y-%m-%d_%H-%M-%S}'}}\n"
     ]
    }
   ],
   "source": [
    "pp.pprint(cfg.logger)"
   ]
  },
  {
   "cell_type": "code",
   "execution_count": 20,
   "metadata": {},
   "outputs": [],
   "source": [
    "log_save_path = os.path.join(cfg.data.output_dir, \"notebook_example\")\n",
    "os.makedirs(log_save_path, exist_ok=True)\n",
    "\n",
    "logger = lightning.pytorch.loggers.TensorBoardLogger(\n",
    "    name=\"tensorboard/\",\n",
    "    save_dir=log_save_path,\n",
    ")"
   ]
  },
  {
   "cell_type": "markdown",
   "metadata": {},
   "source": [
    "Then some training callbacks (i.e. utility functions that will be called during training):"
   ]
  },
  {
   "cell_type": "code",
   "execution_count": 21,
   "metadata": {},
   "outputs": [
    {
     "name": "stdout",
     "output_type": "stream",
     "text": [
      "{   'early_stopping': {   '_target_': 'lightning.pytorch.callbacks.EarlyStopping',\n",
      "                          'check_finite': False,\n",
      "                          'min_delta': 0.001,\n",
      "                          'mode': 'max',\n",
      "                          'monitor': 'val_correlation',\n",
      "                          'patience': 10,\n",
      "                          'strict': True,\n",
      "                          'verbose': True},\n",
      "    'lr_monitor': {   '_target_': 'lightning.pytorch.callbacks.LearningRateMonitor',\n",
      "                      'log_momentum': True,\n",
      "                      'log_weight_decay': True,\n",
      "                      'logging_interval': 'epoch'},\n",
      "    'model_checkpoint': {   '_target_': 'lightning.pytorch.callbacks.ModelCheckpoint',\n",
      "                            'auto_insert_metric_name': True,\n",
      "                            'dirpath': '${data.output_dir}/${exp_name}/checkpoints/${now:%Y-%m-%d_%H-%M-%S}',\n",
      "                            'every_n_epochs': None,\n",
      "                            'every_n_train_steps': None,\n",
      "                            'filename': '{epoch:02d}_{val_correlation:.3f}',\n",
      "                            'mode': 'max',\n",
      "                            'monitor': 'val_correlation',\n",
      "                            'save_last': False,\n",
      "                            'save_on_train_epoch_end': None,\n",
      "                            'save_top_k': 1,\n",
      "                            'save_weights_only': False,\n",
      "                            'train_time_interval': None,\n",
      "                            'verbose': False}}\n"
     ]
    }
   ],
   "source": [
    "pp.pprint(cfg.training_callbacks)"
   ]
  },
  {
   "cell_type": "code",
   "execution_count": 22,
   "metadata": {},
   "outputs": [],
   "source": [
    "early_stopping = lightning.pytorch.callbacks.EarlyStopping(\n",
    "    monitor=\"val_correlation\",\n",
    "    patience=10,\n",
    "    mode=\"max\",\n",
    "    verbose=False,\n",
    "    min_delta=0.001,\n",
    ")\n",
    "\n",
    "lr_monitor = lightning.pytorch.callbacks.LearningRateMonitor(logging_interval=\"epoch\")\n",
    "\n",
    "model_checkpoint = lightning.pytorch.callbacks.ModelCheckpoint(\n",
    "    monitor=\"val_correlation\", mode=\"max\", save_weights_only=False\n",
    ")"
   ]
  },
  {
   "cell_type": "markdown",
   "metadata": {},
   "source": [
    "We can finally instantiate the trainer"
   ]
  },
  {
   "cell_type": "code",
   "execution_count": 23,
   "metadata": {},
   "outputs": [
    {
     "name": "stdout",
     "output_type": "stream",
     "text": [
      "{   '_target_': 'lightning.Trainer',\n",
      "    'accumulate_grad_batches': 1,\n",
      "    'default_root_dir': '${data.output_dir}',\n",
      "    'deterministic': 'warn',\n",
      "    'gradient_clip_val': 1,\n",
      "    'max_epochs': 100,\n",
      "    'precision': '32-true'}\n"
     ]
    }
   ],
   "source": [
    "pp.pprint(cfg.trainer)"
   ]
  },
  {
   "cell_type": "code",
   "execution_count": 24,
   "metadata": {},
   "outputs": [
    {
     "name": "stderr",
     "output_type": "stream",
     "text": [
      "GPU available: True (cuda), used: True\n",
      "TPU available: False, using: 0 TPU cores\n",
      "HPU available: False, using: 0 HPUs\n"
     ]
    }
   ],
   "source": [
    "trainer = lightning.Trainer(max_epochs=100, logger=logger, callbacks=[early_stopping, lr_monitor, model_checkpoint])"
   ]
  },
  {
   "cell_type": "markdown",
   "metadata": {},
   "source": [
    "Finally, we can start training. Before it though, we can initialise the tensorboard jupyter integration, to visualize how training progresses.\n",
    "\n",
    "Run the following cell once or twice until the tensorboard extension UI shows up. Once is shows, note that at the beginning it will show no data (unless you have run this notebook before), because we have not started the trainer yet.\n",
    "\n",
    "When you run the cell containing `trainer.fit` you can then come back to the tensorboard extension, reload the window *within the extension* by clicking the refresh icon in the top right, and follow the training."
   ]
  },
  {
   "cell_type": "code",
   "execution_count": 25,
   "metadata": {},
   "outputs": [
    {
     "data": {
      "text/plain": [
       "Reusing TensorBoard on port 6006 (pid 20927), started 0:16:35 ago. (Use '!kill 20927' to kill it.)"
      ]
     },
     "metadata": {},
     "output_type": "display_data"
    },
    {
     "data": {
      "text/html": [
       "\n",
       "      <iframe id=\"tensorboard-frame-93652611073fd41d\" width=\"100%\" height=\"800\" frameborder=\"0\">\n",
       "      </iframe>\n",
       "      <script>\n",
       "        (function() {\n",
       "          const frame = document.getElementById(\"tensorboard-frame-93652611073fd41d\");\n",
       "          const url = new URL(\"http://localhost\");\n",
       "          const port = 6006;\n",
       "          if (port) {\n",
       "            url.port = port;\n",
       "          }\n",
       "          frame.src = url;\n",
       "        })();\n",
       "      </script>\n",
       "    "
      ],
      "text/plain": [
       "<IPython.core.display.HTML object>"
      ]
     },
     "metadata": {},
     "output_type": "display_data"
    }
   ],
   "source": [
    "%reload_ext tensorboard\n",
    "\n",
    "%tensorboard --logdir {log_save_path}"
   ]
  },
  {
   "cell_type": "markdown",
   "metadata": {},
   "source": [
    "The only last important step before calling the trainer is to convert the dictionary of dataloaders we have into a unified iterator that will cycle through all sessions during training and evaluation:"
   ]
  },
  {
   "cell_type": "code",
   "execution_count": 26,
   "metadata": {},
   "outputs": [],
   "source": [
    "train_loader = LongCycler(dataloaders[\"train\"])\n",
    "val_loader = ShortCycler(dataloaders[\"validation\"])"
   ]
  },
  {
   "cell_type": "markdown",
   "metadata": {},
   "source": [
    "And we are finally ready to train:"
   ]
  },
  {
   "cell_type": "code",
   "execution_count": 27,
   "metadata": {},
   "outputs": [
    {
     "name": "stderr",
     "output_type": "stream",
     "text": [
      "LOCAL_RANK: 0 - CUDA_VISIBLE_DEVICES: [0]\n",
      "\n",
      "  | Name             | Type                        | Params | Mode \n",
      "-------------------------------------------------------------------------\n",
      "0 | core             | SimpleCoreWrapper           | 12.4 K | train\n",
      "1 | readout          | MultiGaussianReadoutWrapper | 66.0 K | train\n",
      "2 | loss             | PoissonLoss3d               | 0      | train\n",
      "3 | correlation_loss | CorrelationLoss3d           | 0      | train\n",
      "-------------------------------------------------------------------------\n",
      "78.4 K    Trainable params\n",
      "0         Non-trainable params\n",
      "78.4 K    Total params\n",
      "0.314     Total estimated model params size (MB)\n",
      "84        Modules in train mode\n",
      "0         Modules in eval mode\n"
     ]
    },
    {
     "data": {
      "application/vnd.jupyter.widget-view+json": {
       "model_id": "671890396fa34b7ab67308c048007e9d",
       "version_major": 2,
       "version_minor": 0
      },
      "text/plain": [
       "Sanity Checking: |          | 0/? [00:00<?, ?it/s]"
      ]
     },
     "metadata": {},
     "output_type": "display_data"
    },
    {
     "data": {
      "application/vnd.jupyter.widget-view+json": {
       "model_id": "ffe18b638d8b42a8a74130748ab535f8",
       "version_major": 2,
       "version_minor": 0
      },
      "text/plain": [
       "Training: |          | 0/? [00:00<?, ?it/s]"
      ]
     },
     "metadata": {},
     "output_type": "display_data"
    },
    {
     "data": {
      "application/vnd.jupyter.widget-view+json": {
       "model_id": "2eaab489c4be4b6598a56211bf21018c",
       "version_major": 2,
       "version_minor": 0
      },
      "text/plain": [
       "Validation: |          | 0/? [00:00<?, ?it/s]"
      ]
     },
     "metadata": {},
     "output_type": "display_data"
    },
    {
     "data": {
      "application/vnd.jupyter.widget-view+json": {
       "model_id": "79d30136de9a4c20b545e478cd480cd1",
       "version_major": 2,
       "version_minor": 0
      },
      "text/plain": [
       "Validation: |          | 0/? [00:00<?, ?it/s]"
      ]
     },
     "metadata": {},
     "output_type": "display_data"
    },
    {
     "data": {
      "application/vnd.jupyter.widget-view+json": {
       "model_id": "45dfe907a8ca41eca812cf7e2a8f71f3",
       "version_major": 2,
       "version_minor": 0
      },
      "text/plain": [
       "Validation: |          | 0/? [00:00<?, ?it/s]"
      ]
     },
     "metadata": {},
     "output_type": "display_data"
    },
    {
     "data": {
      "application/vnd.jupyter.widget-view+json": {
       "model_id": "76de6a6fb79941d4bd3a5c81ef8a58e2",
       "version_major": 2,
       "version_minor": 0
      },
      "text/plain": [
       "Validation: |          | 0/? [00:00<?, ?it/s]"
      ]
     },
     "metadata": {},
     "output_type": "display_data"
    },
    {
     "data": {
      "application/vnd.jupyter.widget-view+json": {
       "model_id": "8d3b992dd23f403d9364557ee3d82023",
       "version_major": 2,
       "version_minor": 0
      },
      "text/plain": [
       "Validation: |          | 0/? [00:00<?, ?it/s]"
      ]
     },
     "metadata": {},
     "output_type": "display_data"
    },
    {
     "data": {
      "application/vnd.jupyter.widget-view+json": {
       "model_id": "84a8d893347a4191936962616ca1d2bd",
       "version_major": 2,
       "version_minor": 0
      },
      "text/plain": [
       "Validation: |          | 0/? [00:00<?, ?it/s]"
      ]
     },
     "metadata": {},
     "output_type": "display_data"
    },
    {
     "data": {
      "application/vnd.jupyter.widget-view+json": {
       "model_id": "54a6084504044667aa729f0369c221ac",
       "version_major": 2,
       "version_minor": 0
      },
      "text/plain": [
       "Validation: |          | 0/? [00:00<?, ?it/s]"
      ]
     },
     "metadata": {},
     "output_type": "display_data"
    },
    {
     "data": {
      "application/vnd.jupyter.widget-view+json": {
       "model_id": "26bfa23d29354f0bb7336bdba1dcfc47",
       "version_major": 2,
       "version_minor": 0
      },
      "text/plain": [
       "Validation: |          | 0/? [00:00<?, ?it/s]"
      ]
     },
     "metadata": {},
     "output_type": "display_data"
    },
    {
     "data": {
      "application/vnd.jupyter.widget-view+json": {
       "model_id": "d8d91426fc34405895cdb52586e8cb7e",
       "version_major": 2,
       "version_minor": 0
      },
      "text/plain": [
       "Validation: |          | 0/? [00:00<?, ?it/s]"
      ]
     },
     "metadata": {},
     "output_type": "display_data"
    },
    {
     "data": {
      "application/vnd.jupyter.widget-view+json": {
       "model_id": "c07882f6fe744881b6e29ed1791e16b1",
       "version_major": 2,
       "version_minor": 0
      },
      "text/plain": [
       "Validation: |          | 0/? [00:00<?, ?it/s]"
      ]
     },
     "metadata": {},
     "output_type": "display_data"
    },
    {
     "data": {
      "application/vnd.jupyter.widget-view+json": {
       "model_id": "106ea690d7ac4fe4892f1548b3877951",
       "version_major": 2,
       "version_minor": 0
      },
      "text/plain": [
       "Validation: |          | 0/? [00:00<?, ?it/s]"
      ]
     },
     "metadata": {},
     "output_type": "display_data"
    },
    {
     "data": {
      "application/vnd.jupyter.widget-view+json": {
       "model_id": "e7f12f4ede9840ee91807f1980255c65",
       "version_major": 2,
       "version_minor": 0
      },
      "text/plain": [
       "Validation: |          | 0/? [00:00<?, ?it/s]"
      ]
     },
     "metadata": {},
     "output_type": "display_data"
    },
    {
     "data": {
      "application/vnd.jupyter.widget-view+json": {
       "model_id": "b0041773aaa34e52b9efd0cc0a7bc6ee",
       "version_major": 2,
       "version_minor": 0
      },
      "text/plain": [
       "Validation: |          | 0/? [00:00<?, ?it/s]"
      ]
     },
     "metadata": {},
     "output_type": "display_data"
    },
    {
     "data": {
      "application/vnd.jupyter.widget-view+json": {
       "model_id": "f392f3bedba349af953730711e8635fc",
       "version_major": 2,
       "version_minor": 0
      },
      "text/plain": [
       "Validation: |          | 0/? [00:00<?, ?it/s]"
      ]
     },
     "metadata": {},
     "output_type": "display_data"
    },
    {
     "data": {
      "application/vnd.jupyter.widget-view+json": {
       "model_id": "85020dfac6e44c649cadc2aa08e17d5a",
       "version_major": 2,
       "version_minor": 0
      },
      "text/plain": [
       "Validation: |          | 0/? [00:00<?, ?it/s]"
      ]
     },
     "metadata": {},
     "output_type": "display_data"
    },
    {
     "data": {
      "application/vnd.jupyter.widget-view+json": {
       "model_id": "e3609c3e6fd14ea5b2d9612f7bcf8ade",
       "version_major": 2,
       "version_minor": 0
      },
      "text/plain": [
       "Validation: |          | 0/? [00:00<?, ?it/s]"
      ]
     },
     "metadata": {},
     "output_type": "display_data"
    },
    {
     "data": {
      "application/vnd.jupyter.widget-view+json": {
       "model_id": "c74cf1774b8a4b948db635653ad6546b",
       "version_major": 2,
       "version_minor": 0
      },
      "text/plain": [
       "Validation: |          | 0/? [00:00<?, ?it/s]"
      ]
     },
     "metadata": {},
     "output_type": "display_data"
    },
    {
     "data": {
      "application/vnd.jupyter.widget-view+json": {
       "model_id": "347b648636b942559081d3986d12bc42",
       "version_major": 2,
       "version_minor": 0
      },
      "text/plain": [
       "Validation: |          | 0/? [00:00<?, ?it/s]"
      ]
     },
     "metadata": {},
     "output_type": "display_data"
    },
    {
     "data": {
      "application/vnd.jupyter.widget-view+json": {
       "model_id": "a5910e17122744c0929e005d3862c176",
       "version_major": 2,
       "version_minor": 0
      },
      "text/plain": [
       "Validation: |          | 0/? [00:00<?, ?it/s]"
      ]
     },
     "metadata": {},
     "output_type": "display_data"
    },
    {
     "data": {
      "application/vnd.jupyter.widget-view+json": {
       "model_id": "8a14000b8cb74e5cb10cc16aa6ac19a6",
       "version_major": 2,
       "version_minor": 0
      },
      "text/plain": [
       "Validation: |          | 0/? [00:00<?, ?it/s]"
      ]
     },
     "metadata": {},
     "output_type": "display_data"
    },
    {
     "data": {
      "application/vnd.jupyter.widget-view+json": {
       "model_id": "aadba140406f4e4f8aac73246a956121",
       "version_major": 2,
       "version_minor": 0
      },
      "text/plain": [
       "Validation: |          | 0/? [00:00<?, ?it/s]"
      ]
     },
     "metadata": {},
     "output_type": "display_data"
    },
    {
     "data": {
      "application/vnd.jupyter.widget-view+json": {
       "model_id": "9879e1231321461e83b84b316e39d233",
       "version_major": 2,
       "version_minor": 0
      },
      "text/plain": [
       "Validation: |          | 0/? [00:00<?, ?it/s]"
      ]
     },
     "metadata": {},
     "output_type": "display_data"
    },
    {
     "data": {
      "application/vnd.jupyter.widget-view+json": {
       "model_id": "3d0f0bdfecac41fa8bca04948c611508",
       "version_major": 2,
       "version_minor": 0
      },
      "text/plain": [
       "Validation: |          | 0/? [00:00<?, ?it/s]"
      ]
     },
     "metadata": {},
     "output_type": "display_data"
    },
    {
     "data": {
      "application/vnd.jupyter.widget-view+json": {
       "model_id": "d691218fc88b468d9ec3bb9aa1d7dc72",
       "version_major": 2,
       "version_minor": 0
      },
      "text/plain": [
       "Validation: |          | 0/? [00:00<?, ?it/s]"
      ]
     },
     "metadata": {},
     "output_type": "display_data"
    },
    {
     "data": {
      "application/vnd.jupyter.widget-view+json": {
       "model_id": "a31da48ec54341679e4f3e7aaada2a19",
       "version_major": 2,
       "version_minor": 0
      },
      "text/plain": [
       "Validation: |          | 0/? [00:00<?, ?it/s]"
      ]
     },
     "metadata": {},
     "output_type": "display_data"
    },
    {
     "data": {
      "application/vnd.jupyter.widget-view+json": {
       "model_id": "b85925e570374d93897282fb84430dc8",
       "version_major": 2,
       "version_minor": 0
      },
      "text/plain": [
       "Validation: |          | 0/? [00:00<?, ?it/s]"
      ]
     },
     "metadata": {},
     "output_type": "display_data"
    },
    {
     "data": {
      "application/vnd.jupyter.widget-view+json": {
       "model_id": "9bc5336e758f44aeae1b9343441402ef",
       "version_major": 2,
       "version_minor": 0
      },
      "text/plain": [
       "Validation: |          | 0/? [00:00<?, ?it/s]"
      ]
     },
     "metadata": {},
     "output_type": "display_data"
    },
    {
     "data": {
      "application/vnd.jupyter.widget-view+json": {
       "model_id": "a2f89b547ec947f5bda2aff26eb38b7c",
       "version_major": 2,
       "version_minor": 0
      },
      "text/plain": [
       "Validation: |          | 0/? [00:00<?, ?it/s]"
      ]
     },
     "metadata": {},
     "output_type": "display_data"
    },
    {
     "data": {
      "application/vnd.jupyter.widget-view+json": {
       "model_id": "694da24d16c94687b00f84e1d4c12aed",
       "version_major": 2,
       "version_minor": 0
      },
      "text/plain": [
       "Validation: |          | 0/? [00:00<?, ?it/s]"
      ]
     },
     "metadata": {},
     "output_type": "display_data"
    },
    {
     "data": {
      "application/vnd.jupyter.widget-view+json": {
       "model_id": "4286f2b9e15d4164879d6db365ac9707",
       "version_major": 2,
       "version_minor": 0
      },
      "text/plain": [
       "Validation: |          | 0/? [00:00<?, ?it/s]"
      ]
     },
     "metadata": {},
     "output_type": "display_data"
    },
    {
     "data": {
      "application/vnd.jupyter.widget-view+json": {
       "model_id": "deb5fc3de174498da7f165da63b08ae9",
       "version_major": 2,
       "version_minor": 0
      },
      "text/plain": [
       "Validation: |          | 0/? [00:00<?, ?it/s]"
      ]
     },
     "metadata": {},
     "output_type": "display_data"
    },
    {
     "data": {
      "application/vnd.jupyter.widget-view+json": {
       "model_id": "a02aac97448745c294b65c308083b889",
       "version_major": 2,
       "version_minor": 0
      },
      "text/plain": [
       "Validation: |          | 0/? [00:00<?, ?it/s]"
      ]
     },
     "metadata": {},
     "output_type": "display_data"
    },
    {
     "data": {
      "application/vnd.jupyter.widget-view+json": {
       "model_id": "c2bf89ab454748eb84d7a905e768ca72",
       "version_major": 2,
       "version_minor": 0
      },
      "text/plain": [
       "Validation: |          | 0/? [00:00<?, ?it/s]"
      ]
     },
     "metadata": {},
     "output_type": "display_data"
    },
    {
     "data": {
      "application/vnd.jupyter.widget-view+json": {
       "model_id": "6f0954893b4143e5b4df3a59038a4410",
       "version_major": 2,
       "version_minor": 0
      },
      "text/plain": [
       "Validation: |          | 0/? [00:00<?, ?it/s]"
      ]
     },
     "metadata": {},
     "output_type": "display_data"
    },
    {
     "data": {
      "application/vnd.jupyter.widget-view+json": {
       "model_id": "5ea68510495047028850e11dbeaa6a08",
       "version_major": 2,
       "version_minor": 0
      },
      "text/plain": [
       "Validation: |          | 0/? [00:00<?, ?it/s]"
      ]
     },
     "metadata": {},
     "output_type": "display_data"
    },
    {
     "data": {
      "application/vnd.jupyter.widget-view+json": {
       "model_id": "7bf9405d3f684f00b6e4dfad33086f13",
       "version_major": 2,
       "version_minor": 0
      },
      "text/plain": [
       "Validation: |          | 0/? [00:00<?, ?it/s]"
      ]
     },
     "metadata": {},
     "output_type": "display_data"
    },
    {
     "data": {
      "application/vnd.jupyter.widget-view+json": {
       "model_id": "d05823cd76854880a365e48063e86598",
       "version_major": 2,
       "version_minor": 0
      },
      "text/plain": [
       "Validation: |          | 0/? [00:00<?, ?it/s]"
      ]
     },
     "metadata": {},
     "output_type": "display_data"
    },
    {
     "data": {
      "application/vnd.jupyter.widget-view+json": {
       "model_id": "9233f7e432ae4ad29f33ccf17d5b9ffd",
       "version_major": 2,
       "version_minor": 0
      },
      "text/plain": [
       "Validation: |          | 0/? [00:00<?, ?it/s]"
      ]
     },
     "metadata": {},
     "output_type": "display_data"
    },
    {
     "data": {
      "application/vnd.jupyter.widget-view+json": {
       "model_id": "154fb0475967482c8705ce7fc39d7ae3",
       "version_major": 2,
       "version_minor": 0
      },
      "text/plain": [
       "Validation: |          | 0/? [00:00<?, ?it/s]"
      ]
     },
     "metadata": {},
     "output_type": "display_data"
    },
    {
     "data": {
      "application/vnd.jupyter.widget-view+json": {
       "model_id": "757ab23525114055ba5976a65b664773",
       "version_major": 2,
       "version_minor": 0
      },
      "text/plain": [
       "Validation: |          | 0/? [00:00<?, ?it/s]"
      ]
     },
     "metadata": {},
     "output_type": "display_data"
    },
    {
     "data": {
      "application/vnd.jupyter.widget-view+json": {
       "model_id": "eeadb71c59344290917f9e2d8a43d48d",
       "version_major": 2,
       "version_minor": 0
      },
      "text/plain": [
       "Validation: |          | 0/? [00:00<?, ?it/s]"
      ]
     },
     "metadata": {},
     "output_type": "display_data"
    },
    {
     "data": {
      "application/vnd.jupyter.widget-view+json": {
       "model_id": "20aaa00b2f0d49728780b673393c4fc2",
       "version_major": 2,
       "version_minor": 0
      },
      "text/plain": [
       "Validation: |          | 0/? [00:00<?, ?it/s]"
      ]
     },
     "metadata": {},
     "output_type": "display_data"
    },
    {
     "data": {
      "application/vnd.jupyter.widget-view+json": {
       "model_id": "4a0dd1bcbe334ce4bc7ead083f622ff4",
       "version_major": 2,
       "version_minor": 0
      },
      "text/plain": [
       "Validation: |          | 0/? [00:00<?, ?it/s]"
      ]
     },
     "metadata": {},
     "output_type": "display_data"
    },
    {
     "data": {
      "application/vnd.jupyter.widget-view+json": {
       "model_id": "20be11582f3d4656926cb018569fd883",
       "version_major": 2,
       "version_minor": 0
      },
      "text/plain": [
       "Validation: |          | 0/? [00:00<?, ?it/s]"
      ]
     },
     "metadata": {},
     "output_type": "display_data"
    },
    {
     "data": {
      "application/vnd.jupyter.widget-view+json": {
       "model_id": "7c8e73e1326541239ad467205c8974e5",
       "version_major": 2,
       "version_minor": 0
      },
      "text/plain": [
       "Validation: |          | 0/? [00:00<?, ?it/s]"
      ]
     },
     "metadata": {},
     "output_type": "display_data"
    },
    {
     "data": {
      "application/vnd.jupyter.widget-view+json": {
       "model_id": "d638604c6ac04a29b8029fa27af5af26",
       "version_major": 2,
       "version_minor": 0
      },
      "text/plain": [
       "Validation: |          | 0/? [00:00<?, ?it/s]"
      ]
     },
     "metadata": {},
     "output_type": "display_data"
    },
    {
     "data": {
      "application/vnd.jupyter.widget-view+json": {
       "model_id": "5bd247f2c8c44e9f999262f81b21019f",
       "version_major": 2,
       "version_minor": 0
      },
      "text/plain": [
       "Validation: |          | 0/? [00:00<?, ?it/s]"
      ]
     },
     "metadata": {},
     "output_type": "display_data"
    },
    {
     "data": {
      "application/vnd.jupyter.widget-view+json": {
       "model_id": "e1763d797682498989fe2f5187748452",
       "version_major": 2,
       "version_minor": 0
      },
      "text/plain": [
       "Validation: |          | 0/? [00:00<?, ?it/s]"
      ]
     },
     "metadata": {},
     "output_type": "display_data"
    },
    {
     "data": {
      "application/vnd.jupyter.widget-view+json": {
       "model_id": "800b71750d9f49c1bb6a7a2621368988",
       "version_major": 2,
       "version_minor": 0
      },
      "text/plain": [
       "Validation: |          | 0/? [00:00<?, ?it/s]"
      ]
     },
     "metadata": {},
     "output_type": "display_data"
    },
    {
     "data": {
      "application/vnd.jupyter.widget-view+json": {
       "model_id": "c4809bcd744841408271a8e3d0f129dc",
       "version_major": 2,
       "version_minor": 0
      },
      "text/plain": [
       "Validation: |          | 0/? [00:00<?, ?it/s]"
      ]
     },
     "metadata": {},
     "output_type": "display_data"
    },
    {
     "data": {
      "application/vnd.jupyter.widget-view+json": {
       "model_id": "0da5104e85524477950a9e8e120cea96",
       "version_major": 2,
       "version_minor": 0
      },
      "text/plain": [
       "Validation: |          | 0/? [00:00<?, ?it/s]"
      ]
     },
     "metadata": {},
     "output_type": "display_data"
    }
   ],
   "source": [
    "trainer.fit(model, train_loader, val_loader)"
   ]
  },
  {
   "cell_type": "markdown",
   "metadata": {},
   "source": [
    "# Evaluation"
   ]
  },
  {
   "cell_type": "markdown",
   "metadata": {},
   "source": [
    "Once the model is done training, we can turn to evaluation.\n",
    "\n",
    "First, let's still use the trainer to see the poisson and correlation performance on each of the dataloaders."
   ]
  },
  {
   "cell_type": "code",
   "execution_count": 28,
   "metadata": {},
   "outputs": [
    {
     "name": "stderr",
     "output_type": "stream",
     "text": [
      "Restoring states from the checkpoint path at /Data/openretina_assets/runs/notebook_example/tensorboard/version_4/checkpoints/epoch=40-step=5494.ckpt\n"
     ]
    },
    {
     "name": "stderr",
     "output_type": "stream",
     "text": [
      "LOCAL_RANK: 0 - CUDA_VISIBLE_DEVICES: [0]\n",
      "Loaded model weights from the checkpoint at /Data/openretina_assets/runs/notebook_example/tensorboard/version_4/checkpoints/epoch=40-step=5494.ckpt\n"
     ]
    },
    {
     "data": {
      "application/vnd.jupyter.widget-view+json": {
       "model_id": "ba35cdc712bf42d08250aeb3ba278195",
       "version_major": 2,
       "version_minor": 0
      },
      "text/plain": [
       "Testing: |          | 0/? [00:00<?, ?it/s]"
      ]
     },
     "metadata": {},
     "output_type": "display_data"
    },
    {
     "data": {
      "text/html": [
       "<pre style=\"white-space:pre;overflow-x:auto;line-height:normal;font-family:Menlo,'DejaVu Sans Mono',consolas,'Courier New',monospace\">┏━━━━━━━━━━━━━━━━━━━━━━━━━━━┳━━━━━━━━━━━━━━━━━━━━━━━━━━━┳━━━━━━━━━━━━━━━━━━━━━━━━━━━┳━━━━━━━━━━━━━━━━━━━━━━━━━━━┓\n",
       "┃<span style=\"font-weight: bold\">        Test metric        </span>┃<span style=\"font-weight: bold\">       DataLoader 0        </span>┃<span style=\"font-weight: bold\">       DataLoader 1        </span>┃<span style=\"font-weight: bold\">       DataLoader 2        </span>┃\n",
       "┡━━━━━━━━━━━━━━━━━━━━━━━━━━━╇━━━━━━━━━━━━━━━━━━━━━━━━━━━╇━━━━━━━━━━━━━━━━━━━━━━━━━━━╇━━━━━━━━━━━━━━━━━━━━━━━━━━━┩\n",
       "│<span style=\"color: #008080; text-decoration-color: #008080\">     test_correlation      </span>│<span style=\"color: #800080; text-decoration-color: #800080\">    0.21147805452346802    </span>│<span style=\"color: #800080; text-decoration-color: #800080\">    0.25337186455726624    </span>│<span style=\"color: #800080; text-decoration-color: #800080\">    0.4874879717826843     </span>│\n",
       "│<span style=\"color: #008080; text-decoration-color: #008080\">         test_loss         </span>│<span style=\"color: #800080; text-decoration-color: #800080\">     643.5421752929688     </span>│<span style=\"color: #800080; text-decoration-color: #800080\">     359.7204284667969     </span>│<span style=\"color: #800080; text-decoration-color: #800080\">    34.933284759521484     </span>│\n",
       "└───────────────────────────┴───────────────────────────┴───────────────────────────┴───────────────────────────┘\n",
       "</pre>\n"
      ],
      "text/plain": [
       "┏━━━━━━━━━━━━━━━━━━━━━━━━━━━┳━━━━━━━━━━━━━━━━━━━━━━━━━━━┳━━━━━━━━━━━━━━━━━━━━━━━━━━━┳━━━━━━━━━━━━━━━━━━━━━━━━━━━┓\n",
       "┃\u001b[1m \u001b[0m\u001b[1m       Test metric       \u001b[0m\u001b[1m \u001b[0m┃\u001b[1m \u001b[0m\u001b[1m      DataLoader 0       \u001b[0m\u001b[1m \u001b[0m┃\u001b[1m \u001b[0m\u001b[1m      DataLoader 1       \u001b[0m\u001b[1m \u001b[0m┃\u001b[1m \u001b[0m\u001b[1m      DataLoader 2       \u001b[0m\u001b[1m \u001b[0m┃\n",
       "┡━━━━━━━━━━━━━━━━━━━━━━━━━━━╇━━━━━━━━━━━━━━━━━━━━━━━━━━━╇━━━━━━━━━━━━━━━━━━━━━━━━━━━╇━━━━━━━━━━━━━━━━━━━━━━━━━━━┩\n",
       "│\u001b[36m \u001b[0m\u001b[36m    test_correlation     \u001b[0m\u001b[36m \u001b[0m│\u001b[35m \u001b[0m\u001b[35m   0.21147805452346802   \u001b[0m\u001b[35m \u001b[0m│\u001b[35m \u001b[0m\u001b[35m   0.25337186455726624   \u001b[0m\u001b[35m \u001b[0m│\u001b[35m \u001b[0m\u001b[35m   0.4874879717826843    \u001b[0m\u001b[35m \u001b[0m│\n",
       "│\u001b[36m \u001b[0m\u001b[36m        test_loss        \u001b[0m\u001b[36m \u001b[0m│\u001b[35m \u001b[0m\u001b[35m    643.5421752929688    \u001b[0m\u001b[35m \u001b[0m│\u001b[35m \u001b[0m\u001b[35m    359.7204284667969    \u001b[0m\u001b[35m \u001b[0m│\u001b[35m \u001b[0m\u001b[35m   34.933284759521484    \u001b[0m\u001b[35m \u001b[0m│\n",
       "└───────────────────────────┴───────────────────────────┴───────────────────────────┴───────────────────────────┘\n"
      ]
     },
     "metadata": {},
     "output_type": "display_data"
    },
    {
     "data": {
      "text/plain": [
       "[{'test_loss/dataloader_idx_0': 643.5421752929688,\n",
       "  'test_correlation/dataloader_idx_0': 0.21147805452346802},\n",
       " {'test_loss/dataloader_idx_1': 359.7204284667969,\n",
       "  'test_correlation/dataloader_idx_1': 0.25337186455726624},\n",
       " {'test_loss/dataloader_idx_2': 34.933284759521484,\n",
       "  'test_correlation/dataloader_idx_2': 0.4874879717826843}]"
      ]
     },
     "execution_count": 28,
     "metadata": {},
     "output_type": "execute_result"
    }
   ],
   "source": [
    "test_loader = ShortCycler(dataloaders[\"test\"])\n",
    "trainer.test(model, dataloaders=[train_loader, val_loader, test_loader], ckpt_path=\"best\")"
   ]
  },
  {
   "cell_type": "markdown",
   "metadata": {},
   "source": [
    "We can also look at further evals, like the fraction of explainable variance explained for an example session."
   ]
  },
  {
   "cell_type": "code",
   "execution_count": 29,
   "metadata": {},
   "outputs": [
    {
     "data": {
      "text/plain": [
       "(80, 750, 3)"
      ]
     },
     "execution_count": 29,
     "metadata": {},
     "output_type": "execute_result"
    }
   ],
   "source": [
    "# Let's pick an example session\n",
    "example_session = list(final_responses.keys())[0]\n",
    "\n",
    "# Extract responses by trial:\n",
    "responses_by_trial = final_responses[example_session].test_by_trial\n",
    "\n",
    "responses_by_trial.shape"
   ]
  },
  {
   "cell_type": "code",
   "execution_count": 30,
   "metadata": {},
   "outputs": [
    {
     "data": {
      "text/plain": [
       "torch.Size([1, 730, 80])"
      ]
     },
     "execution_count": 30,
     "metadata": {},
     "output_type": "execute_result"
    }
   ],
   "source": [
    "# Get the test movie for that session:\n",
    "test_movie = dataloaders[\"test\"][example_session].dataset.movies\n",
    "\n",
    "# Pass it through the model: move to gpu and add batch dimension\n",
    "with torch.no_grad():\n",
    "    model_predictions = model.forward(test_movie.to(model.device).unsqueeze(0), data_key=example_session)\n",
    "\n",
    "model_predictions.shape"
   ]
  },
  {
   "cell_type": "code",
   "execution_count": 31,
   "metadata": {},
   "outputs": [
    {
     "name": "stdout",
     "output_type": "stream",
     "text": [
      "Help on function feve in module openretina.eval.metrics:\n",
      "\n",
      "feve(targets: jaxtyping.Float[ndarray, 'frames repeats neurons'], predictions: jaxtyping.Float[ndarray, 'frames repeats neurons'] | jaxtyping.Float[ndarray, 'frames neurons']) -> jaxtyping.Float[ndarray, ' neurons']\n",
      "    Adapted from neuralpredictors.\n",
      "    Compute the fraction of explainable variance explained per neuron\n",
      "    \n",
      "    Args:\n",
      "        targets (array-like): Neuron responses (ground truth) over time / different images across repetitions.\n",
      "        Dimensions: np.array(images/time, num_repeats, num_neurons)\n",
      "        predictions (array-like): Model predictions to the repeated images, either including or excluding\n",
      "        repetitions. Dimensions: np.array(images/time, num_repeats, num_neurons) or np.array(images/time, num_neurons)\n",
      "    Returns:\n",
      "        FEVe (np.array): the fraction of explainable variance explained per neuron\n",
      "\n"
     ]
    }
   ],
   "source": [
    "help(feve)"
   ]
  },
  {
   "cell_type": "code",
   "execution_count": 45,
   "metadata": {},
   "outputs": [
    {
     "name": "stdout",
     "output_type": "stream",
     "text": [
      "Average FEVe score for session session_1_ventral1_20200226: 0.39\n"
     ]
    }
   ],
   "source": [
    "# We need to reshape the predictions and responses by trial to match what the function expects\n",
    "\n",
    "feve_score = feve(\n",
    "    rearrange(responses_by_trial, \"neurons time trials -> time trials neurons\")[20:],\n",
    "    model_predictions.squeeze(0).cpu().numpy(),\n",
    ")\n",
    "\n",
    "print(f\"Average FEVe score for session {example_session}: {feve_score.mean():.2f}\")"
   ]
  },
  {
   "cell_type": "markdown",
   "metadata": {},
   "source": [
    "Finally, we can plot an example neuron's predictions and its ground truth response."
   ]
  },
  {
   "cell_type": "code",
   "execution_count": 48,
   "metadata": {},
   "outputs": [
    {
     "data": {
      "image/png": "[encoded data removed]",
      "text/plain": [
       "<Figure size 1000x500 with 1 Axes>"
      ]
     },
     "metadata": {
      "image/png": {
       "height": 478,
       "width": 826
      }
     },
     "output_type": "display_data"
    }
   ],
   "source": [
    "neuron_idx = 4\n",
    "session_idx = 0\n",
    "\n",
    "\n",
    "example_session = list(final_responses.keys())[session_idx]\n",
    "\n",
    "test_sample = next(iter(dataloaders[\"test\"][example_session]))\n",
    "responses_by_trial = final_responses[example_session].test_by_trial\n",
    "mean_test_responses = final_responses[example_session].test\n",
    "\n",
    "input_samples = test_sample.inputs\n",
    "targets = test_sample.targets\n",
    "\n",
    "model.eval()\n",
    "model.cpu()\n",
    "\n",
    "with torch.no_grad():\n",
    "    reconstructions = model(input_samples.cpu(), example_session)\n",
    "reconstructions = reconstructions.cpu().numpy().squeeze()\n",
    "\n",
    "feve_score = feve(\n",
    "    rearrange(responses_by_trial, \"neurons time trials -> time trials neurons\")[20:],\n",
    "    model_predictions.squeeze(0).cpu().numpy(),\n",
    ")\n",
    "\n",
    "correlations = correlation_numpy(mean_test_responses.T[20:], model_predictions.squeeze(0).cpu().numpy(), axis=0)\n",
    "\n",
    "\n",
    "targets = targets.cpu().numpy().squeeze()\n",
    "window = 750\n",
    "plt.figure(figsize=(10, 5))\n",
    "plt.plot(np.arange(0, window), targets[:window, neuron_idx], label=\"target\")\n",
    "plt.plot(np.arange(20, window), reconstructions[:window, neuron_idx], label=\"prediction\")\n",
    "plt.suptitle(f\"Neuron {neuron_idx} - FEVE: {feve_score[neuron_idx]:.2f} - Correlation: {correlations[neuron_idx]:.2f}\")\n",
    "\n",
    "plt.legend()\n",
    "sns.despine()"
   ]
  },
  {
   "cell_type": "markdown",
   "metadata": {},
   "source": [
    "---"
   ]
  }
 ],
 "metadata": {
  "kernelspec": {
   "display_name": "base",
   "language": "python",
   "name": "python3"
  },
  "language_info": {
   "codemirror_mode": {
    "name": "ipython",
    "version": 3
   },
   "file_extension": ".py",
   "mimetype": "text/x-python",
   "name": "python",
   "nbconvert_exporter": "python",
   "pygments_lexer": "ipython3",
   "version": "3.10.13"
  }
 },
 "nbformat": 4,
 "nbformat_minor": 2
}
